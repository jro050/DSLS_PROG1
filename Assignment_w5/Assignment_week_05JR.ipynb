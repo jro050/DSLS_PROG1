{
 "cells": [
  {
   "cell_type": "markdown",
   "metadata": {},
   "source": [
    "## Assignment week 05: Sleeping habits\n",
    "\n",
    "Welcome to **week five** of this course programming 1. You will learn about analysing data with pandas and numpy and you will learn to visualize with bokeh. Concretely, you will preprocess the Sleep Study data in an appropiate format in order to conduct statistical and visual analysis. Learning outcomes:\n",
    "\n",
    "\n",
    "## About the data\n",
    "\n",
    "The data is collected from a survey-based study of the sleeping habits of individuals within the US. \n",
    "\n",
    "Below is a description of each of the variables contained within the dataset.\n",
    "\n",
    "- Enough = Do you think that you get enough sleep?\n",
    "- Hours = On average, how many hours of sleep do you get on a weeknight?\n",
    "- PhoneReach = Do you sleep with your phone within arms reach?\n",
    "- PhoneTime = Do you use your phone within 30 minutes of falling asleep?\n",
    "- Tired = On a scale from 1 to 5, how tired are you throughout the day? (1 being not tired, 5 being very tired)\n",
    "- Breakfast = Do you typically eat breakfast?\n",
    "\n",
    "The two research questions you should answer in this assignment are:\n",
    "1. Is there a differences in Hours sleep caused by having breakfast (yes, no)?\n",
    "2. Is there a differences in Hours sleep caused by having breakfast and the tireness (score)\n",
    "\n",
    "\n",
    "The assignment consists of 6 parts:\n",
    "\n",
    "- [part 1: load the data](#0)\n",
    "- [part 2: data inspection](#1)\n",
    "- [part 3: check assumptions](#2)\n",
    "   - [check normality 3.1](#ex-31)\n",
    "   - [check equal variance 3.2](#ex-32)\n",
    "- [part 4: prepare the data](#3)\n",
    "- [part 5: answer the research question](#4)\n",
    "- [part 6: enhanced plotting](#5)\n",
    "\n",
    "Part 1 till 5 are mandatory, part 6 is optional (bonus)\n",
    "To pass the assingnment you need to a score of 60%. \n",
    "\n",
    "\n",
    "**NOTE If your project data is suitable you can use that data instead of the given data**"
   ]
  },
  {
   "cell_type": "markdown",
   "metadata": {},
   "source": [
    "## ANOVA\n",
    "\n",
    "Analysis of variance (ANOVA) compares the variances between groups versus within groups. It basically determines whether the differences between groups is larger than the differences within a group (the noise). \n",
    "A graph picturing this is as follow: https://link.springer.com/article/10.1007/s00424-019-02300-4/figures/2\n",
    "\n",
    "\n",
    "In ANOVA, the dependent variable must be a continuous (interval or ratio) level of measurement. For instance Glucose level. The independent variables in ANOVA must be categorical (nominal or ordinal) variables. For instance trial category, time of day (AM versus PM) or time of trial (different categories). Like the t-test, ANOVA is also a parametric test and has some assumptions. ANOVA assumes that the data is normally distributed.  The ANOVA also assumes homogeneity of variance, which means that the variance among the groups should be approximately equal. ANOVA also assumes that the observations are independent of each other. \n",
    "\n",
    "A one-way ANOVA has just one independent variable. A two-way ANOVA (are also called factorial ANOVA) refers to an ANOVA using two independent variables. For research question 1 we can use the one-way ANOVA, for research question two we can use two-way ANOVA. But first we need to check the assumptions. \n"
   ]
  },
  {
   "cell_type": "markdown",
   "metadata": {},
   "source": [
    "---"
   ]
  },
  {
   "cell_type": "markdown",
   "metadata": {},
   "source": [
    "<a name='0'></a>\n",
    "## Part 1: Load the data (10 pt)\n",
    "\n",
    "load the `sleep.csv` data. Get yourself familiar with the data. Answer the following questions.\n",
    "\n",
    "1. What is the percentage missing data?\n",
    "2. Considering the research question, what is the dependent variable and what are the indepent variables? Are they of the correct datatype? "
   ]
  },
  {
   "cell_type": "code",
   "execution_count": 249,
   "metadata": {},
   "outputs": [
    {
     "data": {
      "text/html": [
       "<div>\n",
       "<style scoped>\n",
       "    .dataframe tbody tr th:only-of-type {\n",
       "        vertical-align: middle;\n",
       "    }\n",
       "\n",
       "    .dataframe tbody tr th {\n",
       "        vertical-align: top;\n",
       "    }\n",
       "\n",
       "    .dataframe thead th {\n",
       "        text-align: right;\n",
       "    }\n",
       "</style>\n",
       "<table border=\"1\" class=\"dataframe\">\n",
       "  <thead>\n",
       "    <tr style=\"text-align: right;\">\n",
       "      <th></th>\n",
       "      <th>Enough</th>\n",
       "      <th>Hours</th>\n",
       "      <th>PhoneReach</th>\n",
       "      <th>PhoneTime</th>\n",
       "      <th>Tired</th>\n",
       "      <th>Breakfast</th>\n",
       "    </tr>\n",
       "  </thead>\n",
       "  <tbody>\n",
       "    <tr>\n",
       "      <th>0</th>\n",
       "      <td>Yes</td>\n",
       "      <td>8.0</td>\n",
       "      <td>Yes</td>\n",
       "      <td>Yes</td>\n",
       "      <td>3</td>\n",
       "      <td>Yes</td>\n",
       "    </tr>\n",
       "    <tr>\n",
       "      <th>1</th>\n",
       "      <td>No</td>\n",
       "      <td>6.0</td>\n",
       "      <td>Yes</td>\n",
       "      <td>Yes</td>\n",
       "      <td>3</td>\n",
       "      <td>No</td>\n",
       "    </tr>\n",
       "    <tr>\n",
       "      <th>2</th>\n",
       "      <td>Yes</td>\n",
       "      <td>6.0</td>\n",
       "      <td>Yes</td>\n",
       "      <td>Yes</td>\n",
       "      <td>2</td>\n",
       "      <td>Yes</td>\n",
       "    </tr>\n",
       "    <tr>\n",
       "      <th>3</th>\n",
       "      <td>No</td>\n",
       "      <td>7.0</td>\n",
       "      <td>Yes</td>\n",
       "      <td>Yes</td>\n",
       "      <td>4</td>\n",
       "      <td>No</td>\n",
       "    </tr>\n",
       "    <tr>\n",
       "      <th>4</th>\n",
       "      <td>No</td>\n",
       "      <td>7.0</td>\n",
       "      <td>Yes</td>\n",
       "      <td>Yes</td>\n",
       "      <td>2</td>\n",
       "      <td>Yes</td>\n",
       "    </tr>\n",
       "  </tbody>\n",
       "</table>\n",
       "</div>"
      ],
      "text/plain": [
       "  Enough  Hours PhoneReach PhoneTime  Tired Breakfast\n",
       "0    Yes    8.0        Yes       Yes      3       Yes\n",
       "1     No    6.0        Yes       Yes      3        No\n",
       "2    Yes    6.0        Yes       Yes      2       Yes\n",
       "3     No    7.0        Yes       Yes      4        No\n",
       "4     No    7.0        Yes       Yes      2       Yes"
      ]
     },
     "execution_count": 249,
     "metadata": {},
     "output_type": "execute_result"
    }
   ],
   "source": [
    "import pandas as pd\n",
    "df = pd.read_csv(\"sleep.csv\")\n",
    "df.head()"
   ]
  },
  {
   "cell_type": "code",
   "execution_count": 250,
   "metadata": {},
   "outputs": [
    {
     "name": "stdout",
     "output_type": "stream",
     "text": [
      "Enough        0.000000\n",
      "Hours         1.923077\n",
      "PhoneReach    0.000000\n",
      "PhoneTime     0.000000\n",
      "Tired         0.000000\n",
      "Breakfast     0.000000\n",
      "dtype: float64\n"
     ]
    }
   ],
   "source": [
    "#code printing percentage missing data\n",
    "missing = df.isnull().sum() / len(df) *100\n",
    "print(missing)"
   ]
  },
  {
   "cell_type": "code",
   "execution_count": 251,
   "metadata": {},
   "outputs": [
    {
     "name": "stdout",
     "output_type": "stream",
     "text": [
      "The dependent variable is Hours, independent variables are Breakfast and Tired\n"
     ]
    }
   ],
   "source": [
    "#code printing answer dependent and independent variables\n",
    "print(\"The dependent variable is Hours, independent variables are Breakfast and Tired\")"
   ]
  },
  {
   "cell_type": "code",
   "execution_count": 252,
   "metadata": {},
   "outputs": [
    {
     "name": "stdout",
     "output_type": "stream",
     "text": [
      "<class 'pandas.core.frame.DataFrame'>\n",
      "RangeIndex: 104 entries, 0 to 103\n",
      "Data columns (total 6 columns):\n",
      " #   Column      Non-Null Count  Dtype  \n",
      "---  ------      --------------  -----  \n",
      " 0   Enough      104 non-null    object \n",
      " 1   Hours       102 non-null    float64\n",
      " 2   PhoneReach  104 non-null    object \n",
      " 3   PhoneTime   104 non-null    object \n",
      " 4   Tired       104 non-null    int64  \n",
      " 5   Breakfast   104 non-null    object \n",
      "dtypes: float64(1), int64(1), object(4)\n",
      "memory usage: 5.0+ KB\n",
      "\n",
      " Breakfast and Tired should be categorical variables\n"
     ]
    }
   ],
   "source": [
    "#code printing answer about datatypes\n",
    "df.info()\n",
    "print(\"\\n Breakfast and Tired should be categorical variables\")"
   ]
  },
  {
   "cell_type": "markdown",
   "metadata": {},
   "source": [
    "---"
   ]
  },
  {
   "cell_type": "markdown",
   "metadata": {},
   "source": [
    "<a name='1'></a>\n",
    "## Part 2: Inspect the data (30 pt)\n",
    "\n",
    "Inspect the data practically. Get an idea about how well the variable categories are ballanced. Are the values of a variable equally divided? What is the mean value of the dependent variable? Are there correlations amongs the variables?\n"
   ]
  },
  {
   "cell_type": "markdown",
   "metadata": {},
   "source": [
    "<ul>\n",
    "<li>Create some meaninful overviews such as variable value counts</li>\n",
    "<li>Create a scatter plot ploting the relation between being tired and hours of sleep with different colors for Breakfast</li>\n",
    "    <li>Print some basic statistics about the target (mean, standard deviation)</li>\n",
    "    <li>Create a heatmap to check for correlations among variables. </li>\n",
    "\n",
    "<details>    \n",
    "<summary>\n",
    "    <font size=\"3\" color=\"darkgreen\"><b>Hints</b></font>\n",
    "</summary>\n",
    "    <ul><li>the gitbook has a bokeh heatmap example</li></ul>\n",
    "</details>\n",
    "</ul>"
   ]
  },
  {
   "cell_type": "code",
   "execution_count": 253,
   "metadata": {},
   "outputs": [
    {
     "name": "stdout",
     "output_type": "stream",
     "text": [
      "Value count of the Tired variable\n",
      "3    40\n",
      "2    27\n",
      "4    23\n",
      "5    10\n",
      "1     4\n",
      "Name: Tired, dtype: int64\n",
      "\n",
      "\n",
      "Value count of the Hours variable\n",
      "7.0     35\n",
      "6.0     24\n",
      "8.0     16\n",
      "5.0     12\n",
      "9.0      8\n",
      "4.0      4\n",
      "2.0      2\n",
      "10.0     1\n",
      "Name: Hours, dtype: int64\n",
      "\n",
      "\n",
      "Value count of the Breakfast variable\n",
      "Yes    63\n",
      "No     41\n",
      "Name: Breakfast, dtype: int64\n",
      "\n",
      "\n",
      "Value count of the Breakfast&Tired variable\n",
      "Breakfast  Tired\n",
      "Yes        3        25\n",
      "           2        20\n",
      "No         3        15\n",
      "Yes        4        12\n",
      "No         4        11\n",
      "           2         7\n",
      "           5         7\n",
      "Yes        1         3\n",
      "           5         3\n",
      "No         1         1\n",
      "dtype: int64\n"
     ]
    }
   ],
   "source": [
    "#code your answer to the value counts and distribution plots here\n",
    "print(\"Value count of the Tired variable\")\n",
    "print(df[\"Tired\"].value_counts())\n",
    "print(\"\\n\")\n",
    "\n",
    "print(\"Value count of the Hours variable\")\n",
    "print(df[\"Hours\"].value_counts())\n",
    "print(\"\\n\")\n",
    "\n",
    "print(\"Value count of the Breakfast variable\")\n",
    "print(df[\"Breakfast\"].value_counts())\n",
    "print(\"\\n\")\n",
    "\n",
    "print(\"Value count of the Breakfast&Tired variable\")\n",
    "print(df[[\"Breakfast\",\"Tired\"]].value_counts())"
   ]
  },
  {
   "cell_type": "code",
   "execution_count": 254,
   "metadata": {},
   "outputs": [
    {
     "data": {
      "text/html": [
       "\n",
       "    <div class=\"bk-root\">\n",
       "        <a href=\"https://bokeh.org\" target=\"_blank\" class=\"bk-logo bk-logo-small bk-logo-notebook\"></a>\n",
       "        <span id=\"18381\">Loading BokehJS ...</span>\n",
       "    </div>"
      ]
     },
     "metadata": {},
     "output_type": "display_data"
    },
    {
     "data": {
      "application/javascript": [
       "\n",
       "(function(root) {\n",
       "  function now() {\n",
       "    return new Date();\n",
       "  }\n",
       "\n",
       "  const force = true;\n",
       "\n",
       "  if (typeof root._bokeh_onload_callbacks === \"undefined\" || force === true) {\n",
       "    root._bokeh_onload_callbacks = [];\n",
       "    root._bokeh_is_loading = undefined;\n",
       "  }\n",
       "\n",
       "  const JS_MIME_TYPE = 'application/javascript';\n",
       "  const HTML_MIME_TYPE = 'text/html';\n",
       "  const EXEC_MIME_TYPE = 'application/vnd.bokehjs_exec.v0+json';\n",
       "  const CLASS_NAME = 'output_bokeh rendered_html';\n",
       "\n",
       "  /**\n",
       "   * Render data to the DOM node\n",
       "   */\n",
       "  function render(props, node) {\n",
       "    const script = document.createElement(\"script\");\n",
       "    node.appendChild(script);\n",
       "  }\n",
       "\n",
       "  /**\n",
       "   * Handle when an output is cleared or removed\n",
       "   */\n",
       "  function handleClearOutput(event, handle) {\n",
       "    const cell = handle.cell;\n",
       "\n",
       "    const id = cell.output_area._bokeh_element_id;\n",
       "    const server_id = cell.output_area._bokeh_server_id;\n",
       "    // Clean up Bokeh references\n",
       "    if (id != null && id in Bokeh.index) {\n",
       "      Bokeh.index[id].model.document.clear();\n",
       "      delete Bokeh.index[id];\n",
       "    }\n",
       "\n",
       "    if (server_id !== undefined) {\n",
       "      // Clean up Bokeh references\n",
       "      const cmd_clean = \"from bokeh.io.state import curstate; print(curstate().uuid_to_server['\" + server_id + \"'].get_sessions()[0].document.roots[0]._id)\";\n",
       "      cell.notebook.kernel.execute(cmd_clean, {\n",
       "        iopub: {\n",
       "          output: function(msg) {\n",
       "            const id = msg.content.text.trim();\n",
       "            if (id in Bokeh.index) {\n",
       "              Bokeh.index[id].model.document.clear();\n",
       "              delete Bokeh.index[id];\n",
       "            }\n",
       "          }\n",
       "        }\n",
       "      });\n",
       "      // Destroy server and session\n",
       "      const cmd_destroy = \"import bokeh.io.notebook as ion; ion.destroy_server('\" + server_id + \"')\";\n",
       "      cell.notebook.kernel.execute(cmd_destroy);\n",
       "    }\n",
       "  }\n",
       "\n",
       "  /**\n",
       "   * Handle when a new output is added\n",
       "   */\n",
       "  function handleAddOutput(event, handle) {\n",
       "    const output_area = handle.output_area;\n",
       "    const output = handle.output;\n",
       "\n",
       "    // limit handleAddOutput to display_data with EXEC_MIME_TYPE content only\n",
       "    if ((output.output_type != \"display_data\") || (!Object.prototype.hasOwnProperty.call(output.data, EXEC_MIME_TYPE))) {\n",
       "      return\n",
       "    }\n",
       "\n",
       "    const toinsert = output_area.element.find(\".\" + CLASS_NAME.split(' ')[0]);\n",
       "\n",
       "    if (output.metadata[EXEC_MIME_TYPE][\"id\"] !== undefined) {\n",
       "      toinsert[toinsert.length - 1].firstChild.textContent = output.data[JS_MIME_TYPE];\n",
       "      // store reference to embed id on output_area\n",
       "      output_area._bokeh_element_id = output.metadata[EXEC_MIME_TYPE][\"id\"];\n",
       "    }\n",
       "    if (output.metadata[EXEC_MIME_TYPE][\"server_id\"] !== undefined) {\n",
       "      const bk_div = document.createElement(\"div\");\n",
       "      bk_div.innerHTML = output.data[HTML_MIME_TYPE];\n",
       "      const script_attrs = bk_div.children[0].attributes;\n",
       "      for (let i = 0; i < script_attrs.length; i++) {\n",
       "        toinsert[toinsert.length - 1].firstChild.setAttribute(script_attrs[i].name, script_attrs[i].value);\n",
       "        toinsert[toinsert.length - 1].firstChild.textContent = bk_div.children[0].textContent\n",
       "      }\n",
       "      // store reference to server id on output_area\n",
       "      output_area._bokeh_server_id = output.metadata[EXEC_MIME_TYPE][\"server_id\"];\n",
       "    }\n",
       "  }\n",
       "\n",
       "  function register_renderer(events, OutputArea) {\n",
       "\n",
       "    function append_mime(data, metadata, element) {\n",
       "      // create a DOM node to render to\n",
       "      const toinsert = this.create_output_subarea(\n",
       "        metadata,\n",
       "        CLASS_NAME,\n",
       "        EXEC_MIME_TYPE\n",
       "      );\n",
       "      this.keyboard_manager.register_events(toinsert);\n",
       "      // Render to node\n",
       "      const props = {data: data, metadata: metadata[EXEC_MIME_TYPE]};\n",
       "      render(props, toinsert[toinsert.length - 1]);\n",
       "      element.append(toinsert);\n",
       "      return toinsert\n",
       "    }\n",
       "\n",
       "    /* Handle when an output is cleared or removed */\n",
       "    events.on('clear_output.CodeCell', handleClearOutput);\n",
       "    events.on('delete.Cell', handleClearOutput);\n",
       "\n",
       "    /* Handle when a new output is added */\n",
       "    events.on('output_added.OutputArea', handleAddOutput);\n",
       "\n",
       "    /**\n",
       "     * Register the mime type and append_mime function with output_area\n",
       "     */\n",
       "    OutputArea.prototype.register_mime_type(EXEC_MIME_TYPE, append_mime, {\n",
       "      /* Is output safe? */\n",
       "      safe: true,\n",
       "      /* Index of renderer in `output_area.display_order` */\n",
       "      index: 0\n",
       "    });\n",
       "  }\n",
       "\n",
       "  // register the mime type if in Jupyter Notebook environment and previously unregistered\n",
       "  if (root.Jupyter !== undefined) {\n",
       "    const events = require('base/js/events');\n",
       "    const OutputArea = require('notebook/js/outputarea').OutputArea;\n",
       "\n",
       "    if (OutputArea.prototype.mime_types().indexOf(EXEC_MIME_TYPE) == -1) {\n",
       "      register_renderer(events, OutputArea);\n",
       "    }\n",
       "  }\n",
       "\n",
       "  \n",
       "  if (typeof (root._bokeh_timeout) === \"undefined\" || force === true) {\n",
       "    root._bokeh_timeout = Date.now() + 5000;\n",
       "    root._bokeh_failed_load = false;\n",
       "  }\n",
       "\n",
       "  const NB_LOAD_WARNING = {'data': {'text/html':\n",
       "     \"<div style='background-color: #fdd'>\\n\"+\n",
       "     \"<p>\\n\"+\n",
       "     \"BokehJS does not appear to have successfully loaded. If loading BokehJS from CDN, this \\n\"+\n",
       "     \"may be due to a slow or bad network connection. Possible fixes:\\n\"+\n",
       "     \"</p>\\n\"+\n",
       "     \"<ul>\\n\"+\n",
       "     \"<li>re-rerun `output_notebook()` to attempt to load from CDN again, or</li>\\n\"+\n",
       "     \"<li>use INLINE resources instead, as so:</li>\\n\"+\n",
       "     \"</ul>\\n\"+\n",
       "     \"<code>\\n\"+\n",
       "     \"from bokeh.resources import INLINE\\n\"+\n",
       "     \"output_notebook(resources=INLINE)\\n\"+\n",
       "     \"</code>\\n\"+\n",
       "     \"</div>\"}};\n",
       "\n",
       "  function display_loaded() {\n",
       "    const el = document.getElementById(\"18381\");\n",
       "    if (el != null) {\n",
       "      el.textContent = \"BokehJS is loading...\";\n",
       "    }\n",
       "    if (root.Bokeh !== undefined) {\n",
       "      if (el != null) {\n",
       "        el.textContent = \"BokehJS \" + root.Bokeh.version + \" successfully loaded.\";\n",
       "      }\n",
       "    } else if (Date.now() < root._bokeh_timeout) {\n",
       "      setTimeout(display_loaded, 100)\n",
       "    }\n",
       "  }\n",
       "\n",
       "\n",
       "  function run_callbacks() {\n",
       "    try {\n",
       "      root._bokeh_onload_callbacks.forEach(function(callback) {\n",
       "        if (callback != null)\n",
       "          callback();\n",
       "      });\n",
       "    } finally {\n",
       "      delete root._bokeh_onload_callbacks\n",
       "    }\n",
       "    console.debug(\"Bokeh: all callbacks have finished\");\n",
       "  }\n",
       "\n",
       "  function load_libs(css_urls, js_urls, callback) {\n",
       "    if (css_urls == null) css_urls = [];\n",
       "    if (js_urls == null) js_urls = [];\n",
       "\n",
       "    root._bokeh_onload_callbacks.push(callback);\n",
       "    if (root._bokeh_is_loading > 0) {\n",
       "      console.debug(\"Bokeh: BokehJS is being loaded, scheduling callback at\", now());\n",
       "      return null;\n",
       "    }\n",
       "    if (js_urls == null || js_urls.length === 0) {\n",
       "      run_callbacks();\n",
       "      return null;\n",
       "    }\n",
       "    console.debug(\"Bokeh: BokehJS not loaded, scheduling load and callback at\", now());\n",
       "    root._bokeh_is_loading = css_urls.length + js_urls.length;\n",
       "\n",
       "    function on_load() {\n",
       "      root._bokeh_is_loading--;\n",
       "      if (root._bokeh_is_loading === 0) {\n",
       "        console.debug(\"Bokeh: all BokehJS libraries/stylesheets loaded\");\n",
       "        run_callbacks()\n",
       "      }\n",
       "    }\n",
       "\n",
       "    function on_error(url) {\n",
       "      console.error(\"failed to load \" + url);\n",
       "    }\n",
       "\n",
       "    for (let i = 0; i < css_urls.length; i++) {\n",
       "      const url = css_urls[i];\n",
       "      const element = document.createElement(\"link\");\n",
       "      element.onload = on_load;\n",
       "      element.onerror = on_error.bind(null, url);\n",
       "      element.rel = \"stylesheet\";\n",
       "      element.type = \"text/css\";\n",
       "      element.href = url;\n",
       "      console.debug(\"Bokeh: injecting link tag for BokehJS stylesheet: \", url);\n",
       "      document.body.appendChild(element);\n",
       "    }\n",
       "\n",
       "    for (let i = 0; i < js_urls.length; i++) {\n",
       "      const url = js_urls[i];\n",
       "      const element = document.createElement('script');\n",
       "      element.onload = on_load;\n",
       "      element.onerror = on_error.bind(null, url);\n",
       "      element.async = false;\n",
       "      element.src = url;\n",
       "      console.debug(\"Bokeh: injecting script tag for BokehJS library: \", url);\n",
       "      document.head.appendChild(element);\n",
       "    }\n",
       "  };\n",
       "\n",
       "  function inject_raw_css(css) {\n",
       "    const element = document.createElement(\"style\");\n",
       "    element.appendChild(document.createTextNode(css));\n",
       "    document.body.appendChild(element);\n",
       "  }\n",
       "\n",
       "  \n",
       "  const js_urls = [\"https://cdn.bokeh.org/bokeh/release/bokeh-2.4.2.min.js\", \"https://cdn.bokeh.org/bokeh/release/bokeh-gl-2.4.2.min.js\", \"https://cdn.bokeh.org/bokeh/release/bokeh-widgets-2.4.2.min.js\", \"https://cdn.bokeh.org/bokeh/release/bokeh-tables-2.4.2.min.js\", \"https://cdn.bokeh.org/bokeh/release/bokeh-mathjax-2.4.2.min.js\", \"https://unpkg.com/@holoviz/panel@0.12.6/dist/panel.min.js\"];\n",
       "  const css_urls = [];\n",
       "  \n",
       "\n",
       "  const inline_js = [\n",
       "    function(Bokeh) {\n",
       "      Bokeh.set_log_level(\"info\");\n",
       "    },\n",
       "    function(Bokeh) {\n",
       "    \n",
       "    \n",
       "    }\n",
       "  ];\n",
       "\n",
       "  function run_inline_js() {\n",
       "    \n",
       "    if (root.Bokeh !== undefined || force === true) {\n",
       "      \n",
       "    for (let i = 0; i < inline_js.length; i++) {\n",
       "      inline_js[i].call(root, root.Bokeh);\n",
       "    }\n",
       "    if (force === true) {\n",
       "        display_loaded();\n",
       "      }} else if (Date.now() < root._bokeh_timeout) {\n",
       "      setTimeout(run_inline_js, 100);\n",
       "    } else if (!root._bokeh_failed_load) {\n",
       "      console.log(\"Bokeh: BokehJS failed to load within specified timeout.\");\n",
       "      root._bokeh_failed_load = true;\n",
       "    } else if (force !== true) {\n",
       "      const cell = $(document.getElementById(\"18381\")).parents('.cell').data().cell;\n",
       "      cell.output_area.append_execute_result(NB_LOAD_WARNING)\n",
       "    }\n",
       "\n",
       "  }\n",
       "\n",
       "  if (root._bokeh_is_loading === 0) {\n",
       "    console.debug(\"Bokeh: BokehJS loaded, going straight to plotting\");\n",
       "    run_inline_js();\n",
       "  } else {\n",
       "    load_libs(css_urls, js_urls, function() {\n",
       "      console.debug(\"Bokeh: BokehJS plotting callback run at\", now());\n",
       "      run_inline_js();\n",
       "    });\n",
       "  }\n",
       "}(window));"
      ],
      "application/vnd.bokehjs_load.v0+json": "\n(function(root) {\n  function now() {\n    return new Date();\n  }\n\n  const force = true;\n\n  if (typeof root._bokeh_onload_callbacks === \"undefined\" || force === true) {\n    root._bokeh_onload_callbacks = [];\n    root._bokeh_is_loading = undefined;\n  }\n\n  \n\n  \n  if (typeof (root._bokeh_timeout) === \"undefined\" || force === true) {\n    root._bokeh_timeout = Date.now() + 5000;\n    root._bokeh_failed_load = false;\n  }\n\n  const NB_LOAD_WARNING = {'data': {'text/html':\n     \"<div style='background-color: #fdd'>\\n\"+\n     \"<p>\\n\"+\n     \"BokehJS does not appear to have successfully loaded. If loading BokehJS from CDN, this \\n\"+\n     \"may be due to a slow or bad network connection. Possible fixes:\\n\"+\n     \"</p>\\n\"+\n     \"<ul>\\n\"+\n     \"<li>re-rerun `output_notebook()` to attempt to load from CDN again, or</li>\\n\"+\n     \"<li>use INLINE resources instead, as so:</li>\\n\"+\n     \"</ul>\\n\"+\n     \"<code>\\n\"+\n     \"from bokeh.resources import INLINE\\n\"+\n     \"output_notebook(resources=INLINE)\\n\"+\n     \"</code>\\n\"+\n     \"</div>\"}};\n\n  function display_loaded() {\n    const el = document.getElementById(\"18381\");\n    if (el != null) {\n      el.textContent = \"BokehJS is loading...\";\n    }\n    if (root.Bokeh !== undefined) {\n      if (el != null) {\n        el.textContent = \"BokehJS \" + root.Bokeh.version + \" successfully loaded.\";\n      }\n    } else if (Date.now() < root._bokeh_timeout) {\n      setTimeout(display_loaded, 100)\n    }\n  }\n\n\n  function run_callbacks() {\n    try {\n      root._bokeh_onload_callbacks.forEach(function(callback) {\n        if (callback != null)\n          callback();\n      });\n    } finally {\n      delete root._bokeh_onload_callbacks\n    }\n    console.debug(\"Bokeh: all callbacks have finished\");\n  }\n\n  function load_libs(css_urls, js_urls, callback) {\n    if (css_urls == null) css_urls = [];\n    if (js_urls == null) js_urls = [];\n\n    root._bokeh_onload_callbacks.push(callback);\n    if (root._bokeh_is_loading > 0) {\n      console.debug(\"Bokeh: BokehJS is being loaded, scheduling callback at\", now());\n      return null;\n    }\n    if (js_urls == null || js_urls.length === 0) {\n      run_callbacks();\n      return null;\n    }\n    console.debug(\"Bokeh: BokehJS not loaded, scheduling load and callback at\", now());\n    root._bokeh_is_loading = css_urls.length + js_urls.length;\n\n    function on_load() {\n      root._bokeh_is_loading--;\n      if (root._bokeh_is_loading === 0) {\n        console.debug(\"Bokeh: all BokehJS libraries/stylesheets loaded\");\n        run_callbacks()\n      }\n    }\n\n    function on_error(url) {\n      console.error(\"failed to load \" + url);\n    }\n\n    for (let i = 0; i < css_urls.length; i++) {\n      const url = css_urls[i];\n      const element = document.createElement(\"link\");\n      element.onload = on_load;\n      element.onerror = on_error.bind(null, url);\n      element.rel = \"stylesheet\";\n      element.type = \"text/css\";\n      element.href = url;\n      console.debug(\"Bokeh: injecting link tag for BokehJS stylesheet: \", url);\n      document.body.appendChild(element);\n    }\n\n    for (let i = 0; i < js_urls.length; i++) {\n      const url = js_urls[i];\n      const element = document.createElement('script');\n      element.onload = on_load;\n      element.onerror = on_error.bind(null, url);\n      element.async = false;\n      element.src = url;\n      console.debug(\"Bokeh: injecting script tag for BokehJS library: \", url);\n      document.head.appendChild(element);\n    }\n  };\n\n  function inject_raw_css(css) {\n    const element = document.createElement(\"style\");\n    element.appendChild(document.createTextNode(css));\n    document.body.appendChild(element);\n  }\n\n  \n  const js_urls = [\"https://cdn.bokeh.org/bokeh/release/bokeh-2.4.2.min.js\", \"https://cdn.bokeh.org/bokeh/release/bokeh-gl-2.4.2.min.js\", \"https://cdn.bokeh.org/bokeh/release/bokeh-widgets-2.4.2.min.js\", \"https://cdn.bokeh.org/bokeh/release/bokeh-tables-2.4.2.min.js\", \"https://cdn.bokeh.org/bokeh/release/bokeh-mathjax-2.4.2.min.js\", \"https://unpkg.com/@holoviz/panel@0.12.6/dist/panel.min.js\"];\n  const css_urls = [];\n  \n\n  const inline_js = [\n    function(Bokeh) {\n      Bokeh.set_log_level(\"info\");\n    },\n    function(Bokeh) {\n    \n    \n    }\n  ];\n\n  function run_inline_js() {\n    \n    if (root.Bokeh !== undefined || force === true) {\n      \n    for (let i = 0; i < inline_js.length; i++) {\n      inline_js[i].call(root, root.Bokeh);\n    }\n    if (force === true) {\n        display_loaded();\n      }} else if (Date.now() < root._bokeh_timeout) {\n      setTimeout(run_inline_js, 100);\n    } else if (!root._bokeh_failed_load) {\n      console.log(\"Bokeh: BokehJS failed to load within specified timeout.\");\n      root._bokeh_failed_load = true;\n    } else if (force !== true) {\n      const cell = $(document.getElementById(\"18381\")).parents('.cell').data().cell;\n      cell.output_area.append_execute_result(NB_LOAD_WARNING)\n    }\n\n  }\n\n  if (root._bokeh_is_loading === 0) {\n    console.debug(\"Bokeh: BokehJS loaded, going straight to plotting\");\n    run_inline_js();\n  } else {\n    load_libs(css_urls, js_urls, function() {\n      console.debug(\"Bokeh: BokehJS plotting callback run at\", now());\n      run_inline_js();\n    });\n  }\n}(window));"
     },
     "metadata": {},
     "output_type": "display_data"
    },
    {
     "data": {
      "text/html": [
       "\n",
       "\n",
       "\n",
       "\n",
       "\n",
       "\n",
       "  <div class=\"bk-root\" id=\"bd018cfb-1185-4cd8-bc65-9e6afaf5f125\" data-root-id=\"18382\"></div>\n"
      ]
     },
     "metadata": {},
     "output_type": "display_data"
    },
    {
     "data": {
      "application/javascript": [
       "(function(root) {\n",
       "  function embed_document(root) {\n",
       "    \n",
       "  const docs_json = {\"3ae8a306-c5f6-4033-9bc0-444c1dd42c3f\":{\"defs\":[{\"extends\":null,\"module\":null,\"name\":\"ReactiveHTML1\",\"overrides\":[],\"properties\":[]},{\"extends\":null,\"module\":null,\"name\":\"FlexBox1\",\"overrides\":[],\"properties\":[{\"default\":\"flex-start\",\"kind\":null,\"name\":\"align_content\"},{\"default\":\"flex-start\",\"kind\":null,\"name\":\"align_items\"},{\"default\":\"row\",\"kind\":null,\"name\":\"flex_direction\"},{\"default\":\"wrap\",\"kind\":null,\"name\":\"flex_wrap\"},{\"default\":\"flex-start\",\"kind\":null,\"name\":\"justify_content\"}]},{\"extends\":null,\"module\":null,\"name\":\"TemplateActions1\",\"overrides\":[],\"properties\":[{\"default\":0,\"kind\":null,\"name\":\"open_modal\"},{\"default\":0,\"kind\":null,\"name\":\"close_modal\"}]},{\"extends\":null,\"module\":null,\"name\":\"MaterialTemplateActions1\",\"overrides\":[],\"properties\":[{\"default\":0,\"kind\":null,\"name\":\"open_modal\"},{\"default\":0,\"kind\":null,\"name\":\"close_modal\"}]}],\"roots\":{\"references\":[{\"attributes\":{\"background_fill_color\":\"#fafafa\",\"below\":[{\"id\":\"18393\"}],\"center\":[{\"id\":\"18396\"},{\"id\":\"18400\"},{\"id\":\"18431\"}],\"left\":[{\"id\":\"18397\"}],\"renderers\":[{\"id\":\"18419\"},{\"id\":\"18437\"}],\"title\":{\"id\":\"18383\"},\"toolbar\":{\"id\":\"18408\"},\"x_range\":{\"id\":\"18385\"},\"x_scale\":{\"id\":\"18389\"},\"y_range\":{\"id\":\"18387\"},\"y_scale\":{\"id\":\"18391\"}},\"id\":\"18382\",\"subtype\":\"Figure\",\"type\":\"Plot\"},{\"attributes\":{\"fill_alpha\":{\"value\":0.1},\"fill_color\":{\"value\":\"blue\"},\"hatch_alpha\":{\"value\":0.1},\"hatch_color\":{\"value\":\"blue\"},\"line_alpha\":{\"value\":0.1},\"line_color\":{\"value\":\"blue\"},\"x\":{\"field\":\"x\"},\"y\":{\"field\":\"y\"}},\"id\":\"18435\",\"type\":\"Circle\"},{\"attributes\":{\"tools\":[{\"id\":\"18401\"},{\"id\":\"18402\"},{\"id\":\"18403\"},{\"id\":\"18404\"},{\"id\":\"18405\"},{\"id\":\"18406\"}]},\"id\":\"18408\",\"type\":\"Toolbar\"},{\"attributes\":{\"axis_label\":\"Tiredness\",\"coordinates\":null,\"formatter\":{\"id\":\"18426\"},\"group\":null,\"major_label_policy\":{\"id\":\"18427\"},\"ticker\":{\"id\":\"18394\"}},\"id\":\"18393\",\"type\":\"LinearAxis\"},{\"attributes\":{\"fill_alpha\":{\"value\":0.5},\"fill_color\":{\"value\":\"blue\"},\"hatch_alpha\":{\"value\":0.5},\"hatch_color\":{\"value\":\"blue\"},\"line_alpha\":{\"value\":0.5},\"line_color\":{\"value\":\"blue\"},\"x\":{\"field\":\"x\"},\"y\":{\"field\":\"y\"}},\"id\":\"18434\",\"type\":\"Circle\"},{\"attributes\":{},\"id\":\"18429\",\"type\":\"Selection\"},{\"attributes\":{},\"id\":\"18402\",\"type\":\"WheelZoomTool\"},{\"attributes\":{},\"id\":\"18406\",\"type\":\"HelpTool\"},{\"attributes\":{},\"id\":\"18427\",\"type\":\"AllLabels\"},{\"attributes\":{},\"id\":\"18394\",\"type\":\"BasicTicker\"},{\"attributes\":{\"source\":{\"id\":\"18415\"}},\"id\":\"18420\",\"type\":\"CDSView\"},{\"attributes\":{\"coordinates\":null,\"data_source\":{\"id\":\"18415\"},\"glyph\":{\"id\":\"18416\"},\"group\":null,\"hover_glyph\":null,\"muted_glyph\":{\"id\":\"18418\"},\"nonselection_glyph\":{\"id\":\"18417\"},\"view\":{\"id\":\"18420\"}},\"id\":\"18419\",\"type\":\"GlyphRenderer\"},{\"attributes\":{\"axis_label\":\"Sleep in hours\",\"coordinates\":null,\"formatter\":{\"id\":\"18423\"},\"group\":null,\"major_label_policy\":{\"id\":\"18424\"},\"ticker\":{\"id\":\"18398\"}},\"id\":\"18397\",\"type\":\"LinearAxis\"},{\"attributes\":{},\"id\":\"18428\",\"type\":\"UnionRenderers\"},{\"attributes\":{\"data\":{\"x\":[3,2,2,3,3,2,3,2,3,4,3,3,2,3,3,2,2,2,3,3,3,2,2,1,4,3,1,5,3,2,3,4,3,2,4,3,4,3,3,3,4,4,5,4,4,3,2,1,5,4,2,3,4,2,2,2,2,4,2,3,3,2,3],\"y\":{\"__ndarray__\":\"AAAAAAAAIEAAAAAAAAAYQAAAAAAAABxAAAAAAAAAHEAAAAAAAAAcQAAAAAAAABBAAAAAAAAAGEAAAAAAAAAcQAAAAAAAABxAAAAAAAAAGEAAAAAAAAAgQAAAAAAAACJAAAAAAAAAEEAAAAAAAAAUQAAAAAAAABxAAAAAAAAAHEAAAAAAAAAiQAAAAAAAACBAAAAAAAAAIEAAAAAAAAAcQAAAAAAAABxAAAAAAAAAHEAAAAAAAAAiQAAAAAAAACBAAAAAAAAAHEAAAAAAAAAYQAAAAAAAACJAAAAAAAAAFEAAAAAAAAAYQAAAAAAAABBAAAAAAAAAIEAAAAAAAAAcQAAAAAAAABxAAAAAAAAAFEAAAAAAAAAiQAAAAAAAABxAAAAAAAAAHEAAAAAAAAD4fwAAAAAAABxAAAAAAAAAGEAAAAAAAAAYQAAAAAAAABRAAAAAAAAAGEAAAAAAAAAcQAAAAAAAACBAAAAAAAAAGEAAAAAAAAAgQAAAAAAAACBAAAAAAAAAIkAAAAAAAAAUQAAAAAAAABhAAAAAAAAAIEAAAAAAAAAcQAAAAAAAAPh/AAAAAAAAHEAAAAAAAAAiQAAAAAAAABxAAAAAAAAAHEAAAAAAAAAcQAAAAAAAABxAAAAAAAAAIEAAAAAAAAAcQAAAAAAAABhA\",\"dtype\":\"float64\",\"order\":\"little\",\"shape\":[63]}},\"selected\":{\"id\":\"18449\"},\"selection_policy\":{\"id\":\"18448\"}},\"id\":\"18433\",\"type\":\"ColumnDataSource\"},{\"attributes\":{},\"id\":\"18404\",\"type\":\"SaveTool\"},{\"attributes\":{\"label\":{\"value\":\"No breakfast\"},\"renderers\":[{\"id\":\"18419\"}]},\"id\":\"18432\",\"type\":\"LegendItem\"},{\"attributes\":{},\"id\":\"18405\",\"type\":\"ResetTool\"},{\"attributes\":{\"coordinates\":null,\"group\":null,\"text\":\"Relationship between tiredness and hours of sleep\"},\"id\":\"18383\",\"type\":\"Title\"},{\"attributes\":{\"fill_alpha\":{\"value\":0.5},\"fill_color\":{\"value\":\"red\"},\"hatch_alpha\":{\"value\":0.5},\"hatch_color\":{\"value\":\"red\"},\"line_alpha\":{\"value\":0.5},\"line_color\":{\"value\":\"red\"},\"x\":{\"field\":\"x\"},\"y\":{\"field\":\"y\"}},\"id\":\"18416\",\"type\":\"Circle\"},{\"attributes\":{},\"id\":\"18423\",\"type\":\"BasicTickFormatter\"},{\"attributes\":{},\"id\":\"18448\",\"type\":\"UnionRenderers\"},{\"attributes\":{},\"id\":\"18398\",\"type\":\"BasicTicker\"},{\"attributes\":{\"coordinates\":null,\"group\":null,\"items\":[{\"id\":\"18432\"},{\"id\":\"18451\"}]},\"id\":\"18431\",\"type\":\"Legend\"},{\"attributes\":{\"fill_alpha\":{\"value\":0.2},\"fill_color\":{\"value\":\"blue\"},\"hatch_alpha\":{\"value\":0.2},\"hatch_color\":{\"value\":\"blue\"},\"line_alpha\":{\"value\":0.2},\"line_color\":{\"value\":\"blue\"},\"x\":{\"field\":\"x\"},\"y\":{\"field\":\"y\"}},\"id\":\"18436\",\"type\":\"Circle\"},{\"attributes\":{},\"id\":\"18424\",\"type\":\"AllLabels\"},{\"attributes\":{},\"id\":\"18449\",\"type\":\"Selection\"},{\"attributes\":{\"source\":{\"id\":\"18433\"}},\"id\":\"18438\",\"type\":\"CDSView\"},{\"attributes\":{},\"id\":\"18426\",\"type\":\"BasicTickFormatter\"},{\"attributes\":{},\"id\":\"18387\",\"type\":\"DataRange1d\"},{\"attributes\":{\"axis\":{\"id\":\"18397\"},\"coordinates\":null,\"dimension\":1,\"grid_line_color\":\"white\",\"group\":null,\"ticker\":null},\"id\":\"18400\",\"type\":\"Grid\"},{\"attributes\":{\"axis\":{\"id\":\"18393\"},\"coordinates\":null,\"grid_line_color\":\"white\",\"group\":null,\"ticker\":null},\"id\":\"18396\",\"type\":\"Grid\"},{\"attributes\":{\"fill_alpha\":{\"value\":0.2},\"fill_color\":{\"value\":\"red\"},\"hatch_alpha\":{\"value\":0.2},\"hatch_color\":{\"value\":\"red\"},\"line_alpha\":{\"value\":0.2},\"line_color\":{\"value\":\"red\"},\"x\":{\"field\":\"x\"},\"y\":{\"field\":\"y\"}},\"id\":\"18418\",\"type\":\"Circle\"},{\"attributes\":{},\"id\":\"18391\",\"type\":\"LinearScale\"},{\"attributes\":{\"coordinates\":null,\"data_source\":{\"id\":\"18433\"},\"glyph\":{\"id\":\"18434\"},\"group\":null,\"hover_glyph\":null,\"muted_glyph\":{\"id\":\"18436\"},\"nonselection_glyph\":{\"id\":\"18435\"},\"view\":{\"id\":\"18438\"}},\"id\":\"18437\",\"type\":\"GlyphRenderer\"},{\"attributes\":{\"bottom_units\":\"screen\",\"coordinates\":null,\"fill_alpha\":0.5,\"fill_color\":\"lightgrey\",\"group\":null,\"left_units\":\"screen\",\"level\":\"overlay\",\"line_alpha\":1.0,\"line_color\":\"black\",\"line_dash\":[4,4],\"line_width\":2,\"right_units\":\"screen\",\"syncable\":false,\"top_units\":\"screen\"},\"id\":\"18407\",\"type\":\"BoxAnnotation\"},{\"attributes\":{\"overlay\":{\"id\":\"18407\"}},\"id\":\"18403\",\"type\":\"BoxZoomTool\"},{\"attributes\":{},\"id\":\"18385\",\"type\":\"DataRange1d\"},{\"attributes\":{\"data\":{\"x\":[3,4,4,4,3,2,3,3,5,2,5,3,2,4,3,5,2,3,5,4,3,2,3,5,2,3,5,5,1,3,4,4,4,4,3,3,4,3,4,2,3],\"y\":{\"__ndarray__\":\"AAAAAAAAGEAAAAAAAAAcQAAAAAAAABxAAAAAAAAAJEAAAAAAAAAcQAAAAAAAACBAAAAAAAAAIEAAAAAAAAAgQAAAAAAAAABAAAAAAAAAFEAAAAAAAAAcQAAAAAAAABhAAAAAAAAAGEAAAAAAAAAYQAAAAAAAABhAAAAAAAAAFEAAAAAAAAAcQAAAAAAAABRAAAAAAAAAEEAAAAAAAAAcQAAAAAAAABRAAAAAAAAAFEAAAAAAAAAYQAAAAAAAACJAAAAAAAAAHEAAAAAAAAAYQAAAAAAAAABAAAAAAAAAIEAAAAAAAAAcQAAAAAAAABxAAAAAAAAAFEAAAAAAAAAYQAAAAAAAABhAAAAAAAAAHEAAAAAAAAAYQAAAAAAAABhAAAAAAAAAFEAAAAAAAAAYQAAAAAAAACBAAAAAAAAAHEAAAAAAAAAYQA==\",\"dtype\":\"float64\",\"order\":\"little\",\"shape\":[41]}},\"selected\":{\"id\":\"18429\"},\"selection_policy\":{\"id\":\"18428\"}},\"id\":\"18415\",\"type\":\"ColumnDataSource\"},{\"attributes\":{\"fill_alpha\":{\"value\":0.1},\"fill_color\":{\"value\":\"red\"},\"hatch_alpha\":{\"value\":0.1},\"hatch_color\":{\"value\":\"red\"},\"line_alpha\":{\"value\":0.1},\"line_color\":{\"value\":\"red\"},\"x\":{\"field\":\"x\"},\"y\":{\"field\":\"y\"}},\"id\":\"18417\",\"type\":\"Circle\"},{\"attributes\":{},\"id\":\"18389\",\"type\":\"LinearScale\"},{\"attributes\":{\"label\":{\"value\":\"Yes breakfast\"},\"renderers\":[{\"id\":\"18437\"}]},\"id\":\"18451\",\"type\":\"LegendItem\"},{\"attributes\":{},\"id\":\"18401\",\"type\":\"PanTool\"}],\"root_ids\":[\"18382\"]},\"title\":\"Bokeh Application\",\"version\":\"2.4.2\"}};\n",
       "  const render_items = [{\"docid\":\"3ae8a306-c5f6-4033-9bc0-444c1dd42c3f\",\"root_ids\":[\"18382\"],\"roots\":{\"18382\":\"bd018cfb-1185-4cd8-bc65-9e6afaf5f125\"}}];\n",
       "  root.Bokeh.embed.embed_items_notebook(docs_json, render_items);\n",
       "\n",
       "  }\n",
       "  if (root.Bokeh !== undefined) {\n",
       "    embed_document(root);\n",
       "  } else {\n",
       "    let attempts = 0;\n",
       "    const timer = setInterval(function(root) {\n",
       "      if (root.Bokeh !== undefined) {\n",
       "        clearInterval(timer);\n",
       "        embed_document(root);\n",
       "      } else {\n",
       "        attempts++;\n",
       "        if (attempts > 100) {\n",
       "          clearInterval(timer);\n",
       "          console.log(\"Bokeh: ERROR: Unable to run BokehJS code because BokehJS library is missing\");\n",
       "        }\n",
       "      }\n",
       "    }, 10, root)\n",
       "  }\n",
       "})(window);"
      ],
      "application/vnd.bokehjs_exec.v0+json": ""
     },
     "metadata": {
      "application/vnd.bokehjs_exec.v0+json": {
       "id": "18382"
      }
     },
     "output_type": "display_data"
    }
   ],
   "source": [
    "#code for the scatter plot here\n",
    "#Create a scatter plot plotting the relation between being tired and hours of sleep with different colors for Breakfast\n",
    "from bokeh.io import output_notebook\n",
    "from bokeh.plotting import figure, show\n",
    "from bokeh.layouts import gridplot\n",
    "output_notebook()\n",
    "\n",
    "def make_plot(sleep_df):\n",
    "    bf_no = df[df['Breakfast'] == \"No\"]\n",
    "    bf_yes = df[df['Breakfast'] == \"Yes\"]\n",
    "\n",
    "    p = figure(title=\"Relationship between tiredness and hours of sleep\", background_fill_color=\"#fafafa\")\n",
    "    p.circle(y=bf_no[\"Hours\"], x=bf_no[\"Tired\"], legend_label=\"No breakfast\", color=\"red\", alpha=0.5)\n",
    "    p.circle(y=bf_yes[\"Hours\"], x=bf_yes[\"Tired\"], legend_label=\"Yes breakfast\", color=\"blue\", alpha=0.5)\n",
    "    p.xaxis.axis_label = 'Tiredness'\n",
    "    p.yaxis.axis_label = \"Sleep in hours\"\n",
    "    p.grid.grid_line_color=\"white\"\n",
    "    return p\n",
    "\n",
    "plot = make_plot(df)\n",
    "show(plot)"
   ]
  },
  {
   "cell_type": "code",
   "execution_count": 255,
   "metadata": {},
   "outputs": [
    {
     "name": "stdout",
     "output_type": "stream",
     "text": [
      "Target statistics, only including Hours and Breakfast\n",
      "          Hours                                               Tired            \\\n",
      "          count      mean       std  min  25%  50%  75%   max count      mean   \n",
      "Breakfast                                                                       \n",
      "No         41.0  6.268293  1.549587  2.0  6.0  6.0  7.0  10.0  41.0  3.390244   \n",
      "Yes        61.0  6.918033  1.268793  4.0  6.0  7.0  8.0   9.0  63.0  2.873016   \n",
      "\n",
      "                                              \n",
      "                std  min  25%  50%  75%  max  \n",
      "Breakfast                                     \n",
      "No         1.045898  1.0  3.0  3.0  4.0  5.0  \n",
      "Yes        0.941722  1.0  2.0  3.0  3.0  5.0  \n",
      "\n",
      "\n",
      "Target statistics, including Hours, Tired, and Breakfast\n",
      "                Hours                                              \n",
      "                count      mean       std  min  25%  50%  75%   max\n",
      "Breakfast Tired                                                    \n",
      "No        1       1.0  7.000000       NaN  7.0  7.0  7.0  7.0   7.0\n",
      "          2       7.0  6.428571  1.133893  5.0  5.5  7.0  7.0   8.0\n",
      "          3      15.0  6.266667  0.883715  5.0  6.0  6.0  6.5   8.0\n",
      "          4      11.0  6.727273  1.420627  5.0  6.0  7.0  7.0  10.0\n",
      "          5       7.0  5.285714  2.811541  2.0  3.0  5.0  7.5   9.0\n",
      "Yes       1       3.0  8.333333  0.577350  8.0  8.0  8.0  8.5   9.0\n",
      "          2      19.0  6.736842  1.593114  4.0  6.0  7.0  7.5   9.0\n",
      "          3      24.0  7.000000  0.932505  5.0  6.0  7.0  8.0   9.0\n",
      "          4      12.0  6.750000  1.138180  5.0  6.0  7.0  7.0   9.0\n",
      "          5       3.0  6.666667  2.081666  5.0  5.5  6.0  7.5   9.0\n"
     ]
    }
   ],
   "source": [
    "#code your answer to the target statistics here\n",
    "print(\"Target statistics, only including Hours and Breakfast\")\n",
    "print(df.groupby(\"Breakfast\").describe())\n",
    "print(\"\\n\")\n",
    "\n",
    "print(\"Target statistics, including Hours, Tired, and Breakfast\")\n",
    "print(df.groupby([\"Breakfast\",\"Tired\"]).describe())"
   ]
  },
  {
   "cell_type": "code",
   "execution_count": 256,
   "metadata": {},
   "outputs": [
    {
     "data": {
      "text/html": [
       "<div>\n",
       "<style scoped>\n",
       "    .dataframe tbody tr th:only-of-type {\n",
       "        vertical-align: middle;\n",
       "    }\n",
       "\n",
       "    .dataframe tbody tr th {\n",
       "        vertical-align: top;\n",
       "    }\n",
       "\n",
       "    .dataframe thead th {\n",
       "        text-align: right;\n",
       "    }\n",
       "</style>\n",
       "<table border=\"1\" class=\"dataframe\">\n",
       "  <thead>\n",
       "    <tr style=\"text-align: right;\">\n",
       "      <th></th>\n",
       "      <th>Enough</th>\n",
       "      <th>Hours</th>\n",
       "      <th>PhoneReach</th>\n",
       "      <th>PhoneTime</th>\n",
       "      <th>Tired</th>\n",
       "      <th>Breakfast</th>\n",
       "    </tr>\n",
       "  </thead>\n",
       "  <tbody>\n",
       "    <tr>\n",
       "      <th>Enough</th>\n",
       "      <td>1.000000</td>\n",
       "      <td>0.380740</td>\n",
       "      <td>0.084214</td>\n",
       "      <td>0.003945</td>\n",
       "      <td>0.417006</td>\n",
       "      <td>0.132029</td>\n",
       "    </tr>\n",
       "    <tr>\n",
       "      <th>Hours</th>\n",
       "      <td>0.380740</td>\n",
       "      <td>1.000000</td>\n",
       "      <td>0.054957</td>\n",
       "      <td>0.151378</td>\n",
       "      <td>0.191913</td>\n",
       "      <td>0.225818</td>\n",
       "    </tr>\n",
       "    <tr>\n",
       "      <th>PhoneReach</th>\n",
       "      <td>0.084214</td>\n",
       "      <td>0.054957</td>\n",
       "      <td>1.000000</td>\n",
       "      <td>0.150451</td>\n",
       "      <td>0.073232</td>\n",
       "      <td>0.239392</td>\n",
       "    </tr>\n",
       "    <tr>\n",
       "      <th>PhoneTime</th>\n",
       "      <td>0.003945</td>\n",
       "      <td>0.151378</td>\n",
       "      <td>0.150451</td>\n",
       "      <td>1.000000</td>\n",
       "      <td>0.035423</td>\n",
       "      <td>0.005761</td>\n",
       "    </tr>\n",
       "    <tr>\n",
       "      <th>Tired</th>\n",
       "      <td>0.417006</td>\n",
       "      <td>0.191913</td>\n",
       "      <td>0.073232</td>\n",
       "      <td>0.035423</td>\n",
       "      <td>1.000000</td>\n",
       "      <td>0.251096</td>\n",
       "    </tr>\n",
       "    <tr>\n",
       "      <th>Breakfast</th>\n",
       "      <td>0.132029</td>\n",
       "      <td>0.225818</td>\n",
       "      <td>0.239392</td>\n",
       "      <td>0.005761</td>\n",
       "      <td>0.251096</td>\n",
       "      <td>1.000000</td>\n",
       "    </tr>\n",
       "  </tbody>\n",
       "</table>\n",
       "</div>"
      ],
      "text/plain": [
       "              Enough     Hours  PhoneReach  PhoneTime     Tired  Breakfast\n",
       "Enough      1.000000  0.380740    0.084214   0.003945  0.417006   0.132029\n",
       "Hours       0.380740  1.000000    0.054957   0.151378  0.191913   0.225818\n",
       "PhoneReach  0.084214  0.054957    1.000000   0.150451  0.073232   0.239392\n",
       "PhoneTime   0.003945  0.151378    0.150451   1.000000  0.035423   0.005761\n",
       "Tired       0.417006  0.191913    0.073232   0.035423  1.000000   0.251096\n",
       "Breakfast   0.132029  0.225818    0.239392   0.005761  0.251096   1.000000"
      ]
     },
     "execution_count": 256,
     "metadata": {},
     "output_type": "execute_result"
    }
   ],
   "source": [
    "#code your answer for the heatmap here and briefly state your finding\n",
    "import numpy as np\n",
    "# Revert Yes/No answers to 1/0, so correlation is possible\n",
    "dict = {\"Yes\":1, \"No\":0}\n",
    "df_heatmap = df.copy()\n",
    "df_heatmap['Breakfast'] = df_heatmap['Breakfast'].astype(str).map(dict)\n",
    "df_heatmap['Enough'] = df_heatmap['Enough'].astype(str).map(dict)\n",
    "df_heatmap['PhoneReach'] = df_heatmap['PhoneReach'].astype(str).map(dict)\n",
    "df_heatmap['PhoneTime'] = df_heatmap['PhoneTime'].astype(str).map(dict)\n",
    "\n",
    "# Create correlation matrix\n",
    "c = df_heatmap.corr().abs()\n",
    "y_range = (list(reversed(c.columns)))\n",
    "x_range = (list(c.index))\n",
    "c"
   ]
  },
  {
   "cell_type": "code",
   "execution_count": 257,
   "metadata": {},
   "outputs": [],
   "source": [
    "#reshape\n",
    "dfc = pd.DataFrame(c.stack(), columns=['r']).reset_index()\n",
    "dfc.head()\n",
    "#transfer to ColumnDataSource object\n",
    "from bokeh.models import ColumnDataSource\n",
    "source = ColumnDataSource(dfc)"
   ]
  },
  {
   "cell_type": "code",
   "execution_count": 258,
   "metadata": {},
   "outputs": [
    {
     "data": {
      "text/html": [
       "\n",
       "\n",
       "\n",
       "\n",
       "\n",
       "\n",
       "  <div class=\"bk-root\" id=\"c2de9972-2595-49e5-8d7b-b9d7f26241d5\" data-root-id=\"18882\"></div>\n"
      ]
     },
     "metadata": {},
     "output_type": "display_data"
    },
    {
     "data": {
      "application/javascript": [
       "(function(root) {\n",
       "  function embed_document(root) {\n",
       "    \n",
       "  const docs_json = {\"9d69f7ab-2f69-4a27-b13f-6f9734ecb7f2\":{\"defs\":[{\"extends\":null,\"module\":null,\"name\":\"ReactiveHTML1\",\"overrides\":[],\"properties\":[]},{\"extends\":null,\"module\":null,\"name\":\"FlexBox1\",\"overrides\":[],\"properties\":[{\"default\":\"flex-start\",\"kind\":null,\"name\":\"align_content\"},{\"default\":\"flex-start\",\"kind\":null,\"name\":\"align_items\"},{\"default\":\"row\",\"kind\":null,\"name\":\"flex_direction\"},{\"default\":\"wrap\",\"kind\":null,\"name\":\"flex_wrap\"},{\"default\":\"flex-start\",\"kind\":null,\"name\":\"justify_content\"}]},{\"extends\":null,\"module\":null,\"name\":\"TemplateActions1\",\"overrides\":[],\"properties\":[{\"default\":0,\"kind\":null,\"name\":\"open_modal\"},{\"default\":0,\"kind\":null,\"name\":\"close_modal\"}]},{\"extends\":null,\"module\":null,\"name\":\"MaterialTemplateActions1\",\"overrides\":[],\"properties\":[{\"default\":0,\"kind\":null,\"name\":\"open_modal\"},{\"default\":0,\"kind\":null,\"name\":\"close_modal\"}]}],\"roots\":{\"references\":[{\"attributes\":{\"above\":[{\"id\":\"18893\"}],\"center\":[{\"id\":\"18895\"},{\"id\":\"18898\"}],\"height\":450,\"left\":[{\"id\":\"18896\"}],\"renderers\":[{\"id\":\"18917\"}],\"right\":[{\"id\":\"18921\"}],\"title\":{\"id\":\"18883\"},\"toolbar\":{\"id\":\"18906\"},\"toolbar_location\":null,\"width\":500,\"x_range\":{\"id\":\"18885\"},\"x_scale\":{\"id\":\"18889\"},\"y_range\":{\"id\":\"18887\"},\"y_scale\":{\"id\":\"18891\"}},\"id\":\"18882\",\"subtype\":\"Figure\",\"type\":\"Plot\"},{\"attributes\":{},\"id\":\"18919\",\"type\":\"BasicTicker\"},{\"attributes\":{},\"id\":\"19294\",\"type\":\"NoOverlap\"},{\"attributes\":{\"fill_alpha\":{\"value\":0.1},\"fill_color\":{\"field\":\"r\",\"transform\":{\"id\":\"18881\"}},\"hatch_alpha\":{\"value\":0.1},\"height\":{\"value\":1},\"line_alpha\":{\"value\":0.1},\"line_color\":{\"value\":null},\"width\":{\"value\":1},\"x\":{\"field\":\"level_0\"},\"y\":{\"field\":\"level_1\"}},\"id\":\"18915\",\"type\":\"Rect\"},{\"attributes\":{},\"id\":\"19296\",\"type\":\"CategoricalTickFormatter\"},{\"attributes\":{\"factors\":[\"Breakfast\",\"Tired\",\"PhoneTime\",\"PhoneReach\",\"Hours\",\"Enough\"]},\"id\":\"18887\",\"type\":\"FactorRange\"},{\"attributes\":{\"source\":{\"id\":\"18880\"}},\"id\":\"18918\",\"type\":\"CDSView\"},{\"attributes\":{},\"id\":\"19297\",\"type\":\"AllLabels\"},{\"attributes\":{},\"id\":\"18904\",\"type\":\"HelpTool\"},{\"attributes\":{},\"id\":\"18894\",\"type\":\"CategoricalTicker\"},{\"attributes\":{\"coordinates\":null,\"data_source\":{\"id\":\"18880\"},\"glyph\":{\"id\":\"18914\"},\"group\":null,\"hover_glyph\":null,\"muted_glyph\":{\"id\":\"18916\"},\"nonselection_glyph\":{\"id\":\"18915\"},\"view\":{\"id\":\"18918\"}},\"id\":\"18917\",\"type\":\"GlyphRenderer\"},{\"attributes\":{\"axis\":{\"id\":\"18893\"},\"coordinates\":null,\"group\":null,\"ticker\":null},\"id\":\"18895\",\"type\":\"Grid\"},{\"attributes\":{},\"id\":\"19293\",\"type\":\"AllLabels\"},{\"attributes\":{\"factors\":[\"Enough\",\"Hours\",\"PhoneReach\",\"PhoneTime\",\"Tired\",\"Breakfast\"]},\"id\":\"18885\",\"type\":\"FactorRange\"},{\"attributes\":{\"axis\":{\"id\":\"18896\"},\"coordinates\":null,\"dimension\":1,\"group\":null,\"ticker\":null},\"id\":\"18898\",\"type\":\"Grid\"},{\"attributes\":{\"axis_line_color\":null,\"coordinates\":null,\"formatter\":{\"id\":\"19292\"},\"group\":null,\"major_label_policy\":{\"id\":\"19293\"},\"major_label_standoff\":0,\"major_label_text_font_size\":\"10px\",\"major_tick_line_color\":null,\"ticker\":{\"id\":\"18897\"}},\"id\":\"18896\",\"type\":\"CategoricalAxis\"},{\"attributes\":{},\"id\":\"18897\",\"type\":\"CategoricalTicker\"},{\"attributes\":{\"data\":{\"index\":[0,1,2,3,4,5,6,7,8,9,10,11,12,13,14,15,16,17,18,19,20,21,22,23,24,25,26,27,28,29,30,31,32,33,34,35],\"level_0\":[\"Enough\",\"Enough\",\"Enough\",\"Enough\",\"Enough\",\"Enough\",\"Hours\",\"Hours\",\"Hours\",\"Hours\",\"Hours\",\"Hours\",\"PhoneReach\",\"PhoneReach\",\"PhoneReach\",\"PhoneReach\",\"PhoneReach\",\"PhoneReach\",\"PhoneTime\",\"PhoneTime\",\"PhoneTime\",\"PhoneTime\",\"PhoneTime\",\"PhoneTime\",\"Tired\",\"Tired\",\"Tired\",\"Tired\",\"Tired\",\"Tired\",\"Breakfast\",\"Breakfast\",\"Breakfast\",\"Breakfast\",\"Breakfast\",\"Breakfast\"],\"level_1\":[\"Enough\",\"Hours\",\"PhoneReach\",\"PhoneTime\",\"Tired\",\"Breakfast\",\"Enough\",\"Hours\",\"PhoneReach\",\"PhoneTime\",\"Tired\",\"Breakfast\",\"Enough\",\"Hours\",\"PhoneReach\",\"PhoneTime\",\"Tired\",\"Breakfast\",\"Enough\",\"Hours\",\"PhoneReach\",\"PhoneTime\",\"Tired\",\"Breakfast\",\"Enough\",\"Hours\",\"PhoneReach\",\"PhoneTime\",\"Tired\",\"Breakfast\",\"Enough\",\"Hours\",\"PhoneReach\",\"PhoneTime\",\"Tired\",\"Breakfast\"],\"r\":{\"__ndarray__\":\"AAAAAAAA8D/9We82Cl7YPy/ddWsIj7U/dzdFhncocD/2qv/MO7DaP2+38KpV5sA//VnvNgpe2D8AAAAAAADwP5lL+7tgI6w/z90VWlpgwz9s804nmJDIP95zDjCc58w/L911awiPtT+ZS/u7YCOsPwAAAAAAAPA/AeZYp/xBwz8hJlU9Vr+yP1rTcplkpM4/dzdFhncocD/P3RVaWmDDPwHmWKf8QcM/AAAAAAAA8D9OSpwT8iKiPw6CUHlhmHc/9qr/zDuw2j9s804nmJDIPyEmVT1Wv7I/TkqcE/Iioj8AAAAAAADwP5WYNfryEdA/b7fwqlXmwD/ecw4wnOfMP1rTcplkpM4/DoJQeWGYdz+VmDX68hHQPwAAAAAAAPA/\",\"dtype\":\"float64\",\"order\":\"little\",\"shape\":[36]}},\"selected\":{\"id\":\"19299\"},\"selection_policy\":{\"id\":\"19298\"}},\"id\":\"18880\",\"type\":\"ColumnDataSource\"},{\"attributes\":{},\"id\":\"19292\",\"type\":\"CategoricalTickFormatter\"},{\"attributes\":{\"coordinates\":null,\"group\":null,\"text\":\"correlation heatmap\"},\"id\":\"18883\",\"type\":\"Title\"},{\"attributes\":{},\"id\":\"18900\",\"type\":\"WheelZoomTool\"},{\"attributes\":{},\"id\":\"18889\",\"type\":\"CategoricalScale\"},{\"attributes\":{},\"id\":\"18899\",\"type\":\"PanTool\"},{\"attributes\":{},\"id\":\"19298\",\"type\":\"UnionRenderers\"},{\"attributes\":{\"overlay\":{\"id\":\"18905\"}},\"id\":\"18901\",\"type\":\"BoxZoomTool\"},{\"attributes\":{},\"id\":\"18891\",\"type\":\"CategoricalScale\"},{\"attributes\":{},\"id\":\"18902\",\"type\":\"SaveTool\"},{\"attributes\":{},\"id\":\"18903\",\"type\":\"ResetTool\"},{\"attributes\":{},\"id\":\"19299\",\"type\":\"Selection\"},{\"attributes\":{\"tools\":[{\"id\":\"18899\"},{\"id\":\"18900\"},{\"id\":\"18901\"},{\"id\":\"18902\"},{\"id\":\"18903\"},{\"id\":\"18904\"}]},\"id\":\"18906\",\"type\":\"Toolbar\"},{\"attributes\":{\"bottom_units\":\"screen\",\"coordinates\":null,\"fill_alpha\":0.5,\"fill_color\":\"lightgrey\",\"group\":null,\"left_units\":\"screen\",\"level\":\"overlay\",\"line_alpha\":1.0,\"line_color\":\"black\",\"line_dash\":[4,4],\"line_width\":2,\"right_units\":\"screen\",\"syncable\":false,\"top_units\":\"screen\"},\"id\":\"18905\",\"type\":\"BoxAnnotation\"},{\"attributes\":{\"format\":\"%.1f\"},\"id\":\"18920\",\"type\":\"PrintfTickFormatter\"},{\"attributes\":{\"high\":1.0,\"low\":0.003944842236092919,\"palette\":[\"#0C0786\",\"#100787\",\"#130689\",\"#15068A\",\"#18068B\",\"#1B068C\",\"#1D068D\",\"#1F058E\",\"#21058F\",\"#230590\",\"#250591\",\"#270592\",\"#290593\",\"#2B0594\",\"#2D0494\",\"#2F0495\",\"#310496\",\"#330497\",\"#340498\",\"#360498\",\"#380499\",\"#3A049A\",\"#3B039A\",\"#3D039B\",\"#3F039C\",\"#40039C\",\"#42039D\",\"#44039E\",\"#45039E\",\"#47029F\",\"#49029F\",\"#4A02A0\",\"#4C02A1\",\"#4E02A1\",\"#4F02A2\",\"#5101A2\",\"#5201A3\",\"#5401A3\",\"#5601A3\",\"#5701A4\",\"#5901A4\",\"#5A00A5\",\"#5C00A5\",\"#5E00A5\",\"#5F00A6\",\"#6100A6\",\"#6200A6\",\"#6400A7\",\"#6500A7\",\"#6700A7\",\"#6800A7\",\"#6A00A7\",\"#6C00A8\",\"#6D00A8\",\"#6F00A8\",\"#7000A8\",\"#7200A8\",\"#7300A8\",\"#7500A8\",\"#7601A8\",\"#7801A8\",\"#7901A8\",\"#7B02A8\",\"#7C02A7\",\"#7E03A7\",\"#7F03A7\",\"#8104A7\",\"#8204A7\",\"#8405A6\",\"#8506A6\",\"#8607A6\",\"#8807A5\",\"#8908A5\",\"#8B09A4\",\"#8C0AA4\",\"#8E0CA4\",\"#8F0DA3\",\"#900EA3\",\"#920FA2\",\"#9310A1\",\"#9511A1\",\"#9612A0\",\"#9713A0\",\"#99149F\",\"#9A159E\",\"#9B179E\",\"#9D189D\",\"#9E199C\",\"#9F1A9B\",\"#A01B9B\",\"#A21C9A\",\"#A31D99\",\"#A41E98\",\"#A51F97\",\"#A72197\",\"#A82296\",\"#A92395\",\"#AA2494\",\"#AC2593\",\"#AD2692\",\"#AE2791\",\"#AF2890\",\"#B02A8F\",\"#B12B8F\",\"#B22C8E\",\"#B42D8D\",\"#B52E8C\",\"#B62F8B\",\"#B7308A\",\"#B83289\",\"#B93388\",\"#BA3487\",\"#BB3586\",\"#BC3685\",\"#BD3784\",\"#BE3883\",\"#BF3982\",\"#C03B81\",\"#C13C80\",\"#C23D80\",\"#C33E7F\",\"#C43F7E\",\"#C5407D\",\"#C6417C\",\"#C7427B\",\"#C8447A\",\"#C94579\",\"#CA4678\",\"#CB4777\",\"#CC4876\",\"#CD4975\",\"#CE4A75\",\"#CF4B74\",\"#D04D73\",\"#D14E72\",\"#D14F71\",\"#D25070\",\"#D3516F\",\"#D4526E\",\"#D5536D\",\"#D6556D\",\"#D7566C\",\"#D7576B\",\"#D8586A\",\"#D95969\",\"#DA5A68\",\"#DB5B67\",\"#DC5D66\",\"#DC5E66\",\"#DD5F65\",\"#DE6064\",\"#DF6163\",\"#DF6262\",\"#E06461\",\"#E16560\",\"#E26660\",\"#E3675F\",\"#E3685E\",\"#E46A5D\",\"#E56B5C\",\"#E56C5B\",\"#E66D5A\",\"#E76E5A\",\"#E87059\",\"#E87158\",\"#E97257\",\"#EA7356\",\"#EA7455\",\"#EB7654\",\"#EC7754\",\"#EC7853\",\"#ED7952\",\"#ED7B51\",\"#EE7C50\",\"#EF7D4F\",\"#EF7E4E\",\"#F0804D\",\"#F0814D\",\"#F1824C\",\"#F2844B\",\"#F2854A\",\"#F38649\",\"#F38748\",\"#F48947\",\"#F48A47\",\"#F58B46\",\"#F58D45\",\"#F68E44\",\"#F68F43\",\"#F69142\",\"#F79241\",\"#F79341\",\"#F89540\",\"#F8963F\",\"#F8983E\",\"#F9993D\",\"#F99A3C\",\"#FA9C3B\",\"#FA9D3A\",\"#FA9F3A\",\"#FAA039\",\"#FBA238\",\"#FBA337\",\"#FBA436\",\"#FCA635\",\"#FCA735\",\"#FCA934\",\"#FCAA33\",\"#FCAC32\",\"#FCAD31\",\"#FDAF31\",\"#FDB030\",\"#FDB22F\",\"#FDB32E\",\"#FDB52D\",\"#FDB62D\",\"#FDB82C\",\"#FDB92B\",\"#FDBB2B\",\"#FDBC2A\",\"#FDBE29\",\"#FDC029\",\"#FDC128\",\"#FDC328\",\"#FDC427\",\"#FDC626\",\"#FCC726\",\"#FCC926\",\"#FCCB25\",\"#FCCC25\",\"#FCCE25\",\"#FBD024\",\"#FBD124\",\"#FBD324\",\"#FAD524\",\"#FAD624\",\"#FAD824\",\"#F9D924\",\"#F9DB24\",\"#F8DD24\",\"#F8DF24\",\"#F7E024\",\"#F7E225\",\"#F6E425\",\"#F6E525\",\"#F5E726\",\"#F5E926\",\"#F4EA26\",\"#F3EC26\",\"#F3EE26\",\"#F2F026\",\"#F2F126\",\"#F1F326\",\"#F0F525\",\"#F0F623\",\"#EFF821\"]},\"id\":\"18881\",\"type\":\"LinearColorMapper\"},{\"attributes\":{\"fill_color\":{\"field\":\"r\",\"transform\":{\"id\":\"18881\"}},\"height\":{\"value\":1},\"line_color\":{\"value\":null},\"width\":{\"value\":1},\"x\":{\"field\":\"level_0\"},\"y\":{\"field\":\"level_1\"}},\"id\":\"18914\",\"type\":\"Rect\"},{\"attributes\":{\"color_mapper\":{\"id\":\"18881\"},\"coordinates\":null,\"formatter\":{\"id\":\"18920\"},\"group\":null,\"location\":[0,0],\"major_label_policy\":{\"id\":\"19294\"},\"ticker\":{\"id\":\"18919\"}},\"id\":\"18921\",\"type\":\"ColorBar\"},{\"attributes\":{\"axis_line_color\":null,\"coordinates\":null,\"formatter\":{\"id\":\"19296\"},\"group\":null,\"major_label_orientation\":1.0,\"major_label_policy\":{\"id\":\"19297\"},\"major_label_standoff\":0,\"major_label_text_font_size\":\"10px\",\"major_tick_line_color\":null,\"ticker\":{\"id\":\"18894\"}},\"id\":\"18893\",\"type\":\"CategoricalAxis\"},{\"attributes\":{\"fill_alpha\":{\"value\":0.2},\"fill_color\":{\"field\":\"r\",\"transform\":{\"id\":\"18881\"}},\"hatch_alpha\":{\"value\":0.2},\"height\":{\"value\":1},\"line_alpha\":{\"value\":0.2},\"line_color\":{\"value\":null},\"width\":{\"value\":1},\"x\":{\"field\":\"level_0\"},\"y\":{\"field\":\"level_1\"}},\"id\":\"18916\",\"type\":\"Rect\"}],\"root_ids\":[\"18882\"]},\"title\":\"Bokeh Application\",\"version\":\"2.4.2\"}};\n",
       "  const render_items = [{\"docid\":\"9d69f7ab-2f69-4a27-b13f-6f9734ecb7f2\",\"root_ids\":[\"18882\"],\"roots\":{\"18882\":\"c2de9972-2595-49e5-8d7b-b9d7f26241d5\"}}];\n",
       "  root.Bokeh.embed.embed_items_notebook(docs_json, render_items);\n",
       "\n",
       "  }\n",
       "  if (root.Bokeh !== undefined) {\n",
       "    embed_document(root);\n",
       "  } else {\n",
       "    let attempts = 0;\n",
       "    const timer = setInterval(function(root) {\n",
       "      if (root.Bokeh !== undefined) {\n",
       "        clearInterval(timer);\n",
       "        embed_document(root);\n",
       "      } else {\n",
       "        attempts++;\n",
       "        if (attempts > 100) {\n",
       "          clearInterval(timer);\n",
       "          console.log(\"Bokeh: ERROR: Unable to run BokehJS code because BokehJS library is missing\");\n",
       "        }\n",
       "      }\n",
       "    }, 10, root)\n",
       "  }\n",
       "})(window);"
      ],
      "application/vnd.bokehjs_exec.v0+json": ""
     },
     "metadata": {
      "application/vnd.bokehjs_exec.v0+json": {
       "id": "18882"
      }
     },
     "output_type": "display_data"
    }
   ],
   "source": [
    "#plot a heatmap\n",
    "from bokeh.models import (BasicTicker, ColorBar, ColumnDataSource,\n",
    "                          LinearColorMapper, PrintfTickFormatter,)\n",
    "from bokeh.transform import transform\n",
    "from bokeh.palettes import Plasma256\n",
    "\n",
    "#create colormapper \n",
    "mapper = LinearColorMapper(palette=Plasma256, low=dfc.r.min(), high=dfc.r.max())\n",
    "\n",
    "#create plot\n",
    "p = figure(title=\"correlation heatmap\", plot_width=500, plot_height=450,\n",
    "           x_range=x_range, y_range=y_range, x_axis_location=\"above\", toolbar_location=None)\n",
    "\n",
    "#use mapper to fill the rectangles in the plot\n",
    "p.rect(x=\"level_0\", y=\"level_1\", width=1, height=1, source=source,\n",
    "       line_color=None, fill_color=transform('r', mapper))\n",
    "\n",
    "#create and add colorbar to the right\n",
    "color_bar = ColorBar(color_mapper=mapper, location=(0, 0),\n",
    "                     ticker=BasicTicker(desired_num_ticks=len(x_range)), \n",
    "                     formatter=PrintfTickFormatter(format=\"%.1f\"))\n",
    "p.add_layout(color_bar, 'right')\n",
    "\n",
    "#draw axis\n",
    "p.axis.axis_line_color = None\n",
    "p.axis.major_tick_line_color = None\n",
    "p.axis.major_label_text_font_size = \"10px\"\n",
    "p.axis.major_label_standoff = 0\n",
    "p.xaxis.major_label_orientation = 1.0\n",
    "\n",
    "#show\n",
    "show(p)"
   ]
  },
  {
   "cell_type": "markdown",
   "metadata": {},
   "source": [
    "**My interpretation of the heatmap:** Only Tired&Hours, and Tired&Enough seem to be somewhat correlated. Other variables have seem to have weak or no correlation"
   ]
  },
  {
   "cell_type": "markdown",
   "metadata": {},
   "source": [
    "---"
   ]
  },
  {
   "cell_type": "markdown",
   "metadata": {},
   "source": [
    "<a name='2'></a>\n",
    "## Part 3: Check Assumptions\n",
    "\n",
    "Before we answer the research question with ANOVA we need to check the following assumptions:\n",
    "\n",
    "1. ANOVA assumes that the dependent variable is normaly distributed\n",
    "2. ANOVA also assumes homogeneity of variance\n",
    "3. ANOVA also assumes that the observations are independent of each other. Most of the time we need domain knowledge and experiment setup descriptions to estimate this assumption\n",
    "\n",
    "We are going to do this graphically and statistically. "
   ]
  },
  {
   "cell_type": "markdown",
   "metadata": {},
   "source": [
    "<a name='ex-31'></a>\n",
    "### Check normality (10 pt)\n",
    "\n",
    "<ul><li>\n",
    "Plot the distribution of the dependent variable. Add a vertical line at the position of the average. Add a vertical line for the robuust estimation. Add the normal distribution line to the plot. Comment on the normallity of the data. Do you want the full points? Plot with bokeh!</li>\n",
    "\n",
    "<li>Use a Shapiro-Wilk Test or an Anderson-Darling test to check statistically</li></ul>\n",
    "\n",
    "\n",
    "<details>    \n",
    "<summary>\n",
    "    <font size=\"3\" color=\"darkgreen\"><b>Hints</b></font>\n",
    "</summary>\n",
    "    <ul><li>check the code of lesson 1 DS1 bayesian statistics</li>\n",
    "        <li>heart_failure case of gitbook uses bokeh histograms</li>\n",
    "</ul>\n",
    "</details>"
   ]
  },
  {
   "cell_type": "code",
   "execution_count": 259,
   "metadata": {},
   "outputs": [
    {
     "data": {
      "text/html": [
       "\n",
       "\n",
       "\n",
       "\n",
       "\n",
       "\n",
       "  <div class=\"bk-root\" id=\"e2104759-6b98-4bea-a560-b81047c38c82\" data-root-id=\"19356\"></div>\n"
      ]
     },
     "metadata": {},
     "output_type": "display_data"
    },
    {
     "data": {
      "application/javascript": [
       "(function(root) {\n",
       "  function embed_document(root) {\n",
       "    \n",
       "  const docs_json = {\"9ca40fe8-4f3c-4c0e-b578-8a55dada4910\":{\"defs\":[{\"extends\":null,\"module\":null,\"name\":\"ReactiveHTML1\",\"overrides\":[],\"properties\":[]},{\"extends\":null,\"module\":null,\"name\":\"FlexBox1\",\"overrides\":[],\"properties\":[{\"default\":\"flex-start\",\"kind\":null,\"name\":\"align_content\"},{\"default\":\"flex-start\",\"kind\":null,\"name\":\"align_items\"},{\"default\":\"row\",\"kind\":null,\"name\":\"flex_direction\"},{\"default\":\"wrap\",\"kind\":null,\"name\":\"flex_wrap\"},{\"default\":\"flex-start\",\"kind\":null,\"name\":\"justify_content\"}]},{\"extends\":null,\"module\":null,\"name\":\"TemplateActions1\",\"overrides\":[],\"properties\":[{\"default\":0,\"kind\":null,\"name\":\"open_modal\"},{\"default\":0,\"kind\":null,\"name\":\"close_modal\"}]},{\"extends\":null,\"module\":null,\"name\":\"MaterialTemplateActions1\",\"overrides\":[],\"properties\":[{\"default\":0,\"kind\":null,\"name\":\"open_modal\"},{\"default\":0,\"kind\":null,\"name\":\"close_modal\"}]}],\"roots\":{\"references\":[{\"attributes\":{\"background_fill_color\":\"#fafafa\",\"below\":[{\"id\":\"19367\"}],\"center\":[{\"id\":\"19370\"},{\"id\":\"19374\"},{\"id\":\"19413\"}],\"left\":[{\"id\":\"19371\"}],\"renderers\":[{\"id\":\"19393\"},{\"id\":\"19399\"},{\"id\":\"19419\"}],\"title\":{\"id\":\"19357\"},\"toolbar\":{\"id\":\"19382\"},\"x_range\":{\"id\":\"19359\"},\"x_scale\":{\"id\":\"19363\"},\"y_range\":{\"id\":\"19436\"},\"y_scale\":{\"id\":\"19365\"}},\"id\":\"19356\",\"subtype\":\"Figure\",\"type\":\"Plot\"},{\"attributes\":{},\"id\":\"19409\",\"type\":\"Selection\"},{\"attributes\":{\"label\":{\"value\":\"median\"},\"renderers\":[{\"id\":\"19419\"}]},\"id\":\"19435\",\"type\":\"LegendItem\"},{\"attributes\":{},\"id\":\"19379\",\"type\":\"ResetTool\"},{\"attributes\":{},\"id\":\"19375\",\"type\":\"PanTool\"},{\"attributes\":{},\"id\":\"19404\",\"type\":\"AllLabels\"},{\"attributes\":{\"line_alpha\":0.1,\"line_color\":\"red\",\"line_width\":2,\"x\":{\"value\":6.6568627450980395},\"y\":{\"field\":\"y\"}},\"id\":\"19397\",\"type\":\"Line\"},{\"attributes\":{\"line_alpha\":0.2,\"line_color\":\"green\",\"line_width\":2,\"x\":{\"value\":7.0},\"y\":{\"field\":\"y\"}},\"id\":\"19418\",\"type\":\"Line\"},{\"attributes\":{\"source\":{\"id\":\"19389\"}},\"id\":\"19394\",\"type\":\"CDSView\"},{\"attributes\":{\"coordinates\":null,\"data_source\":{\"id\":\"19415\"},\"glyph\":{\"id\":\"19416\"},\"group\":null,\"hover_glyph\":null,\"muted_glyph\":{\"id\":\"19418\"},\"nonselection_glyph\":{\"id\":\"19417\"},\"view\":{\"id\":\"19420\"}},\"id\":\"19419\",\"type\":\"GlyphRenderer\"},{\"attributes\":{\"bottom_units\":\"screen\",\"coordinates\":null,\"fill_alpha\":0.5,\"fill_color\":\"lightgrey\",\"group\":null,\"left_units\":\"screen\",\"level\":\"overlay\",\"line_alpha\":1.0,\"line_color\":\"black\",\"line_dash\":[4,4],\"line_width\":2,\"right_units\":\"screen\",\"syncable\":false,\"top_units\":\"screen\"},\"id\":\"19381\",\"type\":\"BoxAnnotation\"},{\"attributes\":{},\"id\":\"19378\",\"type\":\"SaveTool\"},{\"attributes\":{},\"id\":\"19406\",\"type\":\"BasicTickFormatter\"},{\"attributes\":{\"end\":38},\"id\":\"19436\",\"type\":\"Range1d\"},{\"attributes\":{\"coordinates\":null,\"data_source\":{\"id\":\"19389\"},\"glyph\":{\"id\":\"19390\"},\"group\":null,\"hover_glyph\":null,\"muted_glyph\":{\"id\":\"19392\"},\"nonselection_glyph\":{\"id\":\"19391\"},\"view\":{\"id\":\"19394\"}},\"id\":\"19393\",\"type\":\"GlyphRenderer\"},{\"attributes\":{},\"id\":\"19403\",\"type\":\"BasicTickFormatter\"},{\"attributes\":{\"fill_alpha\":{\"value\":0.1},\"fill_color\":{\"value\":\"#1f77b4\"},\"hatch_alpha\":{\"value\":0.1},\"line_alpha\":{\"value\":0.1},\"line_color\":{\"value\":\"#1f77b4\"},\"top\":{\"field\":\"top\"},\"width\":{\"value\":0.9},\"x\":{\"field\":\"x\"}},\"id\":\"19391\",\"type\":\"VBar\"},{\"attributes\":{\"line_color\":\"red\",\"line_width\":2,\"x\":{\"value\":6.6568627450980395},\"y\":{\"field\":\"y\"}},\"id\":\"19396\",\"type\":\"Line\"},{\"attributes\":{\"data\":{\"y\":[0,40]},\"selected\":{\"id\":\"19433\"},\"selection_policy\":{\"id\":\"19432\"}},\"id\":\"19415\",\"type\":\"ColumnDataSource\"},{\"attributes\":{\"data\":{\"y\":[0,40]},\"selected\":{\"id\":\"19411\"},\"selection_policy\":{\"id\":\"19410\"}},\"id\":\"19395\",\"type\":\"ColumnDataSource\"},{\"attributes\":{\"line_color\":\"green\",\"line_width\":2,\"x\":{\"value\":7.0},\"y\":{\"field\":\"y\"}},\"id\":\"19416\",\"type\":\"Line\"},{\"attributes\":{},\"id\":\"19380\",\"type\":\"HelpTool\"},{\"attributes\":{\"coordinates\":null,\"data_source\":{\"id\":\"19395\"},\"glyph\":{\"id\":\"19396\"},\"group\":null,\"hover_glyph\":null,\"muted_glyph\":{\"id\":\"19398\"},\"nonselection_glyph\":{\"id\":\"19397\"},\"view\":{\"id\":\"19400\"}},\"id\":\"19399\",\"type\":\"GlyphRenderer\"},{\"attributes\":{},\"id\":\"19410\",\"type\":\"UnionRenderers\"},{\"attributes\":{\"source\":{\"id\":\"19395\"}},\"id\":\"19400\",\"type\":\"CDSView\"},{\"attributes\":{},\"id\":\"19372\",\"type\":\"BasicTicker\"},{\"attributes\":{},\"id\":\"19411\",\"type\":\"Selection\"},{\"attributes\":{\"line_alpha\":0.2,\"line_color\":\"red\",\"line_width\":2,\"x\":{\"value\":6.6568627450980395},\"y\":{\"field\":\"y\"}},\"id\":\"19398\",\"type\":\"Line\"},{\"attributes\":{\"source\":{\"id\":\"19415\"}},\"id\":\"19420\",\"type\":\"CDSView\"},{\"attributes\":{\"label\":{\"value\":\"mean\"},\"renderers\":[{\"id\":\"19399\"}]},\"id\":\"19414\",\"type\":\"LegendItem\"},{\"attributes\":{},\"id\":\"19376\",\"type\":\"WheelZoomTool\"},{\"attributes\":{\"axis\":{\"id\":\"19371\"},\"coordinates\":null,\"dimension\":1,\"grid_line_color\":\"white\",\"group\":null,\"ticker\":null},\"id\":\"19374\",\"type\":\"Grid\"},{\"attributes\":{},\"id\":\"19407\",\"type\":\"AllLabels\"},{\"attributes\":{\"axis\":{\"id\":\"19367\"},\"coordinates\":null,\"grid_line_color\":null,\"group\":null,\"ticker\":null},\"id\":\"19370\",\"type\":\"Grid\"},{\"attributes\":{\"axis_label\":\"Frequency\",\"coordinates\":null,\"formatter\":{\"id\":\"19403\"},\"group\":null,\"major_label_policy\":{\"id\":\"19404\"},\"ticker\":{\"id\":\"19372\"}},\"id\":\"19371\",\"type\":\"LinearAxis\"},{\"attributes\":{},\"id\":\"19363\",\"type\":\"LinearScale\"},{\"attributes\":{\"tools\":[{\"id\":\"19375\"},{\"id\":\"19376\"},{\"id\":\"19377\"},{\"id\":\"19378\"},{\"id\":\"19379\"},{\"id\":\"19380\"}]},\"id\":\"19382\",\"type\":\"Toolbar\"},{\"attributes\":{\"axis_label\":\"Sleep in hours\",\"coordinates\":null,\"formatter\":{\"id\":\"19406\"},\"group\":null,\"major_label_policy\":{\"id\":\"19407\"},\"ticker\":{\"id\":\"19368\"}},\"id\":\"19367\",\"type\":\"LinearAxis\"},{\"attributes\":{\"coordinates\":null,\"group\":null,\"text\":\"Distribution of hours slept\"},\"id\":\"19357\",\"type\":\"Title\"},{\"attributes\":{\"data\":{\"top\":[2,4,12,24,35,16,8,1],\"x\":{\"__ndarray__\":\"AAAAAAAAAEAAAAAAAAAQQAAAAAAAABRAAAAAAAAAGEAAAAAAAAAcQAAAAAAAACBAAAAAAAAAIkAAAAAAAAAkQA==\",\"dtype\":\"float64\",\"order\":\"little\",\"shape\":[8]}},\"selected\":{\"id\":\"19409\"},\"selection_policy\":{\"id\":\"19408\"}},\"id\":\"19389\",\"type\":\"ColumnDataSource\"},{\"attributes\":{\"coordinates\":null,\"group\":null,\"items\":[{\"id\":\"19414\"},{\"id\":\"19435\"}]},\"id\":\"19413\",\"type\":\"Legend\"},{\"attributes\":{},\"id\":\"19368\",\"type\":\"BasicTicker\"},{\"attributes\":{},\"id\":\"19433\",\"type\":\"Selection\"},{\"attributes\":{\"overlay\":{\"id\":\"19381\"}},\"id\":\"19377\",\"type\":\"BoxZoomTool\"},{\"attributes\":{},\"id\":\"19432\",\"type\":\"UnionRenderers\"},{\"attributes\":{},\"id\":\"19359\",\"type\":\"DataRange1d\"},{\"attributes\":{},\"id\":\"19365\",\"type\":\"LinearScale\"},{\"attributes\":{\"fill_color\":{\"value\":\"#1f77b4\"},\"line_color\":{\"value\":\"#1f77b4\"},\"top\":{\"field\":\"top\"},\"width\":{\"value\":0.9},\"x\":{\"field\":\"x\"}},\"id\":\"19390\",\"type\":\"VBar\"},{\"attributes\":{\"fill_alpha\":{\"value\":0.2},\"fill_color\":{\"value\":\"#1f77b4\"},\"hatch_alpha\":{\"value\":0.2},\"line_alpha\":{\"value\":0.2},\"line_color\":{\"value\":\"#1f77b4\"},\"top\":{\"field\":\"top\"},\"width\":{\"value\":0.9},\"x\":{\"field\":\"x\"}},\"id\":\"19392\",\"type\":\"VBar\"},{\"attributes\":{},\"id\":\"19408\",\"type\":\"UnionRenderers\"},{\"attributes\":{\"line_alpha\":0.1,\"line_color\":\"green\",\"line_width\":2,\"x\":{\"value\":7.0},\"y\":{\"field\":\"y\"}},\"id\":\"19417\",\"type\":\"Line\"}],\"root_ids\":[\"19356\"]},\"title\":\"Bokeh Application\",\"version\":\"2.4.2\"}};\n",
       "  const render_items = [{\"docid\":\"9ca40fe8-4f3c-4c0e-b578-8a55dada4910\",\"root_ids\":[\"19356\"],\"roots\":{\"19356\":\"e2104759-6b98-4bea-a560-b81047c38c82\"}}];\n",
       "  root.Bokeh.embed.embed_items_notebook(docs_json, render_items);\n",
       "\n",
       "  }\n",
       "  if (root.Bokeh !== undefined) {\n",
       "    embed_document(root);\n",
       "  } else {\n",
       "    let attempts = 0;\n",
       "    const timer = setInterval(function(root) {\n",
       "      if (root.Bokeh !== undefined) {\n",
       "        clearInterval(timer);\n",
       "        embed_document(root);\n",
       "      } else {\n",
       "        attempts++;\n",
       "        if (attempts > 100) {\n",
       "          clearInterval(timer);\n",
       "          console.log(\"Bokeh: ERROR: Unable to run BokehJS code because BokehJS library is missing\");\n",
       "        }\n",
       "      }\n",
       "    }, 10, root)\n",
       "  }\n",
       "})(window);"
      ],
      "application/vnd.bokehjs_exec.v0+json": ""
     },
     "metadata": {
      "application/vnd.bokehjs_exec.v0+json": {
       "id": "19356"
      }
     },
     "output_type": "display_data"
    }
   ],
   "source": [
    "### Frequency plot ###\n",
    "from bokeh.models import Span\n",
    "from bokeh.models import Range1d\n",
    "# your code to plot here\n",
    "median = df[\"Hours\"].median()\n",
    "mean = df[\"Hours\"].mean()\n",
    "# Create array with all hour values\n",
    "hours = df[\"Hours\"].sort_values().dropna().unique()\n",
    "hours_count = df[\"Hours\"].value_counts().sort_index() #Frequencies per hours\n",
    "\n",
    "# Create a plot with frequency distribution and mean/median\n",
    "p = figure(title=\"Distribution of hours slept\", background_fill_color=\"#fafafa\")\n",
    "p.vbar(x=hours, top=hours_count, width=0.9)\n",
    "p.line(x=mean, y=[0,40], line_width=2, color=\"red\", legend_label=\"mean\")\n",
    "p.line(x=median, y=[0,40], line_width=2, color=\"green\", legend_label=\"median\")\n",
    "p.xaxis.axis_label = 'Sleep in hours'\n",
    "p.yaxis.axis_label = \"Frequency\"\n",
    "p.grid.grid_line_color=\"white\"\n",
    "p.xgrid.grid_line_color = None\n",
    "p.y_range=Range1d(0,38)\n",
    "show(p)\n",
    "\n",
    "\n"
   ]
  },
  {
   "cell_type": "code",
   "execution_count": 260,
   "metadata": {},
   "outputs": [
    {
     "data": {},
     "metadata": {},
     "output_type": "display_data"
    },
    {
     "data": {
      "application/vnd.holoviews_exec.v0+json": "",
      "text/html": [
       "<div id='19900'>\n",
       "\n",
       "\n",
       "\n",
       "\n",
       "\n",
       "  <div class=\"bk-root\" id=\"ef714a05-07ec-468d-b531-c0dcd22aac1c\" data-root-id=\"19900\"></div>\n",
       "</div>\n",
       "<script type=\"application/javascript\">(function(root) {\n",
       "  function embed_document(root) {\n",
       "    var docs_json = {\"3195a1de-b8c5-4c98-98e3-9e98c4196979\":{\"defs\":[{\"extends\":null,\"module\":null,\"name\":\"ReactiveHTML1\",\"overrides\":[],\"properties\":[]},{\"extends\":null,\"module\":null,\"name\":\"FlexBox1\",\"overrides\":[],\"properties\":[{\"default\":\"flex-start\",\"kind\":null,\"name\":\"align_content\"},{\"default\":\"flex-start\",\"kind\":null,\"name\":\"align_items\"},{\"default\":\"row\",\"kind\":null,\"name\":\"flex_direction\"},{\"default\":\"wrap\",\"kind\":null,\"name\":\"flex_wrap\"},{\"default\":\"flex-start\",\"kind\":null,\"name\":\"justify_content\"}]},{\"extends\":null,\"module\":null,\"name\":\"TemplateActions1\",\"overrides\":[],\"properties\":[{\"default\":0,\"kind\":null,\"name\":\"open_modal\"},{\"default\":0,\"kind\":null,\"name\":\"close_modal\"}]},{\"extends\":null,\"module\":null,\"name\":\"MaterialTemplateActions1\",\"overrides\":[],\"properties\":[{\"default\":0,\"kind\":null,\"name\":\"open_modal\"},{\"default\":0,\"kind\":null,\"name\":\"close_modal\"}]}],\"roots\":{\"references\":[{\"attributes\":{\"end\":0.3327918247508123,\"reset_end\":0.3327918247508123,\"reset_start\":0.0,\"tags\":[[[\"Hours_density\",\"Density\",null]]]},\"id\":\"19903\",\"type\":\"Range1d\"},{\"attributes\":{},\"id\":\"19948\",\"type\":\"BasicTickFormatter\"},{\"attributes\":{},\"id\":\"19923\",\"type\":\"PanTool\"},{\"attributes\":{},\"id\":\"19949\",\"type\":\"AllLabels\"},{\"attributes\":{},\"id\":\"19946\",\"type\":\"AllLabels\"},{\"attributes\":{\"callback\":null,\"renderers\":[{\"id\":\"19941\"}],\"tags\":[\"hv_created\"],\"tooltips\":[[\"Hours\",\"@{Hours}\"],[\"Density\",\"@{Hours_density}\"]]},\"id\":\"19904\",\"type\":\"HoverTool\"},{\"attributes\":{\"axis_label\":\"Hours\",\"coordinates\":null,\"formatter\":{\"id\":\"19945\"},\"group\":null,\"major_label_policy\":{\"id\":\"19946\"},\"ticker\":{\"id\":\"19915\"}},\"id\":\"19914\",\"type\":\"LinearAxis\"},{\"attributes\":{\"margin\":[5,5,5,5],\"name\":\"HSpacer12859\",\"sizing_mode\":\"stretch_width\"},\"id\":\"19901\",\"type\":\"Spacer\"},{\"attributes\":{},\"id\":\"19910\",\"type\":\"LinearScale\"},{\"attributes\":{},\"id\":\"19919\",\"type\":\"BasicTicker\"},{\"attributes\":{\"below\":[{\"id\":\"19914\"}],\"center\":[{\"id\":\"19917\"},{\"id\":\"19921\"}],\"height\":300,\"left\":[{\"id\":\"19918\"}],\"margin\":[5,5,5,5],\"min_border_bottom\":10,\"min_border_left\":10,\"min_border_right\":10,\"min_border_top\":10,\"renderers\":[{\"id\":\"19941\"}],\"sizing_mode\":\"fixed\",\"title\":{\"id\":\"19906\"},\"toolbar\":{\"id\":\"19928\"},\"width\":700,\"x_range\":{\"id\":\"19902\"},\"x_scale\":{\"id\":\"19910\"},\"y_range\":{\"id\":\"19903\"},\"y_scale\":{\"id\":\"19912\"}},\"id\":\"19905\",\"subtype\":\"Figure\",\"type\":\"Plot\"},{\"attributes\":{\"axis_label\":\"Density\",\"coordinates\":null,\"formatter\":{\"id\":\"19948\"},\"group\":null,\"major_label_policy\":{\"id\":\"19949\"},\"ticker\":{\"id\":\"19919\"}},\"id\":\"19918\",\"type\":\"LinearAxis\"},{\"attributes\":{},\"id\":\"19945\",\"type\":\"BasicTickFormatter\"},{\"attributes\":{},\"id\":\"19924\",\"type\":\"WheelZoomTool\"},{\"attributes\":{\"axis\":{\"id\":\"19914\"},\"coordinates\":null,\"grid_line_color\":null,\"group\":null,\"ticker\":null},\"id\":\"19917\",\"type\":\"Grid\"},{\"attributes\":{\"coordinates\":null,\"group\":null,\"text_color\":\"black\",\"text_font_size\":\"12pt\"},\"id\":\"19906\",\"type\":\"Title\"},{\"attributes\":{\"fill_alpha\":0.2,\"fill_color\":\"#30a2da\",\"hatch_alpha\":0.2,\"hatch_color\":\"#30a2da\",\"line_alpha\":0.2,\"x\":{\"field\":\"x\"},\"y\":{\"field\":\"y\"}},\"id\":\"19940\",\"type\":\"Patch\"},{\"attributes\":{\"axis\":{\"id\":\"19918\"},\"coordinates\":null,\"dimension\":1,\"grid_line_color\":null,\"group\":null,\"ticker\":null},\"id\":\"19921\",\"type\":\"Grid\"},{\"attributes\":{\"overlay\":{\"id\":\"19927\"}},\"id\":\"19925\",\"type\":\"BoxZoomTool\"},{\"attributes\":{\"source\":{\"id\":\"19935\"}},\"id\":\"19942\",\"type\":\"CDSView\"},{\"attributes\":{\"coordinates\":null,\"data_source\":{\"id\":\"19935\"},\"glyph\":{\"id\":\"19938\"},\"group\":null,\"hover_glyph\":null,\"muted_glyph\":{\"id\":\"19940\"},\"nonselection_glyph\":{\"id\":\"19939\"},\"selection_glyph\":{\"id\":\"19943\"},\"view\":{\"id\":\"19942\"}},\"id\":\"19941\",\"type\":\"GlyphRenderer\"},{\"attributes\":{},\"id\":\"19915\",\"type\":\"BasicTicker\"},{\"attributes\":{},\"id\":\"19926\",\"type\":\"ResetTool\"},{\"attributes\":{},\"id\":\"19922\",\"type\":\"SaveTool\"},{\"attributes\":{\"margin\":[5,5,5,5],\"name\":\"HSpacer12860\",\"sizing_mode\":\"stretch_width\"},\"id\":\"19970\",\"type\":\"Spacer\"},{\"attributes\":{\"bottom_units\":\"screen\",\"coordinates\":null,\"fill_alpha\":0.5,\"fill_color\":\"lightgrey\",\"group\":null,\"left_units\":\"screen\",\"level\":\"overlay\",\"line_alpha\":1.0,\"line_color\":\"black\",\"line_dash\":[4,4],\"line_width\":2,\"right_units\":\"screen\",\"syncable\":false,\"top_units\":\"screen\"},\"id\":\"19927\",\"type\":\"BoxAnnotation\"},{\"attributes\":{},\"id\":\"19912\",\"type\":\"LinearScale\"},{\"attributes\":{\"fill_alpha\":0.5,\"fill_color\":\"#30a2da\",\"hatch_alpha\":0.1,\"hatch_color\":\"#30a2da\",\"line_alpha\":1,\"x\":{\"field\":\"x\"},\"y\":{\"field\":\"y\"}},\"id\":\"19939\",\"type\":\"Patch\"},{\"attributes\":{\"fill_alpha\":0.5,\"fill_color\":\"#30a2da\",\"hatch_color\":\"#30a2da\",\"x\":{\"field\":\"x\"},\"y\":{\"field\":\"y\"}},\"id\":\"19938\",\"type\":\"Patch\"},{\"attributes\":{\"data\":{\"x\":{\"__ndarray__\":\"CLuCLOkQ1D902zwCE2vbP/B9+2ueYuE/J47YVrMP5T9dnrVByLzoP5Oukizdaew/Zd+3C3kL8D+AZyaBA+LxP5vvlPaNuPM/tncDbBiP9T/R/3HhomX3P+yH4FYtPPk/CBBPzLcS+z8jmL1BQun8Pz4gLLfMv/4/LFRNlitLAEA6mATRcDYBQEjcuwu2IQJAVSBzRvsMA0BjZCqBQPgDQHCo4buF4wRAfuyY9srOBUCLMFAxELoGQJl0B2xVpQdAp7i+ppqQCEC0/HXh33sJQMJALRwlZwpAz4TkVmpSC0DdyJuRrz0MQOoMU8z0KA1A+FAKBzoUDkAFlcFBf/8OQBPZeHzE6g9AkA6Y2wRrEECXsPN4p+AQQJ5STxZKVhFApPSqs+zLEUCslgZRj0ESQLI4Yu4xtxJAuNq9i9QsE0DAfBkpd6ITQMYedcYZGBRAzsDQY7yNFEDUYiwBXwMVQNoEiJ4BeRVA4qbjO6TuFUDoSD/ZRmQWQPDqmnbp2RZA9oz2E4xPF0D8LlKxLsUXQATRrU7ROhhACnMJ7HOwGEASFWWJFiYZQBi3wCa5mxlAHlkcxFsRGkAm+3dh/oYaQCyd0/6g/BpAND8vnENyG0A64Yo55ucbQECD5taIXRxASCVCdCvTHEBOx50RzkgdQFRp+a5wvh1AXAtVTBM0HkBirbDptakeQGpPDIdYHx9AcPFnJPuUH0C7yeHgTgUgQL+ajy8gQCBAwms9fvF6IEDFPOvMwrUgQMkNmRuU8CBAzN5GamUrIUDQr/S4NmYhQNOAogcIoSFA1lFQVtnbIUDaIv6kqhYiQN3zq/N7USJA4MRZQk2MIkDklQeRHsciQOdmtd/vASNA6zdjLsE8I0DuCBF9kncjQPHZvstjsiNA9apsGjXtI0D4exppBigkQPxMyLfXYiRA/x12BqmdJEAC7yNVetgkQAbA0aNLEyVACZF/8hxOJUANYi1B7oglQBAz24+/wyVAEwSJ3pD+JUAX1TYtYjkmQBqm5HszdCZAHneSygSvJkAhSEAZ1ukmQCQZ7menJCdAKOqbtnhfJ0Ao6pu2eF8nQCQZ7menJCdAIUhAGdbpJkAed5LKBK8mQBqm5HszdCZAF9U2LWI5JkATBInekP4lQBAz24+/wyVADWItQe6IJUAJkX/yHE4lQAbA0aNLEyVAAu8jVXrYJED/HXYGqZ0kQPxMyLfXYiRA+HsaaQYoJED1qmwaNe0jQPHZvstjsiNA7ggRfZJ3I0DrN2MuwTwjQOdmtd/vASNA5JUHkR7HIkDgxFlCTYwiQN3zq/N7USJA2iL+pKoWIkDWUVBW2dshQNOAogcIoSFA0K/0uDZmIUDM3kZqZSshQMkNmRuU8CBAxTzrzMK1IEDCaz1+8XogQL+ajy8gQCBAu8nh4E4FIEBw8Wck+5QfQGpPDIdYHx9AYq2w6bWpHkBcC1VMEzQeQFRp+a5wvh1ATsedEc5IHUBIJUJ0K9McQECD5taIXRxAOuGKOebnG0A0Py+cQ3IbQCyd0/6g/BpAJvt3Yf6GGkAeWRzEWxEaQBi3wCa5mxlAEhVliRYmGUAKcwnsc7AYQATRrU7ROhhA/C5SsS7FF0D2jPYTjE8XQPDqmnbp2RZA6Eg/2UZkFkDipuM7pO4VQNoEiJ4BeRVA1GIsAV8DFUDOwNBjvI0UQMYedcYZGBRAwHwZKXeiE0C42r2L1CwTQLI4Yu4xtxJArJYGUY9BEkCk9Kqz7MsRQJ5STxZKVhFAl7DzeKfgEECQDpjbBGsQQBPZeHzE6g9ABZXBQX//DkD4UAoHOhQOQOoMU8z0KA1A3cibka89DEDPhORWalILQMJALRwlZwpAtPx14d97CUCnuL6mmpAIQJl0B2xVpQdAizBQMRC6BkB+7Jj2ys4FQHCo4buF4wRAY2QqgUD4A0BVIHNG+wwDQEjcuwu2IQJAOpgE0XA2AUAsVE2WK0sAQD4gLLfMv/4/I5i9QULp/D8IEE/MtxL7P+yH4FYtPPk/0f9x4aJl9z+2dwNsGI/1P5vvlPaNuPM/gGcmgQPi8T9l37cLeQvwP5Oukizdaew/XZ61Qci86D8njthWsw/lP/B9+2ueYuE/dNs8AhNr2z8Iu4Is6RDUPw==\",\"dtype\":\"float64\",\"order\":\"little\",\"shape\":[200]},\"y\":{\"__ndarray__\":\"AAAAAAAAAAAAAAAAAAAAAAAAAAAAAAAAAAAAAAAAAAAAAAAAAAAAAAAAAAAAAAAAAAAAAAAAAAAAAAAAAAAAAAAAAAAAAAAAAAAAAAAAAAAAAAAAAAAAAAAAAAAAAAAAAAAAAAAAAAAAAAAAAAAAAAAAAAAAAAAAAAAAAAAAAAAAAAAAAAAAAAAAAAAAAAAAAAAAAAAAAAAAAAAAAAAAAAAAAAAAAAAAAAAAAAAAAAAAAAAAAAAAAAAAAAAAAAAAAAAAAAAAAAAAAAAAAAAAAAAAAAAAAAAAAAAAAAAAAAAAAAAAAAAAAAAAAAAAAAAAAAAAAAAAAAAAAAAAAAAAAAAAAAAAAAAAAAAAAAAAAAAAAAAAAAAAAAAAAAAAAAAAAAAAAAAAAAAAAAAAAAAAAAAAAAAAAAAAAAAAAAAAAAAAAAAAAAAAAAAAAAAAAAAAAAAAAAAAAAAAAAAAAAAAAAAAAAAAAAAAAAAAAAAAAAAAAAAAAAAAAAAAAAAAAAAAAAAAAAAAAAAAAAAAAAAAAAAAAAAAAAAAAAAAAAAAAAAAAAAAAAAAAAAAAAAAAAAAAAAAAAAAAAAAAAAAAAAAAAAAAAAAAAAAAAAAAAAAAAAAAAAAAAAAAAAAAAAAAAAAAAAAAAAAAAAAAAAAAAAAAAAAAAAAAAAAAAAAAAAAAAAAAAAAAAAAAAAAAAAAAAAAAAAAAAAAAAAAAAAAAAAAAAAAAAAAAAAAAAAAAAAAAAAAAAAAAAAAAAAAAAAAAAAAAAAAAAAAAAAAAAAAAAAAAAAAAAAAAAAAAAAAAAAAAAAAAAAAAAAAAAAAAAAAAAAAAAAAAAAAAAAAAAAAAAAAAAAAAAAAAAAAAAAAAAAAAAAAAAAAAAAAAAAAAAAAAAAAAAAAAAAAAAAAAAAAAAAAAAAAAAAAAAAAAAAAAAAAAAAAAAAAAAAAAAAAAAAAAAAAAAAAAAAAAAAAAAAAAAAAAAAAAAAAAAAAAAAAAAAAAAAAAAAAAAAAAAAAAAAAAAAAAAAAAAAAAAAAAAAAAAAAAAAAAAAAAAAAAAAAAAAAAAAjNPBc8WsUP4NEfMYfhiI/NxxkNagjMD+UZzrGuAc7PxYhiMNMxkU/WEMgExLlUD9SLTMWRUtZP+Oely8XT2I/AP1Nlo+0aT/nL9ZoZpBxP49icau8dnc/CY+0EwDJfj96Kfl3l+yDP5cHJaJLiYk/U2KyruA8kD8h/zLlkH6UP17svVSuoZk/iR3rddmtnz+q0uMgzkmjP0M/Im6OFac/0GP3oEkdqz/3PKYmGUKvPw3DbNn6tbE/Cn9xIb3Isz9FCJQQrt21Pw/d673hALg/ApZEgRRCuj+WoYO7ea+8P3qDmwW7Ub8/NqUyJowVwT+BF3hTEp3CP9kjzc9RP8Q/OgD4BcL+xT82i8ZzZODHP/vAaa7d6Mk/xOE7AUUXzD/xh58MpV/OP81jNc3tU9A/c/GskIVk0T+C/nYEGEvSPwZVJRQi89I/Wgc1nk9P0z/Sx2Mk5lzTP2KXthkWJNM/VmplVAe10j8WdnouuSLSP6+uCDmhfdE/43MFU/jP0D/JonWq3hzQP8ge9wORxM4/V+rNxxU5zT9IUfVssZPLPzkDSBV52Mk/CgcYOd0SyD8TSSTsy1HGP5zWUkZ2osQ/Zma+tjQMwz9F/9JINY/BP0Y6ARAvJsA/q8EaUPyTvT9meqkSwOq6P2X8I5Z2Trg/aXQB5HHFtT8xo6zf/VqzP/jZGcYxGrE/g4P9BiETrj/E31pMV1KqP5MirMZT56Y/+n6TNKrCoz/WLgRyWNegP1f0B80mQJw/0ok0XzpClz8UUdPHM82SPzYInOg5Ao4/3wAgQ7D4hz/QmLjhJqeDP+utaMcpGYE/LoKlECI4gD9O5m5T/MuAP4rL2yV0f4I/2JZQo0HnhD8hFfps9IuHPwBQcKs89ok/UmXXs6W8iz99eXqRvpCMPyA/Wx4ASYw/YW0m4PPkij/iOl2qToqIPzaGor9/e4U/Rqq16PQJgj8A/jNVuw59P3RiV2FlcnY/sAHqLJShcD8OrlMM/6JnP+LKev4SHGA/z4rOCqMPVT83I4y5gGhKP9knBeMzwj8/JjBTo8FQMj+qf5ZJ5kIkPw==\",\"dtype\":\"float64\",\"order\":\"little\",\"shape\":[200]}},\"selected\":{\"id\":\"19936\"},\"selection_policy\":{\"id\":\"19957\"}},\"id\":\"19935\",\"type\":\"ColumnDataSource\"},{\"attributes\":{},\"id\":\"19936\",\"type\":\"Selection\"},{\"attributes\":{},\"id\":\"19957\",\"type\":\"UnionRenderers\"},{\"attributes\":{\"children\":[{\"id\":\"19901\"},{\"id\":\"19905\"},{\"id\":\"19970\"}],\"margin\":[0,0,0,0],\"name\":\"Row12855\",\"tags\":[\"embedded\"]},\"id\":\"19900\",\"type\":\"Row\"},{\"attributes\":{\"fill_alpha\":0.5,\"fill_color\":\"#30a2da\",\"hatch_color\":\"#30a2da\",\"x\":{\"field\":\"x\"},\"y\":{\"field\":\"y\"}},\"id\":\"19943\",\"type\":\"Patch\"},{\"attributes\":{\"end\":11.686467844517281,\"reset_end\":11.686467844517281,\"reset_start\":0.31353215548271907,\"start\":0.31353215548271907,\"tags\":[[[\"Hours\",\"Hours\",null]]]},\"id\":\"19902\",\"type\":\"Range1d\"},{\"attributes\":{\"tools\":[{\"id\":\"19904\"},{\"id\":\"19922\"},{\"id\":\"19923\"},{\"id\":\"19924\"},{\"id\":\"19925\"},{\"id\":\"19926\"}]},\"id\":\"19928\",\"type\":\"Toolbar\"}],\"root_ids\":[\"19900\"]},\"title\":\"Bokeh Application\",\"version\":\"2.4.2\"}};\n",
       "    var render_items = [{\"docid\":\"3195a1de-b8c5-4c98-98e3-9e98c4196979\",\"root_ids\":[\"19900\"],\"roots\":{\"19900\":\"ef714a05-07ec-468d-b531-c0dcd22aac1c\"}}];\n",
       "    root.Bokeh.embed.embed_items_notebook(docs_json, render_items);\n",
       "  }\n",
       "  if (root.Bokeh !== undefined && root.Bokeh.Panel !== undefined) {\n",
       "    embed_document(root);\n",
       "  } else {\n",
       "    var attempts = 0;\n",
       "    var timer = setInterval(function(root) {\n",
       "      if (root.Bokeh !== undefined && root.Bokeh.Panel !== undefined) {\n",
       "        clearInterval(timer);\n",
       "        embed_document(root);\n",
       "      } else if (document.readyState == \"complete\") {\n",
       "        attempts++;\n",
       "        if (attempts > 200) {\n",
       "          clearInterval(timer);\n",
       "          console.log(\"Bokeh: ERROR: Unable to run BokehJS code because BokehJS library is missing\");\n",
       "        }\n",
       "      }\n",
       "    }, 25, root)\n",
       "  }\n",
       "})(window);</script>"
      ],
      "text/plain": [
       ":Distribution   [Hours]   (Density)"
      ]
     },
     "execution_count": 260,
     "metadata": {
      "application/vnd.holoviews_exec.v0+json": {
       "id": "19900"
      }
     },
     "output_type": "execute_result"
    }
   ],
   "source": [
    "### Density plot ###\n",
    "import hvplot.pandas\n",
    "df[\"Hours\"].hvplot.kde()"
   ]
  },
  {
   "cell_type": "code",
   "execution_count": 261,
   "metadata": {},
   "outputs": [
    {
     "data": {
      "text/plain": [
       "ShapiroResult(statistic=0.93398118019104, pvalue=7.15833084541373e-05)"
      ]
     },
     "execution_count": 261,
     "metadata": {},
     "output_type": "execute_result"
    }
   ],
   "source": [
    "# Shapiro-Wilk test for normality\n",
    "from scipy import stats\n",
    "\n",
    "shapiro_test = stats.shapiro(df[\"Hours\"].dropna())\n",
    "shapiro_test"
   ]
  },
  {
   "cell_type": "code",
   "execution_count": 262,
   "metadata": {},
   "outputs": [
    {
     "name": "stdout",
     "output_type": "stream",
     "text": [
      "Data does not seem to be normally distributed according to the Shapiro-Wilks plot. Visually, however, it seems normally distributed\n"
     ]
    }
   ],
   "source": [
    "# briefly summarize your findings\n",
    "print(\"Data does not seem to be normally distributed according to the Shapiro-Wilks plot. Visually, however, it seems normally distributed\")"
   ]
  },
  {
   "cell_type": "markdown",
   "metadata": {},
   "source": [
    "<a name='ex-32'></a>\n",
    "### Check homogeneity of variance (20 pt)\n",
    "\n",
    "<ul><li>\n",
    "Use boxplots for the check of homoegeneity of variance. Do you want the full points? Plot with bokeh!</li>\n",
    "\n",
    "<li>Use a Levene’s & Bartlett’s Test of Equality (Homogeneity) of Variance to test equal variance statistically</li><ul>"
   ]
  },
  {
   "cell_type": "code",
   "execution_count": 263,
   "metadata": {},
   "outputs": [
    {
     "data": {},
     "metadata": {},
     "output_type": "display_data"
    },
    {
     "data": {
      "application/vnd.holoviews_exec.v0+json": "",
      "text/html": [
       "<div id='20022'>\n",
       "\n",
       "\n",
       "\n",
       "\n",
       "\n",
       "  <div class=\"bk-root\" id=\"06a38412-e3da-4d49-a658-648374c342d4\" data-root-id=\"20022\"></div>\n",
       "</div>\n",
       "<script type=\"application/javascript\">(function(root) {\n",
       "  function embed_document(root) {\n",
       "    var docs_json = {\"7dec4678-e868-4978-94db-c245f06757a3\":{\"defs\":[{\"extends\":null,\"module\":null,\"name\":\"ReactiveHTML1\",\"overrides\":[],\"properties\":[]},{\"extends\":null,\"module\":null,\"name\":\"FlexBox1\",\"overrides\":[],\"properties\":[{\"default\":\"flex-start\",\"kind\":null,\"name\":\"align_content\"},{\"default\":\"flex-start\",\"kind\":null,\"name\":\"align_items\"},{\"default\":\"row\",\"kind\":null,\"name\":\"flex_direction\"},{\"default\":\"wrap\",\"kind\":null,\"name\":\"flex_wrap\"},{\"default\":\"flex-start\",\"kind\":null,\"name\":\"justify_content\"}]},{\"extends\":null,\"module\":null,\"name\":\"TemplateActions1\",\"overrides\":[],\"properties\":[{\"default\":0,\"kind\":null,\"name\":\"open_modal\"},{\"default\":0,\"kind\":null,\"name\":\"close_modal\"}]},{\"extends\":null,\"module\":null,\"name\":\"MaterialTemplateActions1\",\"overrides\":[],\"properties\":[{\"default\":0,\"kind\":null,\"name\":\"open_modal\"},{\"default\":0,\"kind\":null,\"name\":\"close_modal\"}]}],\"roots\":{\"references\":[{\"attributes\":{},\"id\":\"20112\",\"type\":\"UnionRenderers\"},{\"attributes\":{\"line_alpha\":{\"value\":1.0},\"line_cap\":{\"value\":\"butt\"},\"line_color\":{\"value\":\"black\"},\"line_dash\":{\"value\":[]},\"line_dash_offset\":{\"value\":0},\"line_join\":{\"value\":\"bevel\"},\"line_width\":{\"value\":1},\"x0\":{\"field\":\"x0\"},\"x1\":{\"field\":\"x1\"},\"y0\":{\"field\":\"y0\"},\"y1\":{\"field\":\"y1\"}},\"id\":\"20069\",\"type\":\"Segment\"},{\"attributes\":{},\"id\":\"20113\",\"type\":\"Selection\"},{\"attributes\":{\"tools\":[{\"id\":\"20042\"},{\"id\":\"20043\"},{\"id\":\"20044\"},{\"id\":\"20045\"},{\"id\":\"20046\"}]},\"id\":\"20048\",\"type\":\"Toolbar\"},{\"attributes\":{\"margin\":[5,5,5,5],\"name\":\"HSpacer13142\",\"sizing_mode\":\"stretch_width\"},\"id\":\"20023\",\"type\":\"Spacer\"},{\"attributes\":{\"coordinates\":null,\"group\":null,\"items\":[]},\"id\":\"20121\",\"type\":\"Legend\"},{\"attributes\":{\"coordinates\":null,\"data_source\":{\"id\":\"20070\"},\"glyph\":{\"id\":\"20072\"},\"group\":null,\"hover_glyph\":null,\"muted_glyph\":{\"id\":\"20074\"},\"nonselection_glyph\":{\"id\":\"20073\"},\"selection_glyph\":{\"id\":\"20077\"},\"view\":{\"id\":\"20076\"}},\"id\":\"20075\",\"type\":\"GlyphRenderer\"},{\"attributes\":{\"x0\":{\"field\":\"x0\"},\"x1\":{\"field\":\"x1\"},\"y0\":{\"field\":\"y0\"},\"y1\":{\"field\":\"y1\"}},\"id\":\"20064\",\"type\":\"Segment\"},{\"attributes\":{\"source\":{\"id\":\"20062\"}},\"id\":\"20068\",\"type\":\"CDSView\"},{\"attributes\":{\"line_alpha\":{\"value\":1.0},\"line_cap\":{\"value\":\"butt\"},\"line_color\":{\"value\":\"black\"},\"line_dash\":{\"value\":[]},\"line_dash_offset\":{\"value\":0},\"line_join\":{\"value\":\"bevel\"},\"line_width\":{\"value\":1},\"x0\":{\"field\":\"x0\"},\"x1\":{\"field\":\"x1\"},\"y0\":{\"field\":\"y0\"},\"y1\":{\"field\":\"y1\"}},\"id\":\"20085\",\"type\":\"Segment\"},{\"attributes\":{},\"id\":\"20114\",\"type\":\"UnionRenderers\"},{\"attributes\":{\"fill_alpha\":{\"value\":0.1},\"fill_color\":{\"value\":\"black\"},\"hatch_alpha\":{\"value\":0.1},\"line_alpha\":{\"value\":0.1},\"x\":{\"field\":\"index\"},\"y\":{\"field\":\"Hours\"}},\"id\":\"20057\",\"type\":\"Circle\"},{\"attributes\":{},\"id\":\"20115\",\"type\":\"Selection\"},{\"attributes\":{\"data\":{\"x0\":[\"3\",\"2\",\"4\",\"5\",\"1\"],\"x1\":[\"3\",\"2\",\"4\",\"5\",\"1\"],\"y0\":{\"__ndarray__\":\"AAAAAAAAFEAAAAAAAAAUQAAAAAAAABRAAAAAAAAAAEAAAAAAAAAcQA==\",\"dtype\":\"float64\",\"order\":\"little\",\"shape\":[5]},\"y1\":{\"__ndarray__\":\"AAAAAAAAGEAAAAAAAAAYQAAAAAAAABhAAAAAAAAAEUAAAAAAAAAfQA==\",\"dtype\":\"float64\",\"order\":\"little\",\"shape\":[5]}},\"selected\":{\"id\":\"20113\"},\"selection_policy\":{\"id\":\"20112\"}},\"id\":\"20070\",\"type\":\"ColumnDataSource\"},{\"attributes\":{\"coordinates\":null,\"group\":null,\"text_color\":\"black\",\"text_font_size\":\"12pt\"},\"id\":\"20027\",\"type\":\"Title\"},{\"attributes\":{\"line_alpha\":{\"value\":0.1},\"x0\":{\"field\":\"x0\"},\"x1\":{\"field\":\"x1\"},\"y0\":{\"field\":\"y0\"},\"y1\":{\"field\":\"y1\"}},\"id\":\"20073\",\"type\":\"Segment\"},{\"attributes\":{\"children\":[{\"id\":\"20023\"},{\"id\":\"20026\"},{\"id\":\"20182\"}],\"margin\":[0,0,0,0],\"name\":\"Row13138\",\"tags\":[\"embedded\"]},\"id\":\"20022\",\"type\":\"Row\"},{\"attributes\":{\"data\":{\"x0\":[[\"3\",-0.2],[\"2\",-0.2],[\"4\",-0.2],[\"5\",-0.2],[\"1\",-0.2]],\"x1\":[[\"3\",0.2],[\"2\",0.2],[\"4\",0.2],[\"5\",0.2],[\"1\",0.2]],\"y0\":[8.0,8.0,8.0,9.0,9.0],\"y1\":[8.0,8.0,8.0,9.0,9.0]},\"selected\":{\"id\":\"20117\"},\"selection_policy\":{\"id\":\"20116\"}},\"id\":\"20086\",\"type\":\"ColumnDataSource\"},{\"attributes\":{\"line_alpha\":{\"value\":0.2},\"x0\":{\"field\":\"x0\"},\"x1\":{\"field\":\"x1\"},\"y0\":{\"field\":\"y0\"},\"y1\":{\"field\":\"y1\"}},\"id\":\"20090\",\"type\":\"Segment\"},{\"attributes\":{\"data\":{\"x0\":[[\"3\",-0.2],[\"2\",-0.2],[\"4\",-0.2],[\"5\",-0.2],[\"1\",-0.2]],\"x1\":[[\"3\",0.2],[\"2\",0.2],[\"4\",0.2],[\"5\",0.2],[\"1\",0.2]],\"y0\":[5.0,5.0,5.0,2.0,7.0],\"y1\":[5.0,5.0,5.0,2.0,7.0]},\"selected\":{\"id\":\"20115\"},\"selection_policy\":{\"id\":\"20114\"}},\"id\":\"20078\",\"type\":\"ColumnDataSource\"},{\"attributes\":{\"line_alpha\":{\"value\":1.0},\"line_cap\":{\"value\":\"butt\"},\"line_color\":{\"value\":\"black\"},\"line_dash\":{\"value\":[]},\"line_dash_offset\":{\"value\":0},\"line_join\":{\"value\":\"bevel\"},\"line_width\":{\"value\":1},\"x0\":{\"field\":\"x0\"},\"x1\":{\"field\":\"x1\"},\"y0\":{\"field\":\"y0\"},\"y1\":{\"field\":\"y1\"}},\"id\":\"20077\",\"type\":\"Segment\"},{\"attributes\":{\"coordinates\":null,\"data_source\":{\"id\":\"20086\"},\"glyph\":{\"id\":\"20088\"},\"group\":null,\"hover_glyph\":null,\"muted_glyph\":{\"id\":\"20090\"},\"nonselection_glyph\":{\"id\":\"20089\"},\"selection_glyph\":{\"id\":\"20093\"},\"view\":{\"id\":\"20092\"}},\"id\":\"20091\",\"type\":\"GlyphRenderer\"},{\"attributes\":{\"below\":[{\"id\":\"20035\"}],\"center\":[{\"id\":\"20037\"},{\"id\":\"20041\"},{\"id\":\"20121\"}],\"height\":300,\"left\":[{\"id\":\"20038\"}],\"margin\":[5,5,5,5],\"min_border_bottom\":10,\"min_border_left\":10,\"min_border_right\":10,\"min_border_top\":10,\"renderers\":[{\"id\":\"20059\"},{\"id\":\"20067\"},{\"id\":\"20075\"},{\"id\":\"20083\"},{\"id\":\"20091\"},{\"id\":\"20099\"},{\"id\":\"20129\"}],\"sizing_mode\":\"fixed\",\"title\":{\"id\":\"20027\"},\"toolbar\":{\"id\":\"20048\"},\"width\":700,\"x_range\":{\"id\":\"20024\"},\"x_scale\":{\"id\":\"20031\"},\"y_range\":{\"id\":\"20025\"},\"y_scale\":{\"id\":\"20033\"}},\"id\":\"20026\",\"subtype\":\"Figure\",\"type\":\"Plot\"},{\"attributes\":{\"line_alpha\":{\"value\":1.0},\"line_cap\":{\"value\":\"butt\"},\"line_color\":{\"value\":\"black\"},\"line_dash\":{\"value\":[]},\"line_dash_offset\":{\"value\":0},\"line_join\":{\"value\":\"bevel\"},\"line_width\":{\"value\":1},\"x0\":{\"field\":\"x0\"},\"x1\":{\"field\":\"x1\"},\"y0\":{\"field\":\"y0\"},\"y1\":{\"field\":\"y1\"}},\"id\":\"20093\",\"type\":\"Segment\"},{\"attributes\":{},\"id\":\"20116\",\"type\":\"UnionRenderers\"},{\"attributes\":{\"line_alpha\":{\"value\":0.2},\"x0\":{\"field\":\"x0\"},\"x1\":{\"field\":\"x1\"},\"y0\":{\"field\":\"y0\"},\"y1\":{\"field\":\"y1\"}},\"id\":\"20082\",\"type\":\"Segment\"},{\"attributes\":{},\"id\":\"20103\",\"type\":\"BasicTickFormatter\"},{\"attributes\":{},\"id\":\"20117\",\"type\":\"Selection\"},{\"attributes\":{\"fill_alpha\":{\"value\":0.2},\"fill_color\":{\"value\":\"black\"},\"hatch_alpha\":{\"value\":0.2},\"line_alpha\":{\"value\":0.2},\"x\":{\"field\":\"index\"},\"y\":{\"field\":\"Hours\"}},\"id\":\"20058\",\"type\":\"Circle\"},{\"attributes\":{},\"id\":\"20104\",\"type\":\"AllLabels\"},{\"attributes\":{},\"id\":\"20158\",\"type\":\"Selection\"},{\"attributes\":{\"source\":{\"id\":\"20086\"}},\"id\":\"20092\",\"type\":\"CDSView\"},{\"attributes\":{},\"id\":\"20157\",\"type\":\"UnionRenderers\"},{\"attributes\":{\"source\":{\"id\":\"20094\"}},\"id\":\"20100\",\"type\":\"CDSView\"},{\"attributes\":{\"line_alpha\":{\"value\":0.2},\"x0\":{\"field\":\"x0\"},\"x1\":{\"field\":\"x1\"},\"y0\":{\"field\":\"y0\"},\"y1\":{\"field\":\"y1\"}},\"id\":\"20066\",\"type\":\"Segment\"},{\"attributes\":{},\"id\":\"20106\",\"type\":\"CategoricalTickFormatter\"},{\"attributes\":{\"line_alpha\":{\"value\":0.2},\"x0\":{\"field\":\"x0\"},\"x1\":{\"field\":\"x1\"},\"y0\":{\"field\":\"y0\"},\"y1\":{\"field\":\"y1\"}},\"id\":\"20074\",\"type\":\"Segment\"},{\"attributes\":{},\"id\":\"20031\",\"type\":\"CategoricalScale\"},{\"attributes\":{\"angle\":{\"value\":0.0},\"fill_alpha\":{\"value\":1.0},\"fill_color\":{\"value\":\"black\"},\"hatch_alpha\":{\"value\":1.0},\"hatch_color\":{\"value\":\"black\"},\"hatch_scale\":{\"value\":12.0},\"hatch_weight\":{\"value\":1.0},\"line_alpha\":{\"value\":1.0},\"line_cap\":{\"value\":\"butt\"},\"line_color\":{\"value\":\"black\"},\"line_dash\":{\"value\":[]},\"line_dash_offset\":{\"value\":0},\"line_join\":{\"value\":\"bevel\"},\"line_width\":{\"value\":1},\"size\":{\"value\":4},\"x\":{\"field\":\"index\"},\"y\":{\"field\":\"Hours\"}},\"id\":\"20061\",\"type\":\"Circle\"},{\"attributes\":{\"source\":{\"id\":\"20070\"}},\"id\":\"20076\",\"type\":\"CDSView\"},{\"attributes\":{\"bottom\":{\"field\":\"bottom\"},\"fill_alpha\":{\"value\":0.1},\"fill_color\":{\"value\":\"#30a2da\"},\"hatch_alpha\":{\"value\":0.1},\"line_alpha\":{\"value\":0.1},\"top\":{\"field\":\"top\"},\"width\":{\"value\":0.7},\"x\":{\"field\":\"index\"}},\"id\":\"20127\",\"type\":\"VBar\"},{\"attributes\":{},\"id\":\"20107\",\"type\":\"AllLabels\"},{\"attributes\":{\"factors\":[\"3\",\"2\",\"4\",\"5\",\"1\"],\"tags\":[[[\"Tired\",\"Tired\",null]]]},\"id\":\"20024\",\"type\":\"FactorRange\"},{\"attributes\":{\"bottom\":{\"field\":\"bottom\"},\"fill_alpha\":{\"value\":1.0},\"fill_color\":{\"value\":\"#30a2da\"},\"hatch_alpha\":{\"value\":1.0},\"hatch_color\":{\"value\":\"black\"},\"hatch_scale\":{\"value\":12.0},\"hatch_weight\":{\"value\":1.0},\"line_alpha\":{\"value\":1.0},\"line_cap\":{\"value\":\"butt\"},\"line_color\":{\"value\":\"black\"},\"line_dash\":{\"value\":[]},\"line_dash_offset\":{\"value\":0},\"line_join\":{\"value\":\"bevel\"},\"line_width\":{\"value\":1},\"top\":{\"field\":\"top\"},\"width\":{\"value\":0.7},\"x\":{\"field\":\"index\"}},\"id\":\"20123\",\"type\":\"VBar\"},{\"attributes\":{\"source\":{\"id\":\"20124\"}},\"id\":\"20130\",\"type\":\"CDSView\"},{\"attributes\":{\"margin\":[5,5,5,5],\"name\":\"HSpacer13143\",\"sizing_mode\":\"stretch_width\"},\"id\":\"20182\",\"type\":\"Spacer\"},{\"attributes\":{\"axis\":{\"id\":\"20035\"},\"coordinates\":null,\"grid_line_color\":null,\"group\":null,\"ticker\":null},\"id\":\"20037\",\"type\":\"Grid\"},{\"attributes\":{\"source\":{\"id\":\"20078\"}},\"id\":\"20084\",\"type\":\"CDSView\"},{\"attributes\":{},\"id\":\"20118\",\"type\":\"UnionRenderers\"},{\"attributes\":{\"end\":10.8,\"reset_end\":10.8,\"reset_start\":1.2,\"start\":1.2,\"tags\":[[[\"Hours\",\"Hours\",null]]]},\"id\":\"20025\",\"type\":\"Range1d\"},{\"attributes\":{\"bottom\":{\"field\":\"bottom\"},\"fill_alpha\":{\"value\":0.2},\"fill_color\":{\"value\":\"#30a2da\"},\"hatch_alpha\":{\"value\":0.2},\"line_alpha\":{\"value\":0.2},\"top\":{\"field\":\"top\"},\"width\":{\"value\":0.7},\"x\":{\"field\":\"index\"}},\"id\":\"20128\",\"type\":\"VBar\"},{\"attributes\":{},\"id\":\"20033\",\"type\":\"LinearScale\"},{\"attributes\":{\"coordinates\":null,\"data_source\":{\"id\":\"20094\"},\"glyph\":{\"id\":\"20096\"},\"group\":null,\"hover_glyph\":null,\"muted_glyph\":{\"id\":\"20098\"},\"nonselection_glyph\":{\"id\":\"20097\"},\"selection_glyph\":{\"id\":\"20123\"},\"view\":{\"id\":\"20100\"}},\"id\":\"20099\",\"type\":\"GlyphRenderer\"},{\"attributes\":{\"axis\":{\"id\":\"20038\"},\"coordinates\":null,\"dimension\":1,\"grid_line_color\":null,\"group\":null,\"ticker\":null},\"id\":\"20041\",\"type\":\"Grid\"},{\"attributes\":{},\"id\":\"20119\",\"type\":\"Selection\"},{\"attributes\":{\"coordinates\":null,\"data_source\":{\"id\":\"20078\"},\"glyph\":{\"id\":\"20080\"},\"group\":null,\"hover_glyph\":null,\"muted_glyph\":{\"id\":\"20082\"},\"nonselection_glyph\":{\"id\":\"20081\"},\"selection_glyph\":{\"id\":\"20085\"},\"view\":{\"id\":\"20084\"}},\"id\":\"20083\",\"type\":\"GlyphRenderer\"},{\"attributes\":{\"x0\":{\"field\":\"x0\"},\"x1\":{\"field\":\"x1\"},\"y0\":{\"field\":\"y0\"},\"y1\":{\"field\":\"y1\"}},\"id\":\"20072\",\"type\":\"Segment\"},{\"attributes\":{\"bottom\":{\"field\":\"bottom\"},\"fill_alpha\":{\"value\":1.0},\"fill_color\":{\"value\":\"#30a2da\"},\"hatch_alpha\":{\"value\":1.0},\"hatch_color\":{\"value\":\"black\"},\"hatch_scale\":{\"value\":12.0},\"hatch_weight\":{\"value\":1.0},\"line_alpha\":{\"value\":1.0},\"line_cap\":{\"value\":\"butt\"},\"line_color\":{\"value\":\"black\"},\"line_dash\":{\"value\":[]},\"line_dash_offset\":{\"value\":0},\"line_join\":{\"value\":\"bevel\"},\"line_width\":{\"value\":1},\"top\":{\"field\":\"top\"},\"width\":{\"value\":0.7},\"x\":{\"field\":\"index\"}},\"id\":\"20131\",\"type\":\"VBar\"},{\"attributes\":{},\"id\":\"20108\",\"type\":\"UnionRenderers\"},{\"attributes\":{\"axis_label\":\"Tired\",\"coordinates\":null,\"formatter\":{\"id\":\"20106\"},\"group\":null,\"major_label_policy\":{\"id\":\"20107\"},\"ticker\":{\"id\":\"20036\"}},\"id\":\"20035\",\"type\":\"CategoricalAxis\"},{\"attributes\":{},\"id\":\"20043\",\"type\":\"PanTool\"},{\"attributes\":{\"bottom\":{\"field\":\"bottom\"},\"fill_color\":{\"value\":\"#30a2da\"},\"top\":{\"field\":\"top\"},\"width\":{\"value\":0.7},\"x\":{\"field\":\"index\"}},\"id\":\"20096\",\"type\":\"VBar\"},{\"attributes\":{\"x0\":{\"field\":\"x0\"},\"x1\":{\"field\":\"x1\"},\"y0\":{\"field\":\"y0\"},\"y1\":{\"field\":\"y1\"}},\"id\":\"20080\",\"type\":\"Segment\"},{\"attributes\":{},\"id\":\"20036\",\"type\":\"CategoricalTicker\"},{\"attributes\":{},\"id\":\"20109\",\"type\":\"Selection\"},{\"attributes\":{\"axis_label\":\"Hours\",\"coordinates\":null,\"formatter\":{\"id\":\"20103\"},\"group\":null,\"major_label_policy\":{\"id\":\"20104\"},\"ticker\":{\"id\":\"20039\"}},\"id\":\"20038\",\"type\":\"LinearAxis\"},{\"attributes\":{\"coordinates\":null,\"data_source\":{\"id\":\"20062\"},\"glyph\":{\"id\":\"20064\"},\"group\":null,\"hover_glyph\":null,\"muted_glyph\":{\"id\":\"20066\"},\"nonselection_glyph\":{\"id\":\"20065\"},\"selection_glyph\":{\"id\":\"20069\"},\"view\":{\"id\":\"20068\"}},\"id\":\"20067\",\"type\":\"GlyphRenderer\"},{\"attributes\":{},\"id\":\"20039\",\"type\":\"BasicTicker\"},{\"attributes\":{},\"id\":\"20044\",\"type\":\"WheelZoomTool\"},{\"attributes\":{\"line_alpha\":{\"value\":0.1},\"x0\":{\"field\":\"x0\"},\"x1\":{\"field\":\"x1\"},\"y0\":{\"field\":\"y0\"},\"y1\":{\"field\":\"y1\"}},\"id\":\"20089\",\"type\":\"Segment\"},{\"attributes\":{},\"id\":\"20042\",\"type\":\"SaveTool\"},{\"attributes\":{\"data\":{\"bottom\":{\"__ndarray__\":\"AAAAAAAAHEAAAAAAAAAcQAAAAAAAABxAAAAAAAAAFkAAAAAAAAAgQA==\",\"dtype\":\"float64\",\"order\":\"little\",\"shape\":[5]},\"index\":[\"3\",\"2\",\"4\",\"5\",\"1\"],\"top\":{\"__ndarray__\":\"AAAAAAAAGEAAAAAAAAAYQAAAAAAAABhAAAAAAAAAEUAAAAAAAAAfQA==\",\"dtype\":\"float64\",\"order\":\"little\",\"shape\":[5]}},\"selected\":{\"id\":\"20158\"},\"selection_policy\":{\"id\":\"20157\"}},\"id\":\"20124\",\"type\":\"ColumnDataSource\"},{\"attributes\":{\"overlay\":{\"id\":\"20047\"}},\"id\":\"20045\",\"type\":\"BoxZoomTool\"},{\"attributes\":{},\"id\":\"20046\",\"type\":\"ResetTool\"},{\"attributes\":{\"bottom_units\":\"screen\",\"coordinates\":null,\"fill_alpha\":0.5,\"fill_color\":\"lightgrey\",\"group\":null,\"left_units\":\"screen\",\"level\":\"overlay\",\"line_alpha\":1.0,\"line_color\":\"black\",\"line_dash\":[4,4],\"line_width\":2,\"right_units\":\"screen\",\"syncable\":false,\"top_units\":\"screen\"},\"id\":\"20047\",\"type\":\"BoxAnnotation\"},{\"attributes\":{\"data\":{\"Hours\":{\"__ndarray__\":\"AAAAAAAAIkAAAAAAAAAQQAAAAAAAABBAAAAAAAAAIkAAAAAAAAAiQAAAAAAAABBAAAAAAAAAIkAAAAAAAAAkQAAAAAAAACJA\",\"dtype\":\"float64\",\"order\":\"little\",\"shape\":[9]},\"index\":[\"3\",\"2\",\"2\",\"2\",\"2\",\"2\",\"2\",\"4\",\"4\"]},\"selected\":{\"id\":\"20109\"},\"selection_policy\":{\"id\":\"20108\"}},\"id\":\"20054\",\"type\":\"ColumnDataSource\"},{\"attributes\":{\"line_alpha\":{\"value\":0.1},\"x0\":{\"field\":\"x0\"},\"x1\":{\"field\":\"x1\"},\"y0\":{\"field\":\"y0\"},\"y1\":{\"field\":\"y1\"}},\"id\":\"20081\",\"type\":\"Segment\"},{\"attributes\":{\"line_alpha\":{\"value\":0.1},\"x0\":{\"field\":\"x0\"},\"x1\":{\"field\":\"x1\"},\"y0\":{\"field\":\"y0\"},\"y1\":{\"field\":\"y1\"}},\"id\":\"20065\",\"type\":\"Segment\"},{\"attributes\":{},\"id\":\"20110\",\"type\":\"UnionRenderers\"},{\"attributes\":{\"source\":{\"id\":\"20054\"}},\"id\":\"20060\",\"type\":\"CDSView\"},{\"attributes\":{\"bottom\":{\"field\":\"bottom\"},\"fill_alpha\":{\"value\":0.2},\"fill_color\":{\"value\":\"#30a2da\"},\"hatch_alpha\":{\"value\":0.2},\"line_alpha\":{\"value\":0.2},\"top\":{\"field\":\"top\"},\"width\":{\"value\":0.7},\"x\":{\"field\":\"index\"}},\"id\":\"20098\",\"type\":\"VBar\"},{\"attributes\":{\"data\":{\"bottom\":{\"__ndarray__\":\"AAAAAAAAHEAAAAAAAAAcQAAAAAAAABxAAAAAAAAAH0AAAAAAAIAgQA==\",\"dtype\":\"float64\",\"order\":\"little\",\"shape\":[5]},\"index\":[\"3\",\"2\",\"4\",\"5\",\"1\"],\"top\":{\"__ndarray__\":\"AAAAAAAAHEAAAAAAAAAcQAAAAAAAABxAAAAAAAAAFkAAAAAAAAAgQA==\",\"dtype\":\"float64\",\"order\":\"little\",\"shape\":[5]}},\"selected\":{\"id\":\"20119\"},\"selection_policy\":{\"id\":\"20118\"}},\"id\":\"20094\",\"type\":\"ColumnDataSource\"},{\"attributes\":{\"fill_color\":{\"value\":\"black\"},\"x\":{\"field\":\"index\"},\"y\":{\"field\":\"Hours\"}},\"id\":\"20056\",\"type\":\"Circle\"},{\"attributes\":{\"bottom\":{\"field\":\"bottom\"},\"fill_alpha\":{\"value\":0.1},\"fill_color\":{\"value\":\"#30a2da\"},\"hatch_alpha\":{\"value\":0.1},\"line_alpha\":{\"value\":0.1},\"top\":{\"field\":\"top\"},\"width\":{\"value\":0.7},\"x\":{\"field\":\"index\"}},\"id\":\"20097\",\"type\":\"VBar\"},{\"attributes\":{\"bottom\":{\"field\":\"bottom\"},\"fill_color\":{\"value\":\"#30a2da\"},\"top\":{\"field\":\"top\"},\"width\":{\"value\":0.7},\"x\":{\"field\":\"index\"}},\"id\":\"20126\",\"type\":\"VBar\"},{\"attributes\":{},\"id\":\"20111\",\"type\":\"Selection\"},{\"attributes\":{\"x0\":{\"field\":\"x0\"},\"x1\":{\"field\":\"x1\"},\"y0\":{\"field\":\"y0\"},\"y1\":{\"field\":\"y1\"}},\"id\":\"20088\",\"type\":\"Segment\"},{\"attributes\":{\"coordinates\":null,\"data_source\":{\"id\":\"20054\"},\"glyph\":{\"id\":\"20056\"},\"group\":null,\"hover_glyph\":null,\"muted_glyph\":{\"id\":\"20058\"},\"nonselection_glyph\":{\"id\":\"20057\"},\"selection_glyph\":{\"id\":\"20061\"},\"view\":{\"id\":\"20060\"}},\"id\":\"20059\",\"type\":\"GlyphRenderer\"},{\"attributes\":{\"coordinates\":null,\"data_source\":{\"id\":\"20124\"},\"glyph\":{\"id\":\"20126\"},\"group\":null,\"hover_glyph\":null,\"muted_glyph\":{\"id\":\"20128\"},\"nonselection_glyph\":{\"id\":\"20127\"},\"selection_glyph\":{\"id\":\"20131\"},\"view\":{\"id\":\"20130\"}},\"id\":\"20129\",\"type\":\"GlyphRenderer\"},{\"attributes\":{\"data\":{\"x0\":[\"3\",\"2\",\"4\",\"5\",\"1\"],\"x1\":[\"3\",\"2\",\"4\",\"5\",\"1\"],\"y0\":{\"__ndarray__\":\"AAAAAAAAIEAAAAAAAAAgQAAAAAAAACBAAAAAAAAAIkAAAAAAAAAiQA==\",\"dtype\":\"float64\",\"order\":\"little\",\"shape\":[5]},\"y1\":{\"__ndarray__\":\"AAAAAAAAHEAAAAAAAAAcQAAAAAAAABxAAAAAAAAAH0AAAAAAAIAgQA==\",\"dtype\":\"float64\",\"order\":\"little\",\"shape\":[5]}},\"selected\":{\"id\":\"20111\"},\"selection_policy\":{\"id\":\"20110\"}},\"id\":\"20062\",\"type\":\"ColumnDataSource\"}],\"root_ids\":[\"20022\"]},\"title\":\"Bokeh Application\",\"version\":\"2.4.2\"}};\n",
       "    var render_items = [{\"docid\":\"7dec4678-e868-4978-94db-c245f06757a3\",\"root_ids\":[\"20022\"],\"roots\":{\"20022\":\"06a38412-e3da-4d49-a658-648374c342d4\"}}];\n",
       "    root.Bokeh.embed.embed_items_notebook(docs_json, render_items);\n",
       "  }\n",
       "  if (root.Bokeh !== undefined && root.Bokeh.Panel !== undefined) {\n",
       "    embed_document(root);\n",
       "  } else {\n",
       "    var attempts = 0;\n",
       "    var timer = setInterval(function(root) {\n",
       "      if (root.Bokeh !== undefined && root.Bokeh.Panel !== undefined) {\n",
       "        clearInterval(timer);\n",
       "        embed_document(root);\n",
       "      } else if (document.readyState == \"complete\") {\n",
       "        attempts++;\n",
       "        if (attempts > 200) {\n",
       "          clearInterval(timer);\n",
       "          console.log(\"Bokeh: ERROR: Unable to run BokehJS code because BokehJS library is missing\");\n",
       "        }\n",
       "      }\n",
       "    }, 25, root)\n",
       "  }\n",
       "})(window);</script>"
      ],
      "text/plain": [
       ":BoxWhisker   [Tired]   (Hours)"
      ]
     },
     "execution_count": 263,
     "metadata": {
      "application/vnd.holoviews_exec.v0+json": {
       "id": "20022"
      }
     },
     "output_type": "execute_result"
    }
   ],
   "source": [
    "# your code to plot here\n",
    "boxplot_tired = df.hvplot.box(y=\"Hours\", by=\"Tired\")\n",
    "boxplot_tired"
   ]
  },
  {
   "cell_type": "code",
   "execution_count": 264,
   "metadata": {},
   "outputs": [
    {
     "data": {},
     "metadata": {},
     "output_type": "display_data"
    },
    {
     "data": {
      "application/vnd.holoviews_exec.v0+json": "",
      "text/html": [
       "<div id='20294'>\n",
       "\n",
       "\n",
       "\n",
       "\n",
       "\n",
       "  <div class=\"bk-root\" id=\"b3a75778-9b27-4574-aa6d-f8057c78d14f\" data-root-id=\"20294\"></div>\n",
       "</div>\n",
       "<script type=\"application/javascript\">(function(root) {\n",
       "  function embed_document(root) {\n",
       "    var docs_json = {\"78bfef20-89ce-468e-975e-9cc41100b30a\":{\"defs\":[{\"extends\":null,\"module\":null,\"name\":\"ReactiveHTML1\",\"overrides\":[],\"properties\":[]},{\"extends\":null,\"module\":null,\"name\":\"FlexBox1\",\"overrides\":[],\"properties\":[{\"default\":\"flex-start\",\"kind\":null,\"name\":\"align_content\"},{\"default\":\"flex-start\",\"kind\":null,\"name\":\"align_items\"},{\"default\":\"row\",\"kind\":null,\"name\":\"flex_direction\"},{\"default\":\"wrap\",\"kind\":null,\"name\":\"flex_wrap\"},{\"default\":\"flex-start\",\"kind\":null,\"name\":\"justify_content\"}]},{\"extends\":null,\"module\":null,\"name\":\"TemplateActions1\",\"overrides\":[],\"properties\":[{\"default\":0,\"kind\":null,\"name\":\"open_modal\"},{\"default\":0,\"kind\":null,\"name\":\"close_modal\"}]},{\"extends\":null,\"module\":null,\"name\":\"MaterialTemplateActions1\",\"overrides\":[],\"properties\":[{\"default\":0,\"kind\":null,\"name\":\"open_modal\"},{\"default\":0,\"kind\":null,\"name\":\"close_modal\"}]}],\"roots\":{\"references\":[{\"attributes\":{\"margin\":[5,5,5,5],\"name\":\"HSpacer13424\",\"sizing_mode\":\"stretch_width\"},\"id\":\"20454\",\"type\":\"Spacer\"},{\"attributes\":{\"below\":[{\"id\":\"20307\"}],\"center\":[{\"id\":\"20309\"},{\"id\":\"20313\"},{\"id\":\"20393\"}],\"height\":300,\"left\":[{\"id\":\"20310\"}],\"margin\":[5,5,5,5],\"min_border_bottom\":10,\"min_border_left\":10,\"min_border_right\":10,\"min_border_top\":10,\"renderers\":[{\"id\":\"20331\"},{\"id\":\"20339\"},{\"id\":\"20347\"},{\"id\":\"20355\"},{\"id\":\"20363\"},{\"id\":\"20371\"},{\"id\":\"20401\"}],\"sizing_mode\":\"fixed\",\"title\":{\"id\":\"20299\"},\"toolbar\":{\"id\":\"20320\"},\"width\":700,\"x_range\":{\"id\":\"20296\"},\"x_scale\":{\"id\":\"20303\"},\"y_range\":{\"id\":\"20297\"},\"y_scale\":{\"id\":\"20305\"}},\"id\":\"20298\",\"subtype\":\"Figure\",\"type\":\"Plot\"},{\"attributes\":{},\"id\":\"20388\",\"type\":\"UnionRenderers\"},{\"attributes\":{\"coordinates\":null,\"group\":null,\"text_color\":\"black\",\"text_font_size\":\"12pt\"},\"id\":\"20299\",\"type\":\"Title\"},{\"attributes\":{\"line_alpha\":{\"value\":1.0},\"line_cap\":{\"value\":\"butt\"},\"line_color\":{\"value\":\"black\"},\"line_dash\":{\"value\":[]},\"line_dash_offset\":{\"value\":0},\"line_join\":{\"value\":\"bevel\"},\"line_width\":{\"value\":1},\"x0\":{\"field\":\"x0\"},\"x1\":{\"field\":\"x1\"},\"y0\":{\"field\":\"y0\"},\"y1\":{\"field\":\"y1\"}},\"id\":\"20349\",\"type\":\"Segment\"},{\"attributes\":{},\"id\":\"20376\",\"type\":\"AllLabels\"},{\"attributes\":{},\"id\":\"20389\",\"type\":\"Selection\"},{\"attributes\":{},\"id\":\"20303\",\"type\":\"CategoricalScale\"},{\"attributes\":{},\"id\":\"20314\",\"type\":\"SaveTool\"},{\"attributes\":{\"line_alpha\":{\"value\":1.0},\"line_cap\":{\"value\":\"butt\"},\"line_color\":{\"value\":\"black\"},\"line_dash\":{\"value\":[]},\"line_dash_offset\":{\"value\":0},\"line_join\":{\"value\":\"bevel\"},\"line_width\":{\"value\":1},\"x0\":{\"field\":\"x0\"},\"x1\":{\"field\":\"x1\"},\"y0\":{\"field\":\"y0\"},\"y1\":{\"field\":\"y1\"}},\"id\":\"20341\",\"type\":\"Segment\"},{\"attributes\":{\"line_alpha\":{\"value\":1.0},\"line_cap\":{\"value\":\"butt\"},\"line_color\":{\"value\":\"black\"},\"line_dash\":{\"value\":[]},\"line_dash_offset\":{\"value\":0},\"line_join\":{\"value\":\"bevel\"},\"line_width\":{\"value\":1},\"x0\":{\"field\":\"x0\"},\"x1\":{\"field\":\"x1\"},\"y0\":{\"field\":\"y0\"},\"y1\":{\"field\":\"y1\"}},\"id\":\"20365\",\"type\":\"Segment\"},{\"attributes\":{},\"id\":\"20385\",\"type\":\"Selection\"},{\"attributes\":{},\"id\":\"20305\",\"type\":\"LinearScale\"},{\"attributes\":{},\"id\":\"20390\",\"type\":\"UnionRenderers\"},{\"attributes\":{},\"id\":\"20315\",\"type\":\"PanTool\"},{\"attributes\":{},\"id\":\"20384\",\"type\":\"UnionRenderers\"},{\"attributes\":{\"end\":10.8,\"reset_end\":10.8,\"reset_start\":1.2,\"start\":1.2,\"tags\":[[[\"Hours\",\"Hours\",null]]]},\"id\":\"20297\",\"type\":\"Range1d\"},{\"attributes\":{\"coordinates\":null,\"data_source\":{\"id\":\"20396\"},\"glyph\":{\"id\":\"20398\"},\"group\":null,\"hover_glyph\":null,\"muted_glyph\":{\"id\":\"20400\"},\"nonselection_glyph\":{\"id\":\"20399\"},\"selection_glyph\":{\"id\":\"20403\"},\"view\":{\"id\":\"20402\"}},\"id\":\"20401\",\"type\":\"GlyphRenderer\"},{\"attributes\":{\"axis\":{\"id\":\"20310\"},\"coordinates\":null,\"dimension\":1,\"grid_line_color\":null,\"group\":null,\"ticker\":null},\"id\":\"20313\",\"type\":\"Grid\"},{\"attributes\":{\"bottom\":{\"field\":\"bottom\"},\"fill_alpha\":{\"value\":0.1},\"fill_color\":{\"value\":\"#30a2da\"},\"hatch_alpha\":{\"value\":0.1},\"line_alpha\":{\"value\":0.1},\"top\":{\"field\":\"top\"},\"width\":{\"value\":0.7},\"x\":{\"field\":\"index\"}},\"id\":\"20399\",\"type\":\"VBar\"},{\"attributes\":{},\"id\":\"20311\",\"type\":\"BasicTicker\"},{\"attributes\":{\"coordinates\":null,\"data_source\":{\"id\":\"20358\"},\"glyph\":{\"id\":\"20360\"},\"group\":null,\"hover_glyph\":null,\"muted_glyph\":{\"id\":\"20362\"},\"nonselection_glyph\":{\"id\":\"20361\"},\"selection_glyph\":{\"id\":\"20365\"},\"view\":{\"id\":\"20364\"}},\"id\":\"20363\",\"type\":\"GlyphRenderer\"},{\"attributes\":{\"axis\":{\"id\":\"20307\"},\"coordinates\":null,\"grid_line_color\":null,\"group\":null,\"ticker\":null},\"id\":\"20309\",\"type\":\"Grid\"},{\"attributes\":{\"overlay\":{\"id\":\"20319\"}},\"id\":\"20317\",\"type\":\"BoxZoomTool\"},{\"attributes\":{},\"id\":\"20316\",\"type\":\"WheelZoomTool\"},{\"attributes\":{\"coordinates\":null,\"data_source\":{\"id\":\"20326\"},\"glyph\":{\"id\":\"20328\"},\"group\":null,\"hover_glyph\":null,\"muted_glyph\":{\"id\":\"20330\"},\"nonselection_glyph\":{\"id\":\"20329\"},\"selection_glyph\":{\"id\":\"20333\"},\"view\":{\"id\":\"20332\"}},\"id\":\"20331\",\"type\":\"GlyphRenderer\"},{\"attributes\":{\"bottom_units\":\"screen\",\"coordinates\":null,\"fill_alpha\":0.5,\"fill_color\":\"lightgrey\",\"group\":null,\"left_units\":\"screen\",\"level\":\"overlay\",\"line_alpha\":1.0,\"line_color\":\"black\",\"line_dash\":[4,4],\"line_width\":2,\"right_units\":\"screen\",\"syncable\":false,\"top_units\":\"screen\"},\"id\":\"20319\",\"type\":\"BoxAnnotation\"},{\"attributes\":{},\"id\":\"20318\",\"type\":\"ResetTool\"},{\"attributes\":{\"x0\":{\"field\":\"x0\"},\"x1\":{\"field\":\"x1\"},\"y0\":{\"field\":\"y0\"},\"y1\":{\"field\":\"y1\"}},\"id\":\"20336\",\"type\":\"Segment\"},{\"attributes\":{\"axis_label\":\"Hours\",\"coordinates\":null,\"formatter\":{\"id\":\"20375\"},\"group\":null,\"major_label_policy\":{\"id\":\"20376\"},\"ticker\":{\"id\":\"20311\"}},\"id\":\"20310\",\"type\":\"LinearAxis\"},{\"attributes\":{},\"id\":\"20375\",\"type\":\"BasicTickFormatter\"},{\"attributes\":{\"source\":{\"id\":\"20396\"}},\"id\":\"20402\",\"type\":\"CDSView\"},{\"attributes\":{},\"id\":\"20379\",\"type\":\"AllLabels\"},{\"attributes\":{\"fill_alpha\":{\"value\":0.1},\"fill_color\":{\"value\":\"black\"},\"hatch_alpha\":{\"value\":0.1},\"line_alpha\":{\"value\":0.1},\"x\":{\"field\":\"index\"},\"y\":{\"field\":\"Hours\"}},\"id\":\"20329\",\"type\":\"Circle\"},{\"attributes\":{\"coordinates\":null,\"data_source\":{\"id\":\"20350\"},\"glyph\":{\"id\":\"20352\"},\"group\":null,\"hover_glyph\":null,\"muted_glyph\":{\"id\":\"20354\"},\"nonselection_glyph\":{\"id\":\"20353\"},\"selection_glyph\":{\"id\":\"20357\"},\"view\":{\"id\":\"20356\"}},\"id\":\"20355\",\"type\":\"GlyphRenderer\"},{\"attributes\":{},\"id\":\"20430\",\"type\":\"Selection\"},{\"attributes\":{\"bottom\":{\"field\":\"bottom\"},\"fill_alpha\":{\"value\":0.2},\"fill_color\":{\"value\":\"#30a2da\"},\"hatch_alpha\":{\"value\":0.2},\"line_alpha\":{\"value\":0.2},\"top\":{\"field\":\"top\"},\"width\":{\"value\":0.7},\"x\":{\"field\":\"index\"}},\"id\":\"20370\",\"type\":\"VBar\"},{\"attributes\":{\"data\":{\"x0\":[[\"3\",\"Yes\"],[\"3\",\"No\"],[\"2\",\"Yes\"],[\"4\",\"No\"],[\"2\",\"No\"],[\"4\",\"Yes\"],[\"5\",\"No\"],[\"1\",\"Yes\"],[\"5\",\"Yes\"],[\"1\",\"No\"]],\"x1\":[[\"3\",\"Yes\"],[\"3\",\"No\"],[\"2\",\"Yes\"],[\"4\",\"No\"],[\"2\",\"No\"],[\"4\",\"Yes\"],[\"5\",\"No\"],[\"1\",\"Yes\"],[\"5\",\"Yes\"],[\"1\",\"No\"]],\"y0\":{\"__ndarray__\":\"AAAAAAAAFEAAAAAAAAAYQAAAAAAAABBAAAAAAAAAFEAAAAAAAAAUQAAAAAAAABRAAAAAAAAAAEAAAAAAAAAgQAAAAAAAABRAAAAAAAAAHEA=\",\"dtype\":\"float64\",\"order\":\"little\",\"shape\":[10]},\"y1\":{\"__ndarray__\":\"AAAAAAAAGEAAAAAAAAAYQAAAAAAAABhAAAAAAAAAGEAAAAAAAAAWQAAAAAAAABhAAAAAAAAACEAAAAAAAAAgQAAAAAAAABZAAAAAAAAAHEA=\",\"dtype\":\"float64\",\"order\":\"little\",\"shape\":[10]}},\"selected\":{\"id\":\"20385\"},\"selection_policy\":{\"id\":\"20384\"}},\"id\":\"20342\",\"type\":\"ColumnDataSource\"},{\"attributes\":{\"line_alpha\":{\"value\":0.2},\"x0\":{\"field\":\"x0\"},\"x1\":{\"field\":\"x1\"},\"y0\":{\"field\":\"y0\"},\"y1\":{\"field\":\"y1\"}},\"id\":\"20362\",\"type\":\"Segment\"},{\"attributes\":{\"x0\":{\"field\":\"x0\"},\"x1\":{\"field\":\"x1\"},\"y0\":{\"field\":\"y0\"},\"y1\":{\"field\":\"y1\"}},\"id\":\"20360\",\"type\":\"Segment\"},{\"attributes\":{\"tools\":[{\"id\":\"20314\"},{\"id\":\"20315\"},{\"id\":\"20316\"},{\"id\":\"20317\"},{\"id\":\"20318\"}]},\"id\":\"20320\",\"type\":\"Toolbar\"},{\"attributes\":{\"x0\":{\"field\":\"x0\"},\"x1\":{\"field\":\"x1\"},\"y0\":{\"field\":\"y0\"},\"y1\":{\"field\":\"y1\"}},\"id\":\"20352\",\"type\":\"Segment\"},{\"attributes\":{\"margin\":[5,5,5,5],\"name\":\"HSpacer13423\",\"sizing_mode\":\"stretch_width\"},\"id\":\"20295\",\"type\":\"Spacer\"},{\"attributes\":{\"data\":{\"bottom\":{\"__ndarray__\":\"AAAAAAAAHEAAAAAAAAAYQAAAAAAAABxAAAAAAAAAHEAAAAAAAAAcQAAAAAAAABxAAAAAAAAAFEAAAAAAAAAgQAAAAAAAABhAAAAAAAAAHEA=\",\"dtype\":\"float64\",\"order\":\"little\",\"shape\":[10]},\"index\":[[\"3\",\"Yes\"],[\"3\",\"No\"],[\"2\",\"Yes\"],[\"4\",\"No\"],[\"2\",\"No\"],[\"4\",\"Yes\"],[\"5\",\"No\"],[\"1\",\"Yes\"],[\"5\",\"Yes\"],[\"1\",\"No\"]],\"top\":{\"__ndarray__\":\"AAAAAAAAGEAAAAAAAAAYQAAAAAAAABhAAAAAAAAAGEAAAAAAAAAWQAAAAAAAABhAAAAAAAAACEAAAAAAAAAgQAAAAAAAABZAAAAAAAAAHEA=\",\"dtype\":\"float64\",\"order\":\"little\",\"shape\":[10]}},\"selected\":{\"id\":\"20430\"},\"selection_policy\":{\"id\":\"20429\"}},\"id\":\"20396\",\"type\":\"ColumnDataSource\"},{\"attributes\":{\"line_alpha\":{\"value\":0.1},\"x0\":{\"field\":\"x0\"},\"x1\":{\"field\":\"x1\"},\"y0\":{\"field\":\"y0\"},\"y1\":{\"field\":\"y1\"}},\"id\":\"20337\",\"type\":\"Segment\"},{\"attributes\":{\"axis_label\":\"Tired, Breakfast\",\"coordinates\":null,\"formatter\":{\"id\":\"20378\"},\"group\":null,\"major_label_policy\":{\"id\":\"20379\"},\"ticker\":{\"id\":\"20308\"}},\"id\":\"20307\",\"type\":\"CategoricalAxis\"},{\"attributes\":{},\"id\":\"20383\",\"type\":\"Selection\"},{\"attributes\":{\"line_alpha\":{\"value\":0.1},\"x0\":{\"field\":\"x0\"},\"x1\":{\"field\":\"x1\"},\"y0\":{\"field\":\"y0\"},\"y1\":{\"field\":\"y1\"}},\"id\":\"20345\",\"type\":\"Segment\"},{\"attributes\":{\"data\":{\"x0\":[[\"3\",\"Yes\",-0.2],[\"3\",\"No\",-0.2],[\"2\",\"Yes\",-0.2],[\"4\",\"No\",-0.2],[\"2\",\"No\",-0.2],[\"4\",\"Yes\",-0.2],[\"5\",\"No\",-0.2],[\"1\",\"Yes\",-0.2],[\"5\",\"Yes\",-0.2],[\"1\",\"No\",-0.2]],\"x1\":[[\"3\",\"Yes\",0.2],[\"3\",\"No\",0.2],[\"2\",\"Yes\",0.2],[\"4\",\"No\",0.2],[\"2\",\"No\",0.2],[\"4\",\"Yes\",0.2],[\"5\",\"No\",0.2],[\"1\",\"Yes\",0.2],[\"5\",\"Yes\",0.2],[\"1\",\"No\",0.2]],\"y0\":[9.0,7.0,9.0,8.0,8.0,8.0,9.0,9.0,9.0,7.0],\"y1\":[9.0,7.0,9.0,8.0,8.0,8.0,9.0,9.0,9.0,7.0]},\"selected\":{\"id\":\"20389\"},\"selection_policy\":{\"id\":\"20388\"}},\"id\":\"20358\",\"type\":\"ColumnDataSource\"},{\"attributes\":{\"coordinates\":null,\"data_source\":{\"id\":\"20342\"},\"glyph\":{\"id\":\"20344\"},\"group\":null,\"hover_glyph\":null,\"muted_glyph\":{\"id\":\"20346\"},\"nonselection_glyph\":{\"id\":\"20345\"},\"selection_glyph\":{\"id\":\"20349\"},\"view\":{\"id\":\"20348\"}},\"id\":\"20347\",\"type\":\"GlyphRenderer\"},{\"attributes\":{\"source\":{\"id\":\"20366\"}},\"id\":\"20372\",\"type\":\"CDSView\"},{\"attributes\":{\"angle\":{\"value\":0.0},\"fill_alpha\":{\"value\":1.0},\"fill_color\":{\"value\":\"black\"},\"hatch_alpha\":{\"value\":1.0},\"hatch_color\":{\"value\":\"black\"},\"hatch_scale\":{\"value\":12.0},\"hatch_weight\":{\"value\":1.0},\"line_alpha\":{\"value\":1.0},\"line_cap\":{\"value\":\"butt\"},\"line_color\":{\"value\":\"black\"},\"line_dash\":{\"value\":[]},\"line_dash_offset\":{\"value\":0},\"line_join\":{\"value\":\"bevel\"},\"line_width\":{\"value\":1},\"size\":{\"value\":4},\"x\":{\"field\":\"index\"},\"y\":{\"field\":\"Hours\"}},\"id\":\"20333\",\"type\":\"Circle\"},{\"attributes\":{\"data\":{\"bottom\":{\"__ndarray__\":\"AAAAAAAAIEAAAAAAAAAaQAAAAAAAAB5AAAAAAAAAHEAAAAAAAAAcQAAAAAAAABxAAAAAAAAAHkAAAAAAAAAhQAAAAAAAAB5AAAAAAAAAHEA=\",\"dtype\":\"float64\",\"order\":\"little\",\"shape\":[10]},\"index\":[[\"3\",\"Yes\"],[\"3\",\"No\"],[\"2\",\"Yes\"],[\"4\",\"No\"],[\"2\",\"No\"],[\"4\",\"Yes\"],[\"5\",\"No\"],[\"1\",\"Yes\"],[\"5\",\"Yes\"],[\"1\",\"No\"]],\"top\":{\"__ndarray__\":\"AAAAAAAAHEAAAAAAAAAYQAAAAAAAABxAAAAAAAAAHEAAAAAAAAAcQAAAAAAAABxAAAAAAAAAFEAAAAAAAAAgQAAAAAAAABhAAAAAAAAAHEA=\",\"dtype\":\"float64\",\"order\":\"little\",\"shape\":[10]}},\"selected\":{\"id\":\"20391\"},\"selection_policy\":{\"id\":\"20390\"}},\"id\":\"20366\",\"type\":\"ColumnDataSource\"},{\"attributes\":{\"data\":{\"Hours\":{\"__ndarray__\":\"AAAAAAAAIEAAAAAAAAAgQAAAAAAAABRAAAAAAAAAFEAAAAAAAAAkQAAAAAAAACJA\",\"dtype\":\"float64\",\"order\":\"little\",\"shape\":[6]},\"index\":[[\"3\",\"No\"],[\"3\",\"No\"],[\"3\",\"No\"],[\"3\",\"No\"],[\"4\",\"No\"],[\"4\",\"Yes\"]]},\"selected\":{\"id\":\"20381\"},\"selection_policy\":{\"id\":\"20380\"}},\"id\":\"20326\",\"type\":\"ColumnDataSource\"},{\"attributes\":{\"source\":{\"id\":\"20334\"}},\"id\":\"20340\",\"type\":\"CDSView\"},{\"attributes\":{\"children\":[{\"id\":\"20295\"},{\"id\":\"20298\"},{\"id\":\"20454\"}],\"margin\":[0,0,0,0],\"name\":\"Row13419\",\"tags\":[\"embedded\"]},\"id\":\"20294\",\"type\":\"Row\"},{\"attributes\":{},\"id\":\"20387\",\"type\":\"Selection\"},{\"attributes\":{},\"id\":\"20308\",\"type\":\"CategoricalTicker\"},{\"attributes\":{\"bottom\":{\"field\":\"bottom\"},\"fill_alpha\":{\"value\":0.2},\"fill_color\":{\"value\":\"#30a2da\"},\"hatch_alpha\":{\"value\":0.2},\"line_alpha\":{\"value\":0.2},\"top\":{\"field\":\"top\"},\"width\":{\"value\":0.7},\"x\":{\"field\":\"index\"}},\"id\":\"20400\",\"type\":\"VBar\"},{\"attributes\":{},\"id\":\"20429\",\"type\":\"UnionRenderers\"},{\"attributes\":{},\"id\":\"20382\",\"type\":\"UnionRenderers\"},{\"attributes\":{\"data\":{\"x0\":[[\"3\",\"Yes\",-0.2],[\"3\",\"No\",-0.2],[\"2\",\"Yes\",-0.2],[\"4\",\"No\",-0.2],[\"2\",\"No\",-0.2],[\"4\",\"Yes\",-0.2],[\"5\",\"No\",-0.2],[\"1\",\"Yes\",-0.2],[\"5\",\"Yes\",-0.2],[\"1\",\"No\",-0.2]],\"x1\":[[\"3\",\"Yes\",0.2],[\"3\",\"No\",0.2],[\"2\",\"Yes\",0.2],[\"4\",\"No\",0.2],[\"2\",\"No\",0.2],[\"4\",\"Yes\",0.2],[\"5\",\"No\",0.2],[\"1\",\"Yes\",0.2],[\"5\",\"Yes\",0.2],[\"1\",\"No\",0.2]],\"y0\":[5.0,6.0,4.0,5.0,5.0,5.0,2.0,8.0,5.0,7.0],\"y1\":[5.0,6.0,4.0,5.0,5.0,5.0,2.0,8.0,5.0,7.0]},\"selected\":{\"id\":\"20387\"},\"selection_policy\":{\"id\":\"20386\"}},\"id\":\"20350\",\"type\":\"ColumnDataSource\"},{\"attributes\":{\"bottom\":{\"field\":\"bottom\"},\"fill_color\":{\"value\":\"#30a2da\"},\"top\":{\"field\":\"top\"},\"width\":{\"value\":0.7},\"x\":{\"field\":\"index\"}},\"id\":\"20398\",\"type\":\"VBar\"},{\"attributes\":{},\"id\":\"20391\",\"type\":\"Selection\"},{\"attributes\":{\"source\":{\"id\":\"20358\"}},\"id\":\"20364\",\"type\":\"CDSView\"},{\"attributes\":{\"line_alpha\":{\"value\":0.1},\"x0\":{\"field\":\"x0\"},\"x1\":{\"field\":\"x1\"},\"y0\":{\"field\":\"y0\"},\"y1\":{\"field\":\"y1\"}},\"id\":\"20353\",\"type\":\"Segment\"},{\"attributes\":{},\"id\":\"20381\",\"type\":\"Selection\"},{\"attributes\":{\"bottom\":{\"field\":\"bottom\"},\"fill_alpha\":{\"value\":0.1},\"fill_color\":{\"value\":\"#30a2da\"},\"hatch_alpha\":{\"value\":0.1},\"line_alpha\":{\"value\":0.1},\"top\":{\"field\":\"top\"},\"width\":{\"value\":0.7},\"x\":{\"field\":\"index\"}},\"id\":\"20369\",\"type\":\"VBar\"},{\"attributes\":{\"source\":{\"id\":\"20350\"}},\"id\":\"20356\",\"type\":\"CDSView\"},{\"attributes\":{\"line_alpha\":{\"value\":0.2},\"x0\":{\"field\":\"x0\"},\"x1\":{\"field\":\"x1\"},\"y0\":{\"field\":\"y0\"},\"y1\":{\"field\":\"y1\"}},\"id\":\"20354\",\"type\":\"Segment\"},{\"attributes\":{},\"id\":\"20386\",\"type\":\"UnionRenderers\"},{\"attributes\":{\"fill_alpha\":{\"value\":0.2},\"fill_color\":{\"value\":\"black\"},\"hatch_alpha\":{\"value\":0.2},\"line_alpha\":{\"value\":0.2},\"x\":{\"field\":\"index\"},\"y\":{\"field\":\"Hours\"}},\"id\":\"20330\",\"type\":\"Circle\"},{\"attributes\":{\"factors\":[[\"1\",\"No\"],[\"1\",\"Yes\"],[\"2\",\"No\"],[\"2\",\"Yes\"],[\"3\",\"No\"],[\"3\",\"Yes\"],[\"4\",\"No\"],[\"4\",\"Yes\"],[\"5\",\"No\"],[\"5\",\"Yes\"]],\"tags\":[[[\"Tired\",\"Tired\",null],[\"Breakfast\",\"Breakfast\",null]]]},\"id\":\"20296\",\"type\":\"FactorRange\"},{\"attributes\":{\"line_alpha\":{\"value\":0.2},\"x0\":{\"field\":\"x0\"},\"x1\":{\"field\":\"x1\"},\"y0\":{\"field\":\"y0\"},\"y1\":{\"field\":\"y1\"}},\"id\":\"20346\",\"type\":\"Segment\"},{\"attributes\":{\"bottom\":{\"field\":\"bottom\"},\"fill_alpha\":{\"value\":1.0},\"fill_color\":{\"value\":\"#30a2da\"},\"hatch_alpha\":{\"value\":1.0},\"hatch_color\":{\"value\":\"black\"},\"hatch_scale\":{\"value\":12.0},\"hatch_weight\":{\"value\":1.0},\"line_alpha\":{\"value\":1.0},\"line_cap\":{\"value\":\"butt\"},\"line_color\":{\"value\":\"black\"},\"line_dash\":{\"value\":[]},\"line_dash_offset\":{\"value\":0},\"line_join\":{\"value\":\"bevel\"},\"line_width\":{\"value\":1},\"top\":{\"field\":\"top\"},\"width\":{\"value\":0.7},\"x\":{\"field\":\"index\"}},\"id\":\"20403\",\"type\":\"VBar\"},{\"attributes\":{\"coordinates\":null,\"data_source\":{\"id\":\"20366\"},\"glyph\":{\"id\":\"20368\"},\"group\":null,\"hover_glyph\":null,\"muted_glyph\":{\"id\":\"20370\"},\"nonselection_glyph\":{\"id\":\"20369\"},\"selection_glyph\":{\"id\":\"20395\"},\"view\":{\"id\":\"20372\"}},\"id\":\"20371\",\"type\":\"GlyphRenderer\"},{\"attributes\":{\"coordinates\":null,\"data_source\":{\"id\":\"20334\"},\"glyph\":{\"id\":\"20336\"},\"group\":null,\"hover_glyph\":null,\"muted_glyph\":{\"id\":\"20338\"},\"nonselection_glyph\":{\"id\":\"20337\"},\"selection_glyph\":{\"id\":\"20341\"},\"view\":{\"id\":\"20340\"}},\"id\":\"20339\",\"type\":\"GlyphRenderer\"},{\"attributes\":{\"line_alpha\":{\"value\":0.1},\"x0\":{\"field\":\"x0\"},\"x1\":{\"field\":\"x1\"},\"y0\":{\"field\":\"y0\"},\"y1\":{\"field\":\"y1\"}},\"id\":\"20361\",\"type\":\"Segment\"},{\"attributes\":{},\"id\":\"20380\",\"type\":\"UnionRenderers\"},{\"attributes\":{\"x0\":{\"field\":\"x0\"},\"x1\":{\"field\":\"x1\"},\"y0\":{\"field\":\"y0\"},\"y1\":{\"field\":\"y1\"}},\"id\":\"20344\",\"type\":\"Segment\"},{\"attributes\":{\"bottom\":{\"field\":\"bottom\"},\"fill_color\":{\"value\":\"#30a2da\"},\"top\":{\"field\":\"top\"},\"width\":{\"value\":0.7},\"x\":{\"field\":\"index\"}},\"id\":\"20368\",\"type\":\"VBar\"},{\"attributes\":{},\"id\":\"20378\",\"type\":\"CategoricalTickFormatter\"},{\"attributes\":{\"data\":{\"x0\":[[\"3\",\"Yes\"],[\"3\",\"No\"],[\"2\",\"Yes\"],[\"4\",\"No\"],[\"2\",\"No\"],[\"4\",\"Yes\"],[\"5\",\"No\"],[\"1\",\"Yes\"],[\"5\",\"Yes\"],[\"1\",\"No\"]],\"x1\":[[\"3\",\"Yes\"],[\"3\",\"No\"],[\"2\",\"Yes\"],[\"4\",\"No\"],[\"2\",\"No\"],[\"4\",\"Yes\"],[\"5\",\"No\"],[\"1\",\"Yes\"],[\"5\",\"Yes\"],[\"1\",\"No\"]],\"y0\":{\"__ndarray__\":\"AAAAAAAAIkAAAAAAAAAcQAAAAAAAACJAAAAAAAAAIEAAAAAAAAAgQAAAAAAAACBAAAAAAAAAIkAAAAAAAAAiQAAAAAAAACJAAAAAAAAAHEA=\",\"dtype\":\"float64\",\"order\":\"little\",\"shape\":[10]},\"y1\":{\"__ndarray__\":\"AAAAAAAAIEAAAAAAAAAaQAAAAAAAAB5AAAAAAAAAHEAAAAAAAAAcQAAAAAAAABxAAAAAAAAAHkAAAAAAAAAhQAAAAAAAAB5AAAAAAAAAHEA=\",\"dtype\":\"float64\",\"order\":\"little\",\"shape\":[10]}},\"selected\":{\"id\":\"20383\"},\"selection_policy\":{\"id\":\"20382\"}},\"id\":\"20334\",\"type\":\"ColumnDataSource\"},{\"attributes\":{\"fill_color\":{\"value\":\"black\"},\"x\":{\"field\":\"index\"},\"y\":{\"field\":\"Hours\"}},\"id\":\"20328\",\"type\":\"Circle\"},{\"attributes\":{\"coordinates\":null,\"group\":null,\"items\":[]},\"id\":\"20393\",\"type\":\"Legend\"},{\"attributes\":{\"line_alpha\":{\"value\":0.2},\"x0\":{\"field\":\"x0\"},\"x1\":{\"field\":\"x1\"},\"y0\":{\"field\":\"y0\"},\"y1\":{\"field\":\"y1\"}},\"id\":\"20338\",\"type\":\"Segment\"},{\"attributes\":{\"line_alpha\":{\"value\":1.0},\"line_cap\":{\"value\":\"butt\"},\"line_color\":{\"value\":\"black\"},\"line_dash\":{\"value\":[]},\"line_dash_offset\":{\"value\":0},\"line_join\":{\"value\":\"bevel\"},\"line_width\":{\"value\":1},\"x0\":{\"field\":\"x0\"},\"x1\":{\"field\":\"x1\"},\"y0\":{\"field\":\"y0\"},\"y1\":{\"field\":\"y1\"}},\"id\":\"20357\",\"type\":\"Segment\"},{\"attributes\":{\"bottom\":{\"field\":\"bottom\"},\"fill_alpha\":{\"value\":1.0},\"fill_color\":{\"value\":\"#30a2da\"},\"hatch_alpha\":{\"value\":1.0},\"hatch_color\":{\"value\":\"black\"},\"hatch_scale\":{\"value\":12.0},\"hatch_weight\":{\"value\":1.0},\"line_alpha\":{\"value\":1.0},\"line_cap\":{\"value\":\"butt\"},\"line_color\":{\"value\":\"black\"},\"line_dash\":{\"value\":[]},\"line_dash_offset\":{\"value\":0},\"line_join\":{\"value\":\"bevel\"},\"line_width\":{\"value\":1},\"top\":{\"field\":\"top\"},\"width\":{\"value\":0.7},\"x\":{\"field\":\"index\"}},\"id\":\"20395\",\"type\":\"VBar\"},{\"attributes\":{\"source\":{\"id\":\"20342\"}},\"id\":\"20348\",\"type\":\"CDSView\"},{\"attributes\":{\"source\":{\"id\":\"20326\"}},\"id\":\"20332\",\"type\":\"CDSView\"}],\"root_ids\":[\"20294\"]},\"title\":\"Bokeh Application\",\"version\":\"2.4.2\"}};\n",
       "    var render_items = [{\"docid\":\"78bfef20-89ce-468e-975e-9cc41100b30a\",\"root_ids\":[\"20294\"],\"roots\":{\"20294\":\"b3a75778-9b27-4574-aa6d-f8057c78d14f\"}}];\n",
       "    root.Bokeh.embed.embed_items_notebook(docs_json, render_items);\n",
       "  }\n",
       "  if (root.Bokeh !== undefined && root.Bokeh.Panel !== undefined) {\n",
       "    embed_document(root);\n",
       "  } else {\n",
       "    var attempts = 0;\n",
       "    var timer = setInterval(function(root) {\n",
       "      if (root.Bokeh !== undefined && root.Bokeh.Panel !== undefined) {\n",
       "        clearInterval(timer);\n",
       "        embed_document(root);\n",
       "      } else if (document.readyState == \"complete\") {\n",
       "        attempts++;\n",
       "        if (attempts > 200) {\n",
       "          clearInterval(timer);\n",
       "          console.log(\"Bokeh: ERROR: Unable to run BokehJS code because BokehJS library is missing\");\n",
       "        }\n",
       "      }\n",
       "    }, 25, root)\n",
       "  }\n",
       "})(window);</script>"
      ],
      "text/plain": [
       ":BoxWhisker   [Tired,Breakfast]   (Hours)"
      ]
     },
     "execution_count": 264,
     "metadata": {
      "application/vnd.holoviews_exec.v0+json": {
       "id": "20294"
      }
     },
     "output_type": "execute_result"
    }
   ],
   "source": [
    "boxplot_tired_bf = df.hvplot.box(y=\"Hours\", by=[\"Tired\",\"Breakfast\"])\n",
    "boxplot_tired_bf"
   ]
  },
  {
   "cell_type": "code",
   "execution_count": 272,
   "metadata": {},
   "outputs": [
    {
     "data": {
      "text/plain": [
       "LeveneResult(statistic=nan, pvalue=nan)"
      ]
     },
     "execution_count": 272,
     "metadata": {},
     "output_type": "execute_result"
    }
   ],
   "source": [
    "# your code for the statistical test here\n",
    "\n",
    "# Levene's test\n",
    "from scipy.stats import levene\n",
    "levene(df['Hours'][df['Tired'] == '1'].dropna(),\n",
    "               df['Hours'][df['Tired'] == '2'].dropna(),\n",
    "               df['Hours'][df['Tired'] == '3'].dropna(),\n",
    "               df['Hours'][df['Tired'] == '4'].dropna(),\n",
    "               df['Hours'][df['Tired'] == '5'].dropna(), center=\"median\")"
   ]
  },
  {
   "cell_type": "code",
   "execution_count": 266,
   "metadata": {},
   "outputs": [
    {
     "name": "stdout",
     "output_type": "stream",
     "text": [
      "The boxplots and Levene's test suggest there is no equal variance between conditions\n"
     ]
    }
   ],
   "source": [
    "# briefly summarize your findings\n",
    "print(\"The boxplots and Levene's test suggest there is no equal variance between conditions\")"
   ]
  },
  {
   "cell_type": "markdown",
   "metadata": {},
   "source": [
    "---"
   ]
  },
  {
   "cell_type": "markdown",
   "metadata": {},
   "source": [
    "<a name='3'></a>\n",
    "## Part 4: Prepare your data (10 pt)\n",
    "\n",
    "Create a dataframe with equal samplesize. Make three categories for tireness 1-2 = no, 3 = maybe, 4-5 = yes"
   ]
  },
  {
   "cell_type": "code",
   "execution_count": 267,
   "metadata": {},
   "outputs": [
    {
     "data": {
      "text/plain": [
       "0      maybe\n",
       "1      maybe\n",
       "2         no\n",
       "3        yes\n",
       "4         no\n",
       "       ...  \n",
       "99        no\n",
       "100    maybe\n",
       "101    maybe\n",
       "102       no\n",
       "103    maybe\n",
       "Name: Tired, Length: 104, dtype: category\n",
       "Categories (3, object): ['maybe', 'no', 'yes']"
      ]
     },
     "execution_count": 267,
     "metadata": {},
     "output_type": "execute_result"
    }
   ],
   "source": [
    "# Create categories for Tiredness\n",
    "dict_tired = {1:\"no\", 2:\"no\", 3:\"maybe\", 4:\"yes\", 5:\"yes\"}\n",
    "df.Tired = df.Tired.dropna().map(dict_tired).astype(\"category\")\n",
    "df.Tired\n"
   ]
  },
  {
   "cell_type": "code",
   "execution_count": 268,
   "metadata": {},
   "outputs": [
    {
     "name": "stdout",
     "output_type": "stream",
     "text": [
      "maybe    40\n",
      "yes      33\n",
      "no       31\n",
      "Name: Tired, dtype: int64\n"
     ]
    }
   ],
   "source": [
    "# Check for equal sample size\n",
    "print(df[\"Tired\"].value_counts())"
   ]
  },
  {
   "cell_type": "markdown",
   "metadata": {},
   "source": [
    "---"
   ]
  },
  {
   "cell_type": "markdown",
   "metadata": {},
   "source": [
    "<a name='4'></a>\n",
    "## Part 5: Answer the research questions (20 pt)\n",
    "\n",
    "<details>    \n",
    "<summary>\n",
    "    <font size=\"3\" color=\"darkgreen\"><b>Hints</b></font>\n",
    "</summary>\n",
    "    <ul><li>use one-way ANOVA for research question 1</li>\n",
    "    <li>Use two-way ANOVA for research question 2</li>\n",
    "    <li>https://reneshbedre.github.io/blog/anova.html</li>\n",
    "</ul>\n",
    "</details>"
   ]
  },
  {
   "cell_type": "code",
   "execution_count": 269,
   "metadata": {},
   "outputs": [
    {
     "data": {
      "text/plain": [
       "F_onewayResult(statistic=0.7087661985071012, pvalue=0.4947316010199153)"
      ]
     },
     "execution_count": 269,
     "metadata": {},
     "output_type": "execute_result"
    }
   ],
   "source": [
    "#Your solution here\n",
    "import scipy.stats as stats\n",
    "stats.f_oneway(df['Hours'][df['Tired'] == 'no'].dropna(),\n",
    "               df['Hours'][df['Tired'] == 'yes'].dropna(),\n",
    "               df['Hours'][df['Tired'] == 'maybe'].dropna())"
   ]
  },
  {
   "cell_type": "markdown",
   "metadata": {},
   "source": [
    "**Answer**\n",
    "Research Question1: There significant effect of Tiredness on Hours slept"
   ]
  },
  {
   "cell_type": "markdown",
   "metadata": {},
   "source": [
    "---"
   ]
  },
  {
   "cell_type": "markdown",
   "metadata": {},
   "source": [
    "<a name='5'></a>\n",
    "## Part 6: Enhanced plotting (20 pt)\n",
    "\n",
    "Create a panel with 1) your dataframe with equal samplesize 2) a picture of a sleeping beauty, 3) the scatter plot of tired / hours of sleep with different colors for Breakfast from part 2 4) the boxplots given the p-value for the anova outcome in the title"
   ]
  },
  {
   "cell_type": "code",
   "execution_count": 270,
   "metadata": {},
   "outputs": [],
   "source": [
    "# Calculate group sizes from total sample size, and square root(N) to get standard deviation from standard error\n",
    "n_group_ca = int(n_canada / 5)\n",
    "n_group_nl = int(n_holland / 5)\n",
    "sqrt_n_ca = int(np.sqrt(n_group_ca))\n",
    "sqrt_n_nl = int(np.sqrt(n_group_nl))\n",
    "\n",
    "# Create all groups, combining the Netherlands and Canada\n",
    "# np.random was used because of the large sample size, the distribution will be roughly normal\n",
    "age12_17_pre = np.append(np.random.normal(41.7, (1.89)*sqrt_n_nl, n_group_nl), \n",
    "                         np.random.normal(55.5, (1.28)*sqrt_n_ca, n_group_ca))\n",
    "age18_34_pre = np.append(np.random.normal(59.9, (1.52)*sqrt_n_nl, n_group_nl), \n",
    "                         np.random.normal(64.3, (0.82)*sqrt_n_ca, n_group_ca))\n",
    "age35_49_pre = np.append(np.random.normal(55.6, (1.41)*sqrt_n_nl, n_group_nl), \n",
    "                         np.random.normal(58.4, (0.77)*sqrt_n_ca, n_group_ca))      \n",
    "age50_64_pre = np.append(np.random.normal(55.8, (1.55)*sqrt_n_nl, n_group_nl), \n",
    "                         np.random.normal(54.0, (0.76)*sqrt_n_ca, n_group_ca))\n",
    "age65_over_pre = np.append(np.random.normal(55.1, (1.48)*sqrt_n_nl, n_group_nl), \n",
    "                           np.random.normal(37.3, (0.64)*sqrt_n_ca, n_group_ca))\n",
    "age12_17_lockdown = np.append(np.random.normal(42.4, (2.04)*sqrt_n_nl, n_group_nl), \n",
    "                              np.random.normal(42.9, (1.40)*sqrt_n_ca, n_group_ca)) \n",
    "age18_34_lockdown = np.append(np.random.normal(62.2, (1.59)*sqrt_n_nl, n_group_nl), \n",
    "                              np.random.normal(59.9, (1.08)*sqrt_n_ca, n_group_ca))\n",
    "age35_49_lockdown = np.append(np.random.normal(60.5, (1.51)*sqrt_n_nl, n_group_nl), \n",
    "                              np.random.normal(57.2, (1.02)*sqrt_n_ca, n_group_ca))\n",
    "age50_64_lockdown = np.append(np.random.normal(59.9, (1.61)*sqrt_n_nl, n_group_nl), \n",
    "                              np.random.normal(55.1, (0.92)*sqrt_n_ca, n_group_ca))\n",
    "age65_over_lockdown = np.append(np.random.normal(56.0, (1.63)*sqrt_n_nl, n_group_nl),\n",
    "                                np.random.normal(40.3, (0.56)*sqrt_n_ca, n_group_ca))\n",
    "\n",
    "pre_total = [age12_17_pre, age18_34_pre, age50_64_pre, age65_over_pre]\n",
    "lockdown_total = [age12_17_lockdown, age18_34_lockdown, age50_64_lockdown, age65_over_lockdown]\n",
    "total  = np.append(pre_total, lockdown_total)#your solution here"
   ]
  }
 ],
 "metadata": {
  "kernelspec": {
   "display_name": "Python 3 (ipykernel)",
   "language": "python",
   "name": "python3"
  },
  "language_info": {
   "codemirror_mode": {
    "name": "ipython",
    "version": 3
   },
   "file_extension": ".py",
   "mimetype": "text/x-python",
   "name": "python",
   "nbconvert_exporter": "python",
   "pygments_lexer": "ipython3",
   "version": "3.9.6"
  }
 },
 "nbformat": 4,
 "nbformat_minor": 4
}
