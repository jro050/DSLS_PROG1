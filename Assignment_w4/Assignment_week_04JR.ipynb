{
 "cells": [
  {
   "cell_type": "markdown",
   "metadata": {},
   "source": [
    "# Week 04 Assignment weather data\n",
    "\n",
    "Welcome to week four of this course programming 1. You will to organise your data into the required format and apply smoothing. In this assignment we will work with weatherdata from the KNMI. A subset of weatherdata is for you available in the file: `KNMI_20181231.csv`. The data consist of several stations with daily weather data of several years. Your task is to make a plot similar to the plot below.\n",
    "\n",
    "\n",
    "<img src=\"images/weather.png\" alt=\"drawing\" width=\"400\"/>\n",
    "\n",
    "\n",
    "Furthermore the plot needs the following enhancements\n",
    "\n",
    "1. proper titles and ticks\n",
    "2. a slider widget selecting a particular year or all years\n",
    "3. lines need to be smoothed\n",
    "3. legends needs to be added\n",
    "\n",
    "Use your creativity. Consider colors, alpha settings, sizes etc. \n",
    "\n",
    "Learning outcomes\n",
    "\n",
    "- load, inspect and clean a dataset \n",
    "- reformat dataframes\n",
    "- apply smoothing technologies\n",
    "- visualize timeseries data\n",
    "\n",
    "The assignment consists of 6 parts:\n",
    "\n",
    "- [part 1: load the data](#0)\n",
    "- [part 2: clean the data](#1)\n",
    "- [part 3: reformat data](#2)\n",
    "- [part 4: smooth the data](#3)\n",
    "- [part 5: visualize the data](#4)\n",
    "- [part 6: Challenge](#5)\n",
    "\n",
    "Part 1 and 5 are mandatory, part 6 is optional (bonus)\n",
    "To pass the assingnment you need to a score of 60%. \n"
   ]
  },
  {
   "cell_type": "markdown",
   "metadata": {},
   "source": [
    "---"
   ]
  },
  {
   "cell_type": "markdown",
   "metadata": {},
   "source": [
    "<a name='0'></a>\n",
    "## Part 1: Load the data\n",
    "\n",
    "Either load the dataset `KNMI_20181231.csv` or `KNMI_20181231.txt.tsv`. The dataheaders contain spaces and are not very self explainable. Change this into more readable ones. Select data from station 270. Select only the mean, minimum and maximum temperature. The data should look something like this:\n"
   ]
  },
  {
   "cell_type": "raw",
   "metadata": {},
   "source": [
    "        station      Date  Tmean   Tmin   Tmax\n",
    "245205      270  19510101      0    -40     24\n",
    "245206      270  19510102      9     -5     19\n",
    "245207      270  19510103      5     -8     17\n",
    "245208      270  19510104      5    -15     17\n",
    "245209      270  19510105     26      6     46"
   ]
  },
  {
   "cell_type": "code",
   "execution_count": 106,
   "metadata": {},
   "outputs": [
    {
     "data": {
      "text/html": [
       "<div>\n",
       "<style scoped>\n",
       "    .dataframe tbody tr th:only-of-type {\n",
       "        vertical-align: middle;\n",
       "    }\n",
       "\n",
       "    .dataframe tbody tr th {\n",
       "        vertical-align: top;\n",
       "    }\n",
       "\n",
       "    .dataframe thead th {\n",
       "        text-align: right;\n",
       "    }\n",
       "</style>\n",
       "<table border=\"1\" class=\"dataframe\">\n",
       "  <thead>\n",
       "    <tr style=\"text-align: right;\">\n",
       "      <th></th>\n",
       "      <th>station</th>\n",
       "      <th>date</th>\n",
       "      <th>tmean</th>\n",
       "      <th>tmin</th>\n",
       "      <th>tmax</th>\n",
       "    </tr>\n",
       "  </thead>\n",
       "  <tbody>\n",
       "    <tr>\n",
       "      <th>97642</th>\n",
       "      <td>270</td>\n",
       "      <td>20000101</td>\n",
       "      <td>42</td>\n",
       "      <td>-4</td>\n",
       "      <td>79</td>\n",
       "    </tr>\n",
       "    <tr>\n",
       "      <th>97643</th>\n",
       "      <td>270</td>\n",
       "      <td>20000102</td>\n",
       "      <td>55</td>\n",
       "      <td>33</td>\n",
       "      <td>74</td>\n",
       "    </tr>\n",
       "    <tr>\n",
       "      <th>97644</th>\n",
       "      <td>270</td>\n",
       "      <td>20000103</td>\n",
       "      <td>74</td>\n",
       "      <td>49</td>\n",
       "      <td>89</td>\n",
       "    </tr>\n",
       "    <tr>\n",
       "      <th>97645</th>\n",
       "      <td>270</td>\n",
       "      <td>20000104</td>\n",
       "      <td>46</td>\n",
       "      <td>22</td>\n",
       "      <td>75</td>\n",
       "    </tr>\n",
       "    <tr>\n",
       "      <th>97646</th>\n",
       "      <td>270</td>\n",
       "      <td>20000105</td>\n",
       "      <td>41</td>\n",
       "      <td>14</td>\n",
       "      <td>56</td>\n",
       "    </tr>\n",
       "  </tbody>\n",
       "</table>\n",
       "</div>"
      ],
      "text/plain": [
       "      station      date  tmean   tmin   tmax\n",
       "97642     270  20000101     42     -4     79\n",
       "97643     270  20000102     55     33     74\n",
       "97644     270  20000103     74     49     89\n",
       "97645     270  20000104     46     22     75\n",
       "97646     270  20000105     41     14     56"
      ]
     },
     "execution_count": 106,
     "metadata": {},
     "output_type": "execute_result"
    }
   ],
   "source": [
    "import numpy as np\n",
    "import pandas as pd\n",
    "\n",
    "# Read file and select relevant columns\n",
    "df = pd.read_csv('KNMI_20181231.txt.tsv', sep=\"\\t\", header=63)\n",
    "df[[\"station\", \"date\", \"tmean\", \"tmin\", \"tmax\", \"pop\"]] = df[\"# STN,YYYYMMDD,   TG,   TN,   TX,   SQ,   DR,   RH\"].str.split(',', n=5, expand=True)\n",
    "df = pd.DataFrame.drop(df, columns=[\"# STN,YYYYMMDD,   TG,   TN,   TX,   SQ,   DR,   RH\", \"pop\"])\n",
    "df = df[df[\"station\"].apply(pd.to_numeric, errors='coerce') == 270]\n",
    "df.head()"
   ]
  },
  {
   "cell_type": "markdown",
   "metadata": {},
   "source": [
    "---"
   ]
  },
  {
   "cell_type": "markdown",
   "metadata": {},
   "source": [
    "<a name='1'></a>\n",
    "## Part 2: Clean the data"
   ]
  },
  {
   "cell_type": "markdown",
   "metadata": {},
   "source": [
    "The data ia not clean. There are empty cells in the dataframe which needs to be replaced with NaN's and the temperature is in centidegrees which needs to be transformed into degrees. The date field needs a datetime format. For visualization convience we would like to remove the leap year. Conduct the cleaning."
   ]
  },
  {
   "cell_type": "code",
   "execution_count": 107,
   "metadata": {
    "scrolled": true
   },
   "outputs": [
    {
     "name": "stdout",
     "output_type": "stream",
     "text": [
      "Length of df including leap years: 6940.000\n",
      "Length of df excluding leap years: 5110.000\n"
     ]
    },
    {
     "data": {
      "text/html": [
       "<div>\n",
       "<style scoped>\n",
       "    .dataframe tbody tr th:only-of-type {\n",
       "        vertical-align: middle;\n",
       "    }\n",
       "\n",
       "    .dataframe tbody tr th {\n",
       "        vertical-align: top;\n",
       "    }\n",
       "\n",
       "    .dataframe thead th {\n",
       "        text-align: right;\n",
       "    }\n",
       "</style>\n",
       "<table border=\"1\" class=\"dataframe\">\n",
       "  <thead>\n",
       "    <tr style=\"text-align: right;\">\n",
       "      <th></th>\n",
       "      <th>station</th>\n",
       "      <th>date</th>\n",
       "      <th>tmean</th>\n",
       "      <th>tmin</th>\n",
       "      <th>tmax</th>\n",
       "    </tr>\n",
       "  </thead>\n",
       "  <tbody>\n",
       "    <tr>\n",
       "      <th>98008</th>\n",
       "      <td>270</td>\n",
       "      <td>2001-01-01</td>\n",
       "      <td>2.1</td>\n",
       "      <td>0.4</td>\n",
       "      <td>3.8</td>\n",
       "    </tr>\n",
       "    <tr>\n",
       "      <th>98009</th>\n",
       "      <td>270</td>\n",
       "      <td>2001-01-02</td>\n",
       "      <td>6.3</td>\n",
       "      <td>3.7</td>\n",
       "      <td>8.5</td>\n",
       "    </tr>\n",
       "    <tr>\n",
       "      <th>98010</th>\n",
       "      <td>270</td>\n",
       "      <td>2001-01-03</td>\n",
       "      <td>5.3</td>\n",
       "      <td>2.6</td>\n",
       "      <td>7.9</td>\n",
       "    </tr>\n",
       "    <tr>\n",
       "      <th>98011</th>\n",
       "      <td>270</td>\n",
       "      <td>2001-01-04</td>\n",
       "      <td>6.5</td>\n",
       "      <td>4.6</td>\n",
       "      <td>7.9</td>\n",
       "    </tr>\n",
       "    <tr>\n",
       "      <th>98012</th>\n",
       "      <td>270</td>\n",
       "      <td>2001-01-05</td>\n",
       "      <td>6.6</td>\n",
       "      <td>5.6</td>\n",
       "      <td>8.3</td>\n",
       "    </tr>\n",
       "  </tbody>\n",
       "</table>\n",
       "</div>"
      ],
      "text/plain": [
       "      station       date  tmean  tmin  tmax\n",
       "98008     270 2001-01-01    2.1   0.4   3.8\n",
       "98009     270 2001-01-02    6.3   3.7   8.5\n",
       "98010     270 2001-01-03    5.3   2.6   7.9\n",
       "98011     270 2001-01-04    6.5   4.6   7.9\n",
       "98012     270 2001-01-05    6.6   5.6   8.3"
      ]
     },
     "execution_count": 107,
     "metadata": {},
     "output_type": "execute_result"
    }
   ],
   "source": [
    "# Replace cells with spaces to NaN\n",
    "df.columns = df.columns.str.replace(' ', '')\n",
    "\n",
    "# Change data formats\n",
    "df[[\"tmean\", \"tmin\", \"tmax\"]] = df[[\"tmean\", \"tmin\", \"tmax\"]].apply(pd.to_numeric, errors='coerce', axis=1)\n",
    "df[\"date\"] = pd.to_datetime(df[\"date\"])\n",
    "\n",
    "# Change temperatures to celcius degrees\n",
    "df[[\"tmean\", \"tmin\", \"tmax\"]] = df[[\"tmean\", \"tmin\", \"tmax\"]].div(10)\n",
    "print(\"Length of df including leap years: {:.3f}\".format(len(df)))\n",
    "\n",
    "# Remove leap year\n",
    "df = df[df[\"date\"].dt.is_leap_year == False]\n",
    "print(\"Length of df excluding leap years: {:.3f}\".format(len(df)))\n",
    "\n",
    "# Sort data and select change datatypes\n",
    "df.sort_values(\"date\")\n",
    "df.reset_index(drop=True)\n",
    "df.head()"
   ]
  },
  {
   "cell_type": "markdown",
   "metadata": {},
   "source": [
    "<details>    \n",
    "<summary>\n",
    "    <font size=\"3\" color=\"darkgreen\"><b>Hints</b></font>\n",
    "</summary>\n",
    "<ul><li>pd.to_datetime(df['Date'].astype(str), format='%Y%m%d')</li>\n",
    "    <li>regex for empty cells = `^\\s*$` </li>\n",
    "    <li>remove month == 2 & day == 29</li> \n",
    "</ul>\n",
    "</details>"
   ]
  },
  {
   "cell_type": "code",
   "execution_count": 108,
   "metadata": {},
   "outputs": [
    {
     "name": "stdout",
     "output_type": "stream",
     "text": [
      "<class 'pandas.core.frame.DataFrame'>\n",
      "Int64Index: 5110 entries, 98008 to 104581\n",
      "Data columns (total 5 columns):\n",
      " #   Column   Non-Null Count  Dtype         \n",
      "---  ------   --------------  -----         \n",
      " 0   station  5110 non-null   object        \n",
      " 1   date     5110 non-null   datetime64[ns]\n",
      " 2   tmean    5110 non-null   float64       \n",
      " 3   tmin     5110 non-null   float64       \n",
      " 4   tmax     5110 non-null   float64       \n",
      "dtypes: datetime64[ns](1), float64(3), object(1)\n",
      "memory usage: 239.5+ KB\n"
     ]
    }
   ],
   "source": [
    "#Test your outcome\n",
    "df.info()\n",
    "\n",
    "## Why does station need to be an integer if I do no further actions with it?"
   ]
  },
  {
   "cell_type": "markdown",
   "metadata": {},
   "source": [
    "### Expected outcome"
   ]
  },
  {
   "cell_type": "raw",
   "metadata": {},
   "source": [
    "DatetimeIndex: 24820 entries, 1951-01-01 to 2018-12-31\n",
    "Data columns (total 5 columns):\n",
    " #   Column   Non-Null Count  Dtype         \n",
    "---  ------   --------------  -----         \n",
    " 0   station  24820 non-null  int64         \n",
    " 1   Date     24820 non-null  datetime64[ns]\n",
    " 2   Tmean    24819 non-null  float64       \n",
    " 3   Tmin     24819 non-null  float64       \n",
    " 4   Tmax     24819 non-null  float64       \n",
    "dtypes: datetime64[ns](1), float64(3), int64(1)\n",
    "memory usage: 1.1 MB"
   ]
  },
  {
   "cell_type": "markdown",
   "metadata": {},
   "source": [
    "---"
   ]
  },
  {
   "cell_type": "markdown",
   "metadata": {},
   "source": [
    "<a name='2'></a>\n",
    "## Part 3: Reform your data\n",
    "\n",
    "First we will split the data in data from 2018 and data before 2018. Best is to split this in two dataframes. \n",
    "Next we need for the non 2018 data the minimum values for each day and the maximum values for each day. So we look for the minimum value out of all january-01 minimum values (regardless the year). Create a dataframe with 365 days containing the ultimate minimum and the ultimate maximum per day. \n"
   ]
  },
  {
   "cell_type": "code",
   "execution_count": 200,
   "metadata": {},
   "outputs": [],
   "source": [
    "df_2018 = df[df['date'].dt.year == 2018]\n",
    "df_pre2018 = df[df['date'].dt.year < 2018]\n",
    "\n",
    "def month_day(df_multipleyears):\n",
    "    # Create df of relevant columns and delete year data\n",
    "    ext_vals= df_multipleyears[[\"date\", \"tmin\", \"tmax\"]]\n",
    "    ext_vals['day'] = ext_vals['date'].dt.day\n",
    "    ext_vals['month'] = ext_vals['date'].dt.month\n",
    "    ext_vals = pd.DataFrame.drop(ext_vals, columns=[\"date\"])\n",
    "\n",
    "    # Create 2 df's: one with max and other min values per day\n",
    "    tmaxx = ext_vals.groupby([\"month\", \"day\"]).max()\n",
    "    tminn = ext_vals.groupby([\"month\", \"day\"]).min()\n",
    "\n",
    "    # Merge the two df's and rename accordingly\n",
    "    max_min = pd.merge(tmaxx, tminn, on=[\"month\", \"day\"], how=\"outer\")\n",
    "    max_min = pd.DataFrame.drop(max_min, columns=[\"tmin_x\", \"tmax_y\"], axis=1)\n",
    "    max_min = max_min.rename(columns={\"tmax_x\": \"tmax\", \"tmin_y\": \"tmin\"})\n",
    "    print(max_min)\n",
    "    return max_min"
   ]
  },
  {
   "cell_type": "code",
   "execution_count": 209,
   "metadata": {},
   "outputs": [
    {
     "name": "stdout",
     "output_type": "stream",
     "text": [
      "           tmax  tmin\n",
      "month day            \n",
      "1     1     8.6  -5.8\n",
      "      2    10.2  -7.5\n",
      "      3    10.7 -12.6\n",
      "      4     9.2  -4.1\n",
      "      5     8.4  -6.0\n",
      "...         ...   ...\n",
      "12    27   11.7  -2.0\n",
      "      28   10.9  -4.2\n",
      "      29    8.6  -5.0\n",
      "      30    9.5  -6.7\n",
      "      31   11.8   0.2\n",
      "\n",
      "[365 rows x 2 columns]\n"
     ]
    },
    {
     "name": "stderr",
     "output_type": "stream",
     "text": [
      "C:\\Users\\jarom\\AppData\\Local\\Temp/ipykernel_10072/397922807.py:7: SettingWithCopyWarning: \n",
      "A value is trying to be set on a copy of a slice from a DataFrame.\n",
      "Try using .loc[row_indexer,col_indexer] = value instead\n",
      "\n",
      "See the caveats in the documentation: https://pandas.pydata.org/pandas-docs/stable/user_guide/indexing.html#returning-a-view-versus-a-copy\n",
      "  ext_vals['day'] = ext_vals['date'].dt.day\n"
     ]
    }
   ],
   "source": [
    "#Test your code\n",
    "def test_reformed(df):\n",
    "    #\n",
    "    df = df[(df.date.dt.year > 2007) & (df.date.dt.year < 2018)]\n",
    "    ref_df = month_day(df)\n",
    "    return ref_df\n",
    "\n",
    "test = test_reformed(df)"
   ]
  },
  {
   "cell_type": "markdown",
   "metadata": {},
   "source": [
    "<details>    \n",
    "<summary>\n",
    "    <font size=\"3\" color=\"darkgreen\"><b>Hints</b></font>\n",
    "</summary>\n",
    "<ul><li>use the dt.month and dt.day to groupby</li>\n",
    "</ul>\n",
    "</details>"
   ]
  },
  {
   "cell_type": "markdown",
   "metadata": {},
   "source": [
    "### Expected outcome\n",
    "Note, the layout or names my differ, but the length should be 365 and the minimum values should be the same"
   ]
  },
  {
   "cell_type": "raw",
   "metadata": {},
   "source": [
    "month  day\n",
    "1      1      -5.8\n",
    "       2      -7.5\n",
    "       3     -12.6\n",
    "       4      -4.1\n",
    "       5      -6.0\n",
    "              ... \n",
    "12     27     -4.8\n",
    "       28     -4.2\n",
    "       29     -6.7\n",
    "       30    -10.2\n",
    "       31    -10.6\n",
    "Name: Tmin, Length: 365, dtype: float64"
   ]
  },
  {
   "cell_type": "markdown",
   "metadata": {},
   "source": [
    "---"
   ]
  },
  {
   "cell_type": "markdown",
   "metadata": {},
   "source": [
    "<a name='3'></a>\n",
    "## Part 4: Smooth the data\n",
    "\n",
    "Make a function that takes an array or a dataframe column and returns an array of smoothed data. Explain in words why you choose a certain smoothing algoritm\n"
   ]
  },
  {
   "cell_type": "code",
   "execution_count": 213,
   "metadata": {},
   "outputs": [],
   "source": [
    "#your code here\n",
    "def smooth(df):\n",
    "    df = df.rolling(5).mean()\n",
    "    return df\n",
    "\n",
    "smoothed = smooth(test)"
   ]
  },
  {
   "cell_type": "markdown",
   "metadata": {},
   "source": [
    "**your motivation here** I used a simple moving average to smooth the data, because this method smooths out short-term fluctuations and highlights longer-term trends. This can be especially valuable to display the seasonal changes in temperature data we have."
   ]
  },
  {
   "cell_type": "markdown",
   "metadata": {},
   "source": [
    "---"
   ]
  },
  {
   "cell_type": "markdown",
   "metadata": {},
   "source": [
    "<a name='4'></a>\n",
    "## Part 5: Visualize the data"
   ]
  },
  {
   "cell_type": "markdown",
   "metadata": {},
   "source": [
    "Plot the mean temperature of the year 2018. Create a shaded band with the ultimate minimum values and the ultimate maximum values from the multi-year dataset. Add labels, titles and legends. Use proper ranges. Be creative to make the plot attractive. \n",
    "\n"
   ]
  },
  {
   "cell_type": "markdown",
   "metadata": {},
   "source": [
    "<details>    \n",
    "<summary>\n",
    "    <font size=\"3\" color=\"darkgreen\"><b>Hints</b></font>\n",
    "</summary>\n",
    "<ul><li>use from bokeh.models import Band</li>\n",
    "    <li>use ColumnDataSource to parse data arrays</li>\n",
    "    <li>look for xaxis tick formatters</li>\n",
    "</ul>\n",
    "</details>"
   ]
  },
  {
   "cell_type": "code",
   "execution_count": 225,
   "metadata": {},
   "outputs": [
    {
     "data": {
      "text/html": [
       "\n",
       "    <div class=\"bk-root\">\n",
       "        <a href=\"https://bokeh.org\" target=\"_blank\" class=\"bk-logo bk-logo-small bk-logo-notebook\"></a>\n",
       "        <span id=\"3066\">Loading BokehJS ...</span>\n",
       "    </div>"
      ]
     },
     "metadata": {},
     "output_type": "display_data"
    },
    {
     "data": {
      "application/javascript": [
       "\n",
       "(function(root) {\n",
       "  function now() {\n",
       "    return new Date();\n",
       "  }\n",
       "\n",
       "  const force = true;\n",
       "\n",
       "  if (typeof root._bokeh_onload_callbacks === \"undefined\" || force === true) {\n",
       "    root._bokeh_onload_callbacks = [];\n",
       "    root._bokeh_is_loading = undefined;\n",
       "  }\n",
       "\n",
       "  const JS_MIME_TYPE = 'application/javascript';\n",
       "  const HTML_MIME_TYPE = 'text/html';\n",
       "  const EXEC_MIME_TYPE = 'application/vnd.bokehjs_exec.v0+json';\n",
       "  const CLASS_NAME = 'output_bokeh rendered_html';\n",
       "\n",
       "  /**\n",
       "   * Render data to the DOM node\n",
       "   */\n",
       "  function render(props, node) {\n",
       "    const script = document.createElement(\"script\");\n",
       "    node.appendChild(script);\n",
       "  }\n",
       "\n",
       "  /**\n",
       "   * Handle when an output is cleared or removed\n",
       "   */\n",
       "  function handleClearOutput(event, handle) {\n",
       "    const cell = handle.cell;\n",
       "\n",
       "    const id = cell.output_area._bokeh_element_id;\n",
       "    const server_id = cell.output_area._bokeh_server_id;\n",
       "    // Clean up Bokeh references\n",
       "    if (id != null && id in Bokeh.index) {\n",
       "      Bokeh.index[id].model.document.clear();\n",
       "      delete Bokeh.index[id];\n",
       "    }\n",
       "\n",
       "    if (server_id !== undefined) {\n",
       "      // Clean up Bokeh references\n",
       "      const cmd_clean = \"from bokeh.io.state import curstate; print(curstate().uuid_to_server['\" + server_id + \"'].get_sessions()[0].document.roots[0]._id)\";\n",
       "      cell.notebook.kernel.execute(cmd_clean, {\n",
       "        iopub: {\n",
       "          output: function(msg) {\n",
       "            const id = msg.content.text.trim();\n",
       "            if (id in Bokeh.index) {\n",
       "              Bokeh.index[id].model.document.clear();\n",
       "              delete Bokeh.index[id];\n",
       "            }\n",
       "          }\n",
       "        }\n",
       "      });\n",
       "      // Destroy server and session\n",
       "      const cmd_destroy = \"import bokeh.io.notebook as ion; ion.destroy_server('\" + server_id + \"')\";\n",
       "      cell.notebook.kernel.execute(cmd_destroy);\n",
       "    }\n",
       "  }\n",
       "\n",
       "  /**\n",
       "   * Handle when a new output is added\n",
       "   */\n",
       "  function handleAddOutput(event, handle) {\n",
       "    const output_area = handle.output_area;\n",
       "    const output = handle.output;\n",
       "\n",
       "    // limit handleAddOutput to display_data with EXEC_MIME_TYPE content only\n",
       "    if ((output.output_type != \"display_data\") || (!Object.prototype.hasOwnProperty.call(output.data, EXEC_MIME_TYPE))) {\n",
       "      return\n",
       "    }\n",
       "\n",
       "    const toinsert = output_area.element.find(\".\" + CLASS_NAME.split(' ')[0]);\n",
       "\n",
       "    if (output.metadata[EXEC_MIME_TYPE][\"id\"] !== undefined) {\n",
       "      toinsert[toinsert.length - 1].firstChild.textContent = output.data[JS_MIME_TYPE];\n",
       "      // store reference to embed id on output_area\n",
       "      output_area._bokeh_element_id = output.metadata[EXEC_MIME_TYPE][\"id\"];\n",
       "    }\n",
       "    if (output.metadata[EXEC_MIME_TYPE][\"server_id\"] !== undefined) {\n",
       "      const bk_div = document.createElement(\"div\");\n",
       "      bk_div.innerHTML = output.data[HTML_MIME_TYPE];\n",
       "      const script_attrs = bk_div.children[0].attributes;\n",
       "      for (let i = 0; i < script_attrs.length; i++) {\n",
       "        toinsert[toinsert.length - 1].firstChild.setAttribute(script_attrs[i].name, script_attrs[i].value);\n",
       "        toinsert[toinsert.length - 1].firstChild.textContent = bk_div.children[0].textContent\n",
       "      }\n",
       "      // store reference to server id on output_area\n",
       "      output_area._bokeh_server_id = output.metadata[EXEC_MIME_TYPE][\"server_id\"];\n",
       "    }\n",
       "  }\n",
       "\n",
       "  function register_renderer(events, OutputArea) {\n",
       "\n",
       "    function append_mime(data, metadata, element) {\n",
       "      // create a DOM node to render to\n",
       "      const toinsert = this.create_output_subarea(\n",
       "        metadata,\n",
       "        CLASS_NAME,\n",
       "        EXEC_MIME_TYPE\n",
       "      );\n",
       "      this.keyboard_manager.register_events(toinsert);\n",
       "      // Render to node\n",
       "      const props = {data: data, metadata: metadata[EXEC_MIME_TYPE]};\n",
       "      render(props, toinsert[toinsert.length - 1]);\n",
       "      element.append(toinsert);\n",
       "      return toinsert\n",
       "    }\n",
       "\n",
       "    /* Handle when an output is cleared or removed */\n",
       "    events.on('clear_output.CodeCell', handleClearOutput);\n",
       "    events.on('delete.Cell', handleClearOutput);\n",
       "\n",
       "    /* Handle when a new output is added */\n",
       "    events.on('output_added.OutputArea', handleAddOutput);\n",
       "\n",
       "    /**\n",
       "     * Register the mime type and append_mime function with output_area\n",
       "     */\n",
       "    OutputArea.prototype.register_mime_type(EXEC_MIME_TYPE, append_mime, {\n",
       "      /* Is output safe? */\n",
       "      safe: true,\n",
       "      /* Index of renderer in `output_area.display_order` */\n",
       "      index: 0\n",
       "    });\n",
       "  }\n",
       "\n",
       "  // register the mime type if in Jupyter Notebook environment and previously unregistered\n",
       "  if (root.Jupyter !== undefined) {\n",
       "    const events = require('base/js/events');\n",
       "    const OutputArea = require('notebook/js/outputarea').OutputArea;\n",
       "\n",
       "    if (OutputArea.prototype.mime_types().indexOf(EXEC_MIME_TYPE) == -1) {\n",
       "      register_renderer(events, OutputArea);\n",
       "    }\n",
       "  }\n",
       "\n",
       "  \n",
       "  if (typeof (root._bokeh_timeout) === \"undefined\" || force === true) {\n",
       "    root._bokeh_timeout = Date.now() + 5000;\n",
       "    root._bokeh_failed_load = false;\n",
       "  }\n",
       "\n",
       "  const NB_LOAD_WARNING = {'data': {'text/html':\n",
       "     \"<div style='background-color: #fdd'>\\n\"+\n",
       "     \"<p>\\n\"+\n",
       "     \"BokehJS does not appear to have successfully loaded. If loading BokehJS from CDN, this \\n\"+\n",
       "     \"may be due to a slow or bad network connection. Possible fixes:\\n\"+\n",
       "     \"</p>\\n\"+\n",
       "     \"<ul>\\n\"+\n",
       "     \"<li>re-rerun `output_notebook()` to attempt to load from CDN again, or</li>\\n\"+\n",
       "     \"<li>use INLINE resources instead, as so:</li>\\n\"+\n",
       "     \"</ul>\\n\"+\n",
       "     \"<code>\\n\"+\n",
       "     \"from bokeh.resources import INLINE\\n\"+\n",
       "     \"output_notebook(resources=INLINE)\\n\"+\n",
       "     \"</code>\\n\"+\n",
       "     \"</div>\"}};\n",
       "\n",
       "  function display_loaded() {\n",
       "    const el = document.getElementById(\"3066\");\n",
       "    if (el != null) {\n",
       "      el.textContent = \"BokehJS is loading...\";\n",
       "    }\n",
       "    if (root.Bokeh !== undefined) {\n",
       "      if (el != null) {\n",
       "        el.textContent = \"BokehJS \" + root.Bokeh.version + \" successfully loaded.\";\n",
       "      }\n",
       "    } else if (Date.now() < root._bokeh_timeout) {\n",
       "      setTimeout(display_loaded, 100)\n",
       "    }\n",
       "  }\n",
       "\n",
       "\n",
       "  function run_callbacks() {\n",
       "    try {\n",
       "      root._bokeh_onload_callbacks.forEach(function(callback) {\n",
       "        if (callback != null)\n",
       "          callback();\n",
       "      });\n",
       "    } finally {\n",
       "      delete root._bokeh_onload_callbacks\n",
       "    }\n",
       "    console.debug(\"Bokeh: all callbacks have finished\");\n",
       "  }\n",
       "\n",
       "  function load_libs(css_urls, js_urls, callback) {\n",
       "    if (css_urls == null) css_urls = [];\n",
       "    if (js_urls == null) js_urls = [];\n",
       "\n",
       "    root._bokeh_onload_callbacks.push(callback);\n",
       "    if (root._bokeh_is_loading > 0) {\n",
       "      console.debug(\"Bokeh: BokehJS is being loaded, scheduling callback at\", now());\n",
       "      return null;\n",
       "    }\n",
       "    if (js_urls == null || js_urls.length === 0) {\n",
       "      run_callbacks();\n",
       "      return null;\n",
       "    }\n",
       "    console.debug(\"Bokeh: BokehJS not loaded, scheduling load and callback at\", now());\n",
       "    root._bokeh_is_loading = css_urls.length + js_urls.length;\n",
       "\n",
       "    function on_load() {\n",
       "      root._bokeh_is_loading--;\n",
       "      if (root._bokeh_is_loading === 0) {\n",
       "        console.debug(\"Bokeh: all BokehJS libraries/stylesheets loaded\");\n",
       "        run_callbacks()\n",
       "      }\n",
       "    }\n",
       "\n",
       "    function on_error(url) {\n",
       "      console.error(\"failed to load \" + url);\n",
       "    }\n",
       "\n",
       "    for (let i = 0; i < css_urls.length; i++) {\n",
       "      const url = css_urls[i];\n",
       "      const element = document.createElement(\"link\");\n",
       "      element.onload = on_load;\n",
       "      element.onerror = on_error.bind(null, url);\n",
       "      element.rel = \"stylesheet\";\n",
       "      element.type = \"text/css\";\n",
       "      element.href = url;\n",
       "      console.debug(\"Bokeh: injecting link tag for BokehJS stylesheet: \", url);\n",
       "      document.body.appendChild(element);\n",
       "    }\n",
       "\n",
       "    for (let i = 0; i < js_urls.length; i++) {\n",
       "      const url = js_urls[i];\n",
       "      const element = document.createElement('script');\n",
       "      element.onload = on_load;\n",
       "      element.onerror = on_error.bind(null, url);\n",
       "      element.async = false;\n",
       "      element.src = url;\n",
       "      console.debug(\"Bokeh: injecting script tag for BokehJS library: \", url);\n",
       "      document.head.appendChild(element);\n",
       "    }\n",
       "  };\n",
       "\n",
       "  function inject_raw_css(css) {\n",
       "    const element = document.createElement(\"style\");\n",
       "    element.appendChild(document.createTextNode(css));\n",
       "    document.body.appendChild(element);\n",
       "  }\n",
       "\n",
       "  \n",
       "  const js_urls = [\"https://cdn.bokeh.org/bokeh/release/bokeh-2.4.2.min.js\", \"https://cdn.bokeh.org/bokeh/release/bokeh-gl-2.4.2.min.js\", \"https://cdn.bokeh.org/bokeh/release/bokeh-widgets-2.4.2.min.js\", \"https://cdn.bokeh.org/bokeh/release/bokeh-tables-2.4.2.min.js\", \"https://cdn.bokeh.org/bokeh/release/bokeh-mathjax-2.4.2.min.js\"];\n",
       "  const css_urls = [];\n",
       "  \n",
       "\n",
       "  const inline_js = [\n",
       "    function(Bokeh) {\n",
       "      Bokeh.set_log_level(\"info\");\n",
       "    },\n",
       "    function(Bokeh) {\n",
       "    \n",
       "    \n",
       "    }\n",
       "  ];\n",
       "\n",
       "  function run_inline_js() {\n",
       "    \n",
       "    if (root.Bokeh !== undefined || force === true) {\n",
       "      \n",
       "    for (let i = 0; i < inline_js.length; i++) {\n",
       "      inline_js[i].call(root, root.Bokeh);\n",
       "    }\n",
       "    if (force === true) {\n",
       "        display_loaded();\n",
       "      }} else if (Date.now() < root._bokeh_timeout) {\n",
       "      setTimeout(run_inline_js, 100);\n",
       "    } else if (!root._bokeh_failed_load) {\n",
       "      console.log(\"Bokeh: BokehJS failed to load within specified timeout.\");\n",
       "      root._bokeh_failed_load = true;\n",
       "    } else if (force !== true) {\n",
       "      const cell = $(document.getElementById(\"3066\")).parents('.cell').data().cell;\n",
       "      cell.output_area.append_execute_result(NB_LOAD_WARNING)\n",
       "    }\n",
       "\n",
       "  }\n",
       "\n",
       "  if (root._bokeh_is_loading === 0) {\n",
       "    console.debug(\"Bokeh: BokehJS loaded, going straight to plotting\");\n",
       "    run_inline_js();\n",
       "  } else {\n",
       "    load_libs(css_urls, js_urls, function() {\n",
       "      console.debug(\"Bokeh: BokehJS plotting callback run at\", now());\n",
       "      run_inline_js();\n",
       "    });\n",
       "  }\n",
       "}(window));"
      ],
      "application/vnd.bokehjs_load.v0+json": "\n(function(root) {\n  function now() {\n    return new Date();\n  }\n\n  const force = true;\n\n  if (typeof root._bokeh_onload_callbacks === \"undefined\" || force === true) {\n    root._bokeh_onload_callbacks = [];\n    root._bokeh_is_loading = undefined;\n  }\n\n  \n\n  \n  if (typeof (root._bokeh_timeout) === \"undefined\" || force === true) {\n    root._bokeh_timeout = Date.now() + 5000;\n    root._bokeh_failed_load = false;\n  }\n\n  const NB_LOAD_WARNING = {'data': {'text/html':\n     \"<div style='background-color: #fdd'>\\n\"+\n     \"<p>\\n\"+\n     \"BokehJS does not appear to have successfully loaded. If loading BokehJS from CDN, this \\n\"+\n     \"may be due to a slow or bad network connection. Possible fixes:\\n\"+\n     \"</p>\\n\"+\n     \"<ul>\\n\"+\n     \"<li>re-rerun `output_notebook()` to attempt to load from CDN again, or</li>\\n\"+\n     \"<li>use INLINE resources instead, as so:</li>\\n\"+\n     \"</ul>\\n\"+\n     \"<code>\\n\"+\n     \"from bokeh.resources import INLINE\\n\"+\n     \"output_notebook(resources=INLINE)\\n\"+\n     \"</code>\\n\"+\n     \"</div>\"}};\n\n  function display_loaded() {\n    const el = document.getElementById(\"3066\");\n    if (el != null) {\n      el.textContent = \"BokehJS is loading...\";\n    }\n    if (root.Bokeh !== undefined) {\n      if (el != null) {\n        el.textContent = \"BokehJS \" + root.Bokeh.version + \" successfully loaded.\";\n      }\n    } else if (Date.now() < root._bokeh_timeout) {\n      setTimeout(display_loaded, 100)\n    }\n  }\n\n\n  function run_callbacks() {\n    try {\n      root._bokeh_onload_callbacks.forEach(function(callback) {\n        if (callback != null)\n          callback();\n      });\n    } finally {\n      delete root._bokeh_onload_callbacks\n    }\n    console.debug(\"Bokeh: all callbacks have finished\");\n  }\n\n  function load_libs(css_urls, js_urls, callback) {\n    if (css_urls == null) css_urls = [];\n    if (js_urls == null) js_urls = [];\n\n    root._bokeh_onload_callbacks.push(callback);\n    if (root._bokeh_is_loading > 0) {\n      console.debug(\"Bokeh: BokehJS is being loaded, scheduling callback at\", now());\n      return null;\n    }\n    if (js_urls == null || js_urls.length === 0) {\n      run_callbacks();\n      return null;\n    }\n    console.debug(\"Bokeh: BokehJS not loaded, scheduling load and callback at\", now());\n    root._bokeh_is_loading = css_urls.length + js_urls.length;\n\n    function on_load() {\n      root._bokeh_is_loading--;\n      if (root._bokeh_is_loading === 0) {\n        console.debug(\"Bokeh: all BokehJS libraries/stylesheets loaded\");\n        run_callbacks()\n      }\n    }\n\n    function on_error(url) {\n      console.error(\"failed to load \" + url);\n    }\n\n    for (let i = 0; i < css_urls.length; i++) {\n      const url = css_urls[i];\n      const element = document.createElement(\"link\");\n      element.onload = on_load;\n      element.onerror = on_error.bind(null, url);\n      element.rel = \"stylesheet\";\n      element.type = \"text/css\";\n      element.href = url;\n      console.debug(\"Bokeh: injecting link tag for BokehJS stylesheet: \", url);\n      document.body.appendChild(element);\n    }\n\n    for (let i = 0; i < js_urls.length; i++) {\n      const url = js_urls[i];\n      const element = document.createElement('script');\n      element.onload = on_load;\n      element.onerror = on_error.bind(null, url);\n      element.async = false;\n      element.src = url;\n      console.debug(\"Bokeh: injecting script tag for BokehJS library: \", url);\n      document.head.appendChild(element);\n    }\n  };\n\n  function inject_raw_css(css) {\n    const element = document.createElement(\"style\");\n    element.appendChild(document.createTextNode(css));\n    document.body.appendChild(element);\n  }\n\n  \n  const js_urls = [\"https://cdn.bokeh.org/bokeh/release/bokeh-2.4.2.min.js\", \"https://cdn.bokeh.org/bokeh/release/bokeh-gl-2.4.2.min.js\", \"https://cdn.bokeh.org/bokeh/release/bokeh-widgets-2.4.2.min.js\", \"https://cdn.bokeh.org/bokeh/release/bokeh-tables-2.4.2.min.js\", \"https://cdn.bokeh.org/bokeh/release/bokeh-mathjax-2.4.2.min.js\"];\n  const css_urls = [];\n  \n\n  const inline_js = [\n    function(Bokeh) {\n      Bokeh.set_log_level(\"info\");\n    },\n    function(Bokeh) {\n    \n    \n    }\n  ];\n\n  function run_inline_js() {\n    \n    if (root.Bokeh !== undefined || force === true) {\n      \n    for (let i = 0; i < inline_js.length; i++) {\n      inline_js[i].call(root, root.Bokeh);\n    }\n    if (force === true) {\n        display_loaded();\n      }} else if (Date.now() < root._bokeh_timeout) {\n      setTimeout(run_inline_js, 100);\n    } else if (!root._bokeh_failed_load) {\n      console.log(\"Bokeh: BokehJS failed to load within specified timeout.\");\n      root._bokeh_failed_load = true;\n    } else if (force !== true) {\n      const cell = $(document.getElementById(\"3066\")).parents('.cell').data().cell;\n      cell.output_area.append_execute_result(NB_LOAD_WARNING)\n    }\n\n  }\n\n  if (root._bokeh_is_loading === 0) {\n    console.debug(\"Bokeh: BokehJS loaded, going straight to plotting\");\n    run_inline_js();\n  } else {\n    load_libs(css_urls, js_urls, function() {\n      console.debug(\"Bokeh: BokehJS plotting callback run at\", now());\n      run_inline_js();\n    });\n  }\n}(window));"
     },
     "metadata": {},
     "output_type": "display_data"
    },
    {
     "data": {
      "text/html": [
       "\n",
       "\n",
       "\n",
       "\n",
       "\n",
       "\n",
       "  <div class=\"bk-root\" id=\"de8ce758-ab02-4a3c-91f7-e7398cb40a3f\" data-root-id=\"3068\"></div>\n"
      ]
     },
     "metadata": {},
     "output_type": "display_data"
    },
    {
     "data": {
      "application/javascript": [
       "(function(root) {\n",
       "  function embed_document(root) {\n",
       "    \n",
       "  const docs_json = {\"b7e1239e-2701-4b7c-8bc0-88c43c410cef\":{\"defs\":[],\"roots\":{\"references\":[{\"attributes\":{\"below\":[{\"id\":\"3077\"}],\"center\":[{\"id\":\"3080\"},{\"id\":\"3084\"},{\"id\":\"3103\"}],\"left\":[{\"id\":\"3081\"}],\"renderers\":[{\"id\":\"3101\"}],\"title\":{\"id\":\"3105\"},\"toolbar\":{\"id\":\"3091\"},\"x_range\":{\"id\":\"3069\"},\"x_scale\":{\"id\":\"3073\"},\"y_range\":{\"id\":\"3071\"},\"y_scale\":{\"id\":\"3075\"}},\"id\":\"3068\",\"subtype\":\"Figure\",\"type\":\"Plot\"},{\"attributes\":{\"num_minor_ticks\":5,\"tickers\":[{\"id\":\"3274\"},{\"id\":\"3275\"},{\"id\":\"3276\"},{\"id\":\"3277\"},{\"id\":\"3278\"},{\"id\":\"3279\"},{\"id\":\"3280\"},{\"id\":\"3281\"},{\"id\":\"3282\"},{\"id\":\"3283\"},{\"id\":\"3284\"},{\"id\":\"3285\"}]},\"id\":\"3078\",\"type\":\"DatetimeTicker\"},{\"attributes\":{\"coordinates\":null,\"group\":null,\"text\":\"Temperature of 2018 in Leeuwarden\"},\"id\":\"3105\",\"type\":\"Title\"},{\"attributes\":{\"axis_label\":\"Temperature in Centidegrees\",\"coordinates\":null,\"formatter\":{\"id\":\"3266\"},\"group\":null,\"major_label_policy\":{\"id\":\"3267\"},\"ticker\":{\"id\":\"3082\"}},\"id\":\"3081\",\"type\":\"LinearAxis\"},{\"attributes\":{\"bottom_units\":\"screen\",\"coordinates\":null,\"fill_alpha\":0.5,\"fill_color\":\"lightgrey\",\"group\":null,\"left_units\":\"screen\",\"level\":\"overlay\",\"line_alpha\":1.0,\"line_color\":\"black\",\"line_dash\":[4,4],\"line_width\":2,\"right_units\":\"screen\",\"syncable\":false,\"top_units\":\"screen\"},\"id\":\"3090\",\"type\":\"BoxAnnotation\"},{\"attributes\":{\"mantissas\":[1,2,5],\"max_interval\":500.0,\"num_minor_ticks\":0},\"id\":\"3274\",\"type\":\"AdaptiveTicker\"},{\"attributes\":{},\"id\":\"3071\",\"type\":\"DataRange1d\"},{\"attributes\":{\"fill_alpha\":{\"value\":0.1},\"fill_color\":{\"value\":\"green\"},\"hatch_alpha\":{\"value\":0.1},\"hatch_color\":{\"value\":\"green\"},\"line_alpha\":{\"value\":0.1},\"line_color\":{\"value\":null},\"size\":{\"value\":5},\"x\":{\"field\":\"date\"},\"y\":{\"field\":\"tmean\"}},\"id\":\"3099\",\"type\":\"Scatter\"},{\"attributes\":{\"base\":60,\"mantissas\":[1,2,5,10,15,20,30],\"max_interval\":1800000.0,\"min_interval\":1000.0,\"num_minor_ticks\":0},\"id\":\"3275\",\"type\":\"AdaptiveTicker\"},{\"attributes\":{\"base\":{\"field\":\"date\"},\"coordinates\":null,\"fill_alpha\":1.0,\"group\":null,\"level\":\"underlay\",\"line_color\":\"maroon\",\"line_width\":2,\"lower\":{\"field\":\"tmin\"},\"source\":{\"id\":\"3067\"},\"upper\":{\"field\":\"tmax\"}},\"id\":\"3103\",\"type\":\"Band\"},{\"attributes\":{\"source\":{\"id\":\"3067\"}},\"id\":\"3102\",\"type\":\"CDSView\"},{\"attributes\":{\"axis_label\":\"Date\",\"coordinates\":null,\"formatter\":{\"id\":\"3269\"},\"group\":null,\"major_label_policy\":{\"id\":\"3270\"},\"ticker\":{\"id\":\"3078\"}},\"id\":\"3077\",\"type\":\"DatetimeAxis\"},{\"attributes\":{},\"id\":\"3271\",\"type\":\"UnionRenderers\"},{\"attributes\":{},\"id\":\"3266\",\"type\":\"BasicTickFormatter\"},{\"attributes\":{\"base\":24,\"mantissas\":[1,2,4,6,8,12],\"max_interval\":43200000.0,\"min_interval\":3600000.0,\"num_minor_ticks\":0},\"id\":\"3276\",\"type\":\"AdaptiveTicker\"},{\"attributes\":{\"months\":[0,1,2,3,4,5,6,7,8,9,10,11]},\"id\":\"3281\",\"type\":\"MonthsTicker\"},{\"attributes\":{},\"id\":\"3285\",\"type\":\"YearsTicker\"},{\"attributes\":{\"days\":[1,15]},\"id\":\"3280\",\"type\":\"DaysTicker\"},{\"attributes\":{\"days\":[1,2,3,4,5,6,7,8,9,10,11,12,13,14,15,16,17,18,19,20,21,22,23,24,25,26,27,28,29,30,31]},\"id\":\"3277\",\"type\":\"DaysTicker\"},{\"attributes\":{\"days\":[1,4,7,10,13,16,19,22,25,28]},\"id\":\"3278\",\"type\":\"DaysTicker\"},{\"attributes\":{\"days\":[1,8,15,22]},\"id\":\"3279\",\"type\":\"DaysTicker\"},{\"attributes\":{\"months\":[0,6]},\"id\":\"3284\",\"type\":\"MonthsTicker\"},{\"attributes\":{\"axis\":{\"id\":\"3081\"},\"coordinates\":null,\"dimension\":1,\"grid_line_alpha\":0.5,\"grid_line_color\":\"white\",\"group\":null,\"ticker\":null},\"id\":\"3084\",\"type\":\"Grid\"},{\"attributes\":{\"months\":[0,2,4,6,8,10]},\"id\":\"3282\",\"type\":\"MonthsTicker\"},{\"attributes\":{},\"id\":\"3082\",\"type\":\"BasicTicker\"},{\"attributes\":{\"data\":{\"date\":{\"__ndarray__\":\"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\",\"dtype\":\"float64\",\"order\":\"little\",\"shape\":[365]},\"index\":[104217,104218,104219,104220,104221,104222,104223,104224,104225,104226,104227,104228,104229,104230,104231,104232,104233,104234,104235,104236,104237,104238,104239,104240,104241,104242,104243,104244,104245,104246,104247,104248,104249,104250,104251,104252,104253,104254,104255,104256,104257,104258,104259,104260,104261,104262,104263,104264,104265,104266,104267,104268,104269,104270,104271,104272,104273,104274,104275,104276,104277,104278,104279,104280,104281,104282,104283,104284,104285,104286,104287,104288,104289,104290,104291,104292,104293,104294,104295,104296,104297,104298,104299,104300,104301,104302,104303,104304,104305,104306,104307,104308,104309,104310,104311,104312,104313,104314,104315,104316,104317,104318,104319,104320,104321,104322,104323,104324,104325,104326,104327,104328,104329,104330,104331,104332,104333,104334,104335,104336,104337,104338,104339,104340,104341,104342,104343,104344,104345,104346,104347,104348,104349,104350,104351,104352,104353,104354,104355,104356,104357,104358,104359,104360,104361,104362,104363,104364,104365,104366,104367,104368,104369,104370,104371,104372,104373,104374,104375,104376,104377,104378,104379,104380,104381,104382,104383,104384,104385,104386,104387,104388,104389,104390,104391,104392,104393,104394,104395,104396,104397,104398,104399,104400,104401,104402,104403,104404,104405,104406,104407,104408,104409,104410,104411,104412,104413,104414,104415,104416,104417,104418,104419,104420,104421,104422,104423,104424,104425,104426,104427,104428,104429,104430,104431,104432,104433,104434,104435,104436,104437,104438,104439,104440,104441,104442,104443,104444,104445,104446,104447,104448,104449,104450,104451,104452,104453,104454,104455,104456,104457,104458,104459,104460,104461,104462,104463,104464,104465,104466,104467,104468,104469,104470,104471,104472,104473,104474,104475,104476,104477,104478,104479,104480,104481,104482,104483,104484,104485,104486,104487,104488,104489,104490,104491,104492,104493,104494,104495,104496,104497,104498,104499,104500,104501,104502,104503,104504,104505,104506,104507,104508,104509,104510,104511,104512,104513,104514,104515,104516,104517,104518,104519,104520,104521,104522,104523,104524,104525,104526,104527,104528,104529,104530,104531,104532,104533,104534,104535,104536,104537,104538,104539,104540,104541,104542,104543,104544,104545,104546,104547,104548,104549,104550,104551,104552,104553,104554,104555,104556,104557,104558,104559,104560,104561,104562,104563,104564,104565,104566,104567,104568,104569,104570,104571,104572,104573,104574,104575,104576,104577,104578,104579,104580,104581],\"level_0\":[0,1,2,3,4,5,6,7,8,9,10,11,12,13,14,15,16,17,18,19,20,21,22,23,24,25,26,27,28,29,30,31,32,33,34,35,36,37,38,39,40,41,42,43,44,45,46,47,48,49,50,51,52,53,54,55,56,57,58,59,60,61,62,63,64,65,66,67,68,69,70,71,72,73,74,75,76,77,78,79,80,81,82,83,84,85,86,87,88,89,90,91,92,93,94,95,96,97,98,99,100,101,102,103,104,105,106,107,108,109,110,111,112,113,114,115,116,117,118,119,120,121,122,123,124,125,126,127,128,129,130,131,132,133,134,135,136,137,138,139,140,141,142,143,144,145,146,147,148,149,150,151,152,153,154,155,156,157,158,159,160,161,162,163,164,165,166,167,168,169,170,171,172,173,174,175,176,177,178,179,180,181,182,183,184,185,186,187,188,189,190,191,192,193,194,195,196,197,198,199,200,201,202,203,204,205,206,207,208,209,210,211,212,213,214,215,216,217,218,219,220,221,222,223,224,225,226,227,228,229,230,231,232,233,234,235,236,237,238,239,240,241,242,243,244,245,246,247,248,249,250,251,252,253,254,255,256,257,258,259,260,261,262,263,264,265,266,267,268,269,270,271,272,273,274,275,276,277,278,279,280,281,282,283,284,285,286,287,288,289,290,291,292,293,294,295,296,297,298,299,300,301,302,303,304,305,306,307,308,309,310,311,312,313,314,315,316,317,318,319,320,321,322,323,324,325,326,327,328,329,330,331,332,333,334,335,336,337,338,339,340,341,342,343,344,345,346,347,348,349,350,351,352,353,354,355,356,357,358,359,360,361,362,363,364],\"station\":{\"__ndarray__\":\"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\",\"dtype\":\"float64\",\"order\":\"little\",\"shape\":[365]},\"tmax\":{\"__ndarray__\":\"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\",\"dtype\":\"float64\",\"order\":\"little\",\"shape\":[365]},\"tmean\":{\"__ndarray__\":\"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\",\"dtype\":\"float64\",\"order\":\"little\",\"shape\":[365]},\"tmin\":{\"__ndarray__\":\"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\",\"dtype\":\"float64\",\"order\":\"little\",\"shape\":[365]}},\"selected\":{\"id\":\"3272\"},\"selection_policy\":{\"id\":\"3271\"}},\"id\":\"3067\",\"type\":\"ColumnDataSource\"},{\"attributes\":{\"months\":[0,4,8]},\"id\":\"3283\",\"type\":\"MonthsTicker\"},{\"attributes\":{},\"id\":\"3073\",\"type\":\"LinearScale\"},{\"attributes\":{\"axis\":{\"id\":\"3077\"},\"coordinates\":null,\"grid_line_color\":\"white\",\"group\":null,\"ticker\":null},\"id\":\"3080\",\"type\":\"Grid\"},{\"attributes\":{\"fill_alpha\":{\"value\":0.3},\"fill_color\":{\"value\":\"green\"},\"hatch_color\":{\"value\":\"green\"},\"line_color\":{\"value\":null},\"size\":{\"value\":5},\"x\":{\"field\":\"date\"},\"y\":{\"field\":\"tmean\"}},\"id\":\"3098\",\"type\":\"Scatter\"},{\"attributes\":{\"fill_alpha\":{\"value\":0.2},\"fill_color\":{\"value\":\"green\"},\"hatch_alpha\":{\"value\":0.2},\"hatch_color\":{\"value\":\"green\"},\"line_alpha\":{\"value\":0.2},\"line_color\":{\"value\":null},\"size\":{\"value\":5},\"x\":{\"field\":\"date\"},\"y\":{\"field\":\"tmean\"}},\"id\":\"3100\",\"type\":\"Scatter\"},{\"attributes\":{},\"id\":\"3270\",\"type\":\"AllLabels\"},{\"attributes\":{},\"id\":\"3075\",\"type\":\"LinearScale\"},{\"attributes\":{\"overlay\":{\"id\":\"3090\"}},\"id\":\"3087\",\"type\":\"BoxZoomTool\"},{\"attributes\":{},\"id\":\"3069\",\"type\":\"DataRange1d\"},{\"attributes\":{},\"id\":\"3086\",\"type\":\"WheelZoomTool\"},{\"attributes\":{},\"id\":\"3272\",\"type\":\"Selection\"},{\"attributes\":{},\"id\":\"3085\",\"type\":\"PanTool\"},{\"attributes\":{\"tools\":[{\"id\":\"3085\"},{\"id\":\"3086\"},{\"id\":\"3087\"},{\"id\":\"3088\"},{\"id\":\"3089\"}]},\"id\":\"3091\",\"type\":\"Toolbar\"},{\"attributes\":{},\"id\":\"3088\",\"type\":\"ResetTool\"},{\"attributes\":{},\"id\":\"3267\",\"type\":\"AllLabels\"},{\"attributes\":{},\"id\":\"3089\",\"type\":\"SaveTool\"},{\"attributes\":{\"coordinates\":null,\"data_source\":{\"id\":\"3067\"},\"glyph\":{\"id\":\"3098\"},\"group\":null,\"hover_glyph\":null,\"muted_glyph\":{\"id\":\"3100\"},\"nonselection_glyph\":{\"id\":\"3099\"},\"view\":{\"id\":\"3102\"}},\"id\":\"3101\",\"type\":\"GlyphRenderer\"},{\"attributes\":{},\"id\":\"3269\",\"type\":\"DatetimeTickFormatter\"}],\"root_ids\":[\"3068\"]},\"title\":\"Bokeh Application\",\"version\":\"2.4.2\"}};\n",
       "  const render_items = [{\"docid\":\"b7e1239e-2701-4b7c-8bc0-88c43c410cef\",\"root_ids\":[\"3068\"],\"roots\":{\"3068\":\"de8ce758-ab02-4a3c-91f7-e7398cb40a3f\"}}];\n",
       "  root.Bokeh.embed.embed_items_notebook(docs_json, render_items);\n",
       "\n",
       "  }\n",
       "  if (root.Bokeh !== undefined) {\n",
       "    embed_document(root);\n",
       "  } else {\n",
       "    let attempts = 0;\n",
       "    const timer = setInterval(function(root) {\n",
       "      if (root.Bokeh !== undefined) {\n",
       "        clearInterval(timer);\n",
       "        embed_document(root);\n",
       "      } else {\n",
       "        attempts++;\n",
       "        if (attempts > 100) {\n",
       "          clearInterval(timer);\n",
       "          console.log(\"Bokeh: ERROR: Unable to run BokehJS code because BokehJS library is missing\");\n",
       "        }\n",
       "      }\n",
       "    }, 10, root)\n",
       "  }\n",
       "})(window);"
      ],
      "application/vnd.bokehjs_exec.v0+json": ""
     },
     "metadata": {
      "application/vnd.bokehjs_exec.v0+json": {
       "id": "3068"
      }
     },
     "output_type": "display_data"
    },
    {
     "data": {
      "text/html": [
       "<div style=\"display: table;\"><div style=\"display: table-row;\"><div style=\"display: table-cell;\"><b title=\"bokeh.plotting.figure.Figure\">Figure</b>(</div><div style=\"display: table-cell;\">id&nbsp;=&nbsp;'3068', <span id=\"3402\" style=\"cursor: pointer;\">&hellip;)</span></div></div><div class=\"3401\" style=\"display: none;\"><div style=\"display: table-cell;\"></div><div style=\"display: table-cell;\">above&nbsp;=&nbsp;[],</div></div><div class=\"3401\" style=\"display: none;\"><div style=\"display: table-cell;\"></div><div style=\"display: table-cell;\">align&nbsp;=&nbsp;'start',</div></div><div class=\"3401\" style=\"display: none;\"><div style=\"display: table-cell;\"></div><div style=\"display: table-cell;\">aspect_ratio&nbsp;=&nbsp;None,</div></div><div class=\"3401\" style=\"display: none;\"><div style=\"display: table-cell;\"></div><div style=\"display: table-cell;\">aspect_scale&nbsp;=&nbsp;1,</div></div><div class=\"3401\" style=\"display: none;\"><div style=\"display: table-cell;\"></div><div style=\"display: table-cell;\">background&nbsp;=&nbsp;None,</div></div><div class=\"3401\" style=\"display: none;\"><div style=\"display: table-cell;\"></div><div style=\"display: table-cell;\">background_fill_alpha&nbsp;=&nbsp;1.0,</div></div><div class=\"3401\" style=\"display: none;\"><div style=\"display: table-cell;\"></div><div style=\"display: table-cell;\">background_fill_color&nbsp;=&nbsp;'#ffffff',</div></div><div class=\"3401\" style=\"display: none;\"><div style=\"display: table-cell;\"></div><div style=\"display: table-cell;\">below&nbsp;=&nbsp;[DatetimeAxis(id='3077', ...)],</div></div><div class=\"3401\" style=\"display: none;\"><div style=\"display: table-cell;\"></div><div style=\"display: table-cell;\">border_fill_alpha&nbsp;=&nbsp;1.0,</div></div><div class=\"3401\" style=\"display: none;\"><div style=\"display: table-cell;\"></div><div style=\"display: table-cell;\">border_fill_color&nbsp;=&nbsp;'#ffffff',</div></div><div class=\"3401\" style=\"display: none;\"><div style=\"display: table-cell;\"></div><div style=\"display: table-cell;\">center&nbsp;=&nbsp;[Grid(id='3080', ...), Grid(id='3084', ...), Band(id='3103', ...)],</div></div><div class=\"3401\" style=\"display: none;\"><div style=\"display: table-cell;\"></div><div style=\"display: table-cell;\">css_classes&nbsp;=&nbsp;[],</div></div><div class=\"3401\" style=\"display: none;\"><div style=\"display: table-cell;\"></div><div style=\"display: table-cell;\">disabled&nbsp;=&nbsp;False,</div></div><div class=\"3401\" style=\"display: none;\"><div style=\"display: table-cell;\"></div><div style=\"display: table-cell;\">extra_x_ranges&nbsp;=&nbsp;{},</div></div><div class=\"3401\" style=\"display: none;\"><div style=\"display: table-cell;\"></div><div style=\"display: table-cell;\">extra_x_scales&nbsp;=&nbsp;{},</div></div><div class=\"3401\" style=\"display: none;\"><div style=\"display: table-cell;\"></div><div style=\"display: table-cell;\">extra_y_ranges&nbsp;=&nbsp;{},</div></div><div class=\"3401\" style=\"display: none;\"><div style=\"display: table-cell;\"></div><div style=\"display: table-cell;\">extra_y_scales&nbsp;=&nbsp;{},</div></div><div class=\"3401\" style=\"display: none;\"><div style=\"display: table-cell;\"></div><div style=\"display: table-cell;\">frame_height&nbsp;=&nbsp;None,</div></div><div class=\"3401\" style=\"display: none;\"><div style=\"display: table-cell;\"></div><div style=\"display: table-cell;\">frame_width&nbsp;=&nbsp;None,</div></div><div class=\"3401\" style=\"display: none;\"><div style=\"display: table-cell;\"></div><div style=\"display: table-cell;\">height&nbsp;=&nbsp;600,</div></div><div class=\"3401\" style=\"display: none;\"><div style=\"display: table-cell;\"></div><div style=\"display: table-cell;\">height_policy&nbsp;=&nbsp;'auto',</div></div><div class=\"3401\" style=\"display: none;\"><div style=\"display: table-cell;\"></div><div style=\"display: table-cell;\">hidpi&nbsp;=&nbsp;True,</div></div><div class=\"3401\" style=\"display: none;\"><div style=\"display: table-cell;\"></div><div style=\"display: table-cell;\">inner_height&nbsp;=&nbsp;0,</div></div><div class=\"3401\" style=\"display: none;\"><div style=\"display: table-cell;\"></div><div style=\"display: table-cell;\">inner_width&nbsp;=&nbsp;0,</div></div><div class=\"3401\" style=\"display: none;\"><div style=\"display: table-cell;\"></div><div style=\"display: table-cell;\">js_event_callbacks&nbsp;=&nbsp;{},</div></div><div class=\"3401\" style=\"display: none;\"><div style=\"display: table-cell;\"></div><div style=\"display: table-cell;\">js_property_callbacks&nbsp;=&nbsp;{},</div></div><div class=\"3401\" style=\"display: none;\"><div style=\"display: table-cell;\"></div><div style=\"display: table-cell;\">left&nbsp;=&nbsp;[LinearAxis(id='3081', ...)],</div></div><div class=\"3401\" style=\"display: none;\"><div style=\"display: table-cell;\"></div><div style=\"display: table-cell;\">lod_factor&nbsp;=&nbsp;10,</div></div><div class=\"3401\" style=\"display: none;\"><div style=\"display: table-cell;\"></div><div style=\"display: table-cell;\">lod_interval&nbsp;=&nbsp;300,</div></div><div class=\"3401\" style=\"display: none;\"><div style=\"display: table-cell;\"></div><div style=\"display: table-cell;\">lod_threshold&nbsp;=&nbsp;2000,</div></div><div class=\"3401\" style=\"display: none;\"><div style=\"display: table-cell;\"></div><div style=\"display: table-cell;\">lod_timeout&nbsp;=&nbsp;500,</div></div><div class=\"3401\" style=\"display: none;\"><div style=\"display: table-cell;\"></div><div style=\"display: table-cell;\">margin&nbsp;=&nbsp;(0, 0, 0, 0),</div></div><div class=\"3401\" style=\"display: none;\"><div style=\"display: table-cell;\"></div><div style=\"display: table-cell;\">match_aspect&nbsp;=&nbsp;False,</div></div><div class=\"3401\" style=\"display: none;\"><div style=\"display: table-cell;\"></div><div style=\"display: table-cell;\">max_height&nbsp;=&nbsp;None,</div></div><div class=\"3401\" style=\"display: none;\"><div style=\"display: table-cell;\"></div><div style=\"display: table-cell;\">max_width&nbsp;=&nbsp;None,</div></div><div class=\"3401\" style=\"display: none;\"><div style=\"display: table-cell;\"></div><div style=\"display: table-cell;\">min_border&nbsp;=&nbsp;5,</div></div><div class=\"3401\" style=\"display: none;\"><div style=\"display: table-cell;\"></div><div style=\"display: table-cell;\">min_border_bottom&nbsp;=&nbsp;None,</div></div><div class=\"3401\" style=\"display: none;\"><div style=\"display: table-cell;\"></div><div style=\"display: table-cell;\">min_border_left&nbsp;=&nbsp;None,</div></div><div class=\"3401\" style=\"display: none;\"><div style=\"display: table-cell;\"></div><div style=\"display: table-cell;\">min_border_right&nbsp;=&nbsp;None,</div></div><div class=\"3401\" style=\"display: none;\"><div style=\"display: table-cell;\"></div><div style=\"display: table-cell;\">min_border_top&nbsp;=&nbsp;None,</div></div><div class=\"3401\" style=\"display: none;\"><div style=\"display: table-cell;\"></div><div style=\"display: table-cell;\">min_height&nbsp;=&nbsp;None,</div></div><div class=\"3401\" style=\"display: none;\"><div style=\"display: table-cell;\"></div><div style=\"display: table-cell;\">min_width&nbsp;=&nbsp;None,</div></div><div class=\"3401\" style=\"display: none;\"><div style=\"display: table-cell;\"></div><div style=\"display: table-cell;\">name&nbsp;=&nbsp;None,</div></div><div class=\"3401\" style=\"display: none;\"><div style=\"display: table-cell;\"></div><div style=\"display: table-cell;\">outer_height&nbsp;=&nbsp;0,</div></div><div class=\"3401\" style=\"display: none;\"><div style=\"display: table-cell;\"></div><div style=\"display: table-cell;\">outer_width&nbsp;=&nbsp;0,</div></div><div class=\"3401\" style=\"display: none;\"><div style=\"display: table-cell;\"></div><div style=\"display: table-cell;\">outline_line_alpha&nbsp;=&nbsp;1.0,</div></div><div class=\"3401\" style=\"display: none;\"><div style=\"display: table-cell;\"></div><div style=\"display: table-cell;\">outline_line_cap&nbsp;=&nbsp;'butt',</div></div><div class=\"3401\" style=\"display: none;\"><div style=\"display: table-cell;\"></div><div style=\"display: table-cell;\">outline_line_color&nbsp;=&nbsp;'#e5e5e5',</div></div><div class=\"3401\" style=\"display: none;\"><div style=\"display: table-cell;\"></div><div style=\"display: table-cell;\">outline_line_dash&nbsp;=&nbsp;[],</div></div><div class=\"3401\" style=\"display: none;\"><div style=\"display: table-cell;\"></div><div style=\"display: table-cell;\">outline_line_dash_offset&nbsp;=&nbsp;0,</div></div><div class=\"3401\" style=\"display: none;\"><div style=\"display: table-cell;\"></div><div style=\"display: table-cell;\">outline_line_join&nbsp;=&nbsp;'bevel',</div></div><div class=\"3401\" style=\"display: none;\"><div style=\"display: table-cell;\"></div><div style=\"display: table-cell;\">outline_line_width&nbsp;=&nbsp;1,</div></div><div class=\"3401\" style=\"display: none;\"><div style=\"display: table-cell;\"></div><div style=\"display: table-cell;\">output_backend&nbsp;=&nbsp;'canvas',</div></div><div class=\"3401\" style=\"display: none;\"><div style=\"display: table-cell;\"></div><div style=\"display: table-cell;\">renderers&nbsp;=&nbsp;[GlyphRenderer(id='3101', ...)],</div></div><div class=\"3401\" style=\"display: none;\"><div style=\"display: table-cell;\"></div><div style=\"display: table-cell;\">reset_policy&nbsp;=&nbsp;'standard',</div></div><div class=\"3401\" style=\"display: none;\"><div style=\"display: table-cell;\"></div><div style=\"display: table-cell;\">right&nbsp;=&nbsp;[],</div></div><div class=\"3401\" style=\"display: none;\"><div style=\"display: table-cell;\"></div><div style=\"display: table-cell;\">sizing_mode&nbsp;=&nbsp;None,</div></div><div class=\"3401\" style=\"display: none;\"><div style=\"display: table-cell;\"></div><div style=\"display: table-cell;\">subscribed_events&nbsp;=&nbsp;[],</div></div><div class=\"3401\" style=\"display: none;\"><div style=\"display: table-cell;\"></div><div style=\"display: table-cell;\">syncable&nbsp;=&nbsp;True,</div></div><div class=\"3401\" style=\"display: none;\"><div style=\"display: table-cell;\"></div><div style=\"display: table-cell;\">tags&nbsp;=&nbsp;[],</div></div><div class=\"3401\" style=\"display: none;\"><div style=\"display: table-cell;\"></div><div style=\"display: table-cell;\">title&nbsp;=&nbsp;Title(id='3105', ...),</div></div><div class=\"3401\" style=\"display: none;\"><div style=\"display: table-cell;\"></div><div style=\"display: table-cell;\">title_location&nbsp;=&nbsp;'above',</div></div><div class=\"3401\" style=\"display: none;\"><div style=\"display: table-cell;\"></div><div style=\"display: table-cell;\">toolbar&nbsp;=&nbsp;Toolbar(id='3091', ...),</div></div><div class=\"3401\" style=\"display: none;\"><div style=\"display: table-cell;\"></div><div style=\"display: table-cell;\">toolbar_location&nbsp;=&nbsp;'right',</div></div><div class=\"3401\" style=\"display: none;\"><div style=\"display: table-cell;\"></div><div style=\"display: table-cell;\">toolbar_sticky&nbsp;=&nbsp;True,</div></div><div class=\"3401\" style=\"display: none;\"><div style=\"display: table-cell;\"></div><div style=\"display: table-cell;\">visible&nbsp;=&nbsp;True,</div></div><div class=\"3401\" style=\"display: none;\"><div style=\"display: table-cell;\"></div><div style=\"display: table-cell;\">width&nbsp;=&nbsp;600,</div></div><div class=\"3401\" style=\"display: none;\"><div style=\"display: table-cell;\"></div><div style=\"display: table-cell;\">width_policy&nbsp;=&nbsp;'auto',</div></div><div class=\"3401\" style=\"display: none;\"><div style=\"display: table-cell;\"></div><div style=\"display: table-cell;\">x_range&nbsp;=&nbsp;DataRange1d(id='3069', ...),</div></div><div class=\"3401\" style=\"display: none;\"><div style=\"display: table-cell;\"></div><div style=\"display: table-cell;\">x_scale&nbsp;=&nbsp;LinearScale(id='3073', ...),</div></div><div class=\"3401\" style=\"display: none;\"><div style=\"display: table-cell;\"></div><div style=\"display: table-cell;\">y_range&nbsp;=&nbsp;DataRange1d(id='3071', ...),</div></div><div class=\"3401\" style=\"display: none;\"><div style=\"display: table-cell;\"></div><div style=\"display: table-cell;\">y_scale&nbsp;=&nbsp;LinearScale(id='3075', ...))</div></div></div>\n",
       "<script>\n",
       "(function() {\n",
       "  let expanded = false;\n",
       "  const ellipsis = document.getElementById(\"3402\");\n",
       "  ellipsis.addEventListener(\"click\", function() {\n",
       "    const rows = document.getElementsByClassName(\"3401\");\n",
       "    for (let i = 0; i < rows.length; i++) {\n",
       "      const el = rows[i];\n",
       "      el.style.display = expanded ? \"none\" : \"table-row\";\n",
       "    }\n",
       "    ellipsis.innerHTML = expanded ? \"&hellip;)\" : \"&lsaquo;&lsaquo;&lsaquo;\";\n",
       "    expanded = !expanded;\n",
       "  });\n",
       "})();\n",
       "</script>\n"
      ],
      "text/plain": [
       "Figure(id='3068', ...)"
      ]
     },
     "execution_count": 225,
     "metadata": {},
     "output_type": "execute_result"
    }
   ],
   "source": [
    "from bokeh.io import output_notebook\n",
    "from bokeh.plotting import figure, show\n",
    "from bokeh.models import Band\n",
    "from bokeh.layouts import gridplot\n",
    "from bokeh.plotting import ColumnDataSource\n",
    "import numpy as np\n",
    "output_notebook()\n",
    "\n",
    "# function to make a plot for temperature data\n",
    "def make_plot(df):\n",
    "    # Smooth data of df\n",
    "    df2 = smooth(df)\n",
    "    df2 = df2.fillna(method='bfill')\n",
    "    \n",
    "    df = pd.concat([df, df2], axis=1)\n",
    "    source = ColumnDataSource(df.reset_index())\n",
    "\n",
    "    TOOLS = \"pan,wheel_zoom,box_zoom,reset,save\"\n",
    "    p = figure(tools=TOOLS, x_axis_type='datetime')\n",
    "    \n",
    "    p.scatter(x='date', y='tmean', line_color=None, fill_alpha=0.3, size=5, source=source, color=\"green\")\n",
    "    \n",
    "    band = Band(base=\"date\", lower='tmin', upper='tmax', source=source, level='underlay',\n",
    "            fill_alpha=1.0, line_width=2, line_color='maroon')\n",
    "    p.add_layout(band)\n",
    "\n",
    "    p.title.text = \"Temperature of 2018 in Leeuwarden\"\n",
    "    p.xgrid[0].grid_line_color=None\n",
    "    p.ygrid[0].grid_line_alpha=0.5\n",
    "    p.xaxis.axis_label = \"Date\"\n",
    "    p.yaxis.axis_label = \"Temperature in Centidegrees\"\n",
    "    p.grid.grid_line_color=\"white\"\n",
    "\n",
    "    show(p)\n",
    "    return p\n",
    "\n",
    "make_plot(df_2018)\n"
   ]
  },
  {
   "cell_type": "markdown",
   "metadata": {},
   "source": [
    "---"
   ]
  },
  {
   "cell_type": "markdown",
   "metadata": {},
   "source": [
    "<a name='5'></a>\n",
    "## Part 6: Challenge"
   ]
  },
  {
   "cell_type": "markdown",
   "metadata": {},
   "source": [
    "Make a widget in which you can select the year range for the multiyear set. Add this to your layout to make the plot interactive. Add another widget to select or deselect the smoother. Inspiration: https://demo.bokeh.org/weather"
   ]
  },
  {
   "cell_type": "code",
   "execution_count": null,
   "metadata": {},
   "outputs": [],
   "source": []
  }
 ],
 "metadata": {
  "kernelspec": {
   "display_name": "Python 3 (ipykernel)",
   "language": "python",
   "name": "python3"
  },
  "language_info": {
   "codemirror_mode": {
    "name": "ipython",
    "version": 3
   },
   "file_extension": ".py",
   "mimetype": "text/x-python",
   "name": "python",
   "nbconvert_exporter": "python",
   "pygments_lexer": "ipython3",
   "version": "3.9.6"
  }
 },
 "nbformat": 4,
 "nbformat_minor": 2
}
